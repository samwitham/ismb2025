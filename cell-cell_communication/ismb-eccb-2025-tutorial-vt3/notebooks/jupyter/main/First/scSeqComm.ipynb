{
 "cells": [
  {
   "cell_type": "markdown",
   "id": "217eb300-5fb5-4919-afbe-6de2aebf95c7",
   "metadata": {
    "vscode": {
     "languageId": "r"
    }
   },
   "source": [
    "# Cell-cell communication with scSeqComm\n",
    "This notebook outlines the steps of inference, analysis and visualization of cell-cell communication for a single-cell RNA sequencing data using **scSeqComm**. \n",
    "\n",
    "For comprehensive instructions and detailed descriptions of the methods, please refer to the official [DOCUMENTATION](https://sysbiobig.gitlab.io/scSeqComm/articles/scseqcomm.html). \n",
    "The source code is available on GitHub: [sysbiobig/scseqcomm](https://gitlab.com/sysbiobig/scseqcomm).\n",
    "\n",
    "## About scSeqComm\n",
    "scSeqComm is a computational method developed to identify and quantify both intercellular and intracellular signaling events from single-cell RNA-sequencing (scRNA-seq) data. In addition to detecting communication between cell types, it provides a functional characterization of the inferred signaling, linking molecular interactions to known biological processes. A key contribution of scSeqComm is its ability to assess the downstream impact of intercellular communication within the receiving cells.\n",
    "The central idea behind scSeqComm is to:\n",
    "- Strengthen the evidence supporting inferred intercellular signaling events, and\n",
    "- Enhance biological interpretability by functionally characterizing the intracellular response in target cells."
   ]
  },
  {
   "cell_type": "markdown",
   "id": "30b74899",
   "metadata": {
    "vscode": {
     "languageId": "r"
    }
   },
   "source": [
    "## Load the required libraries"
   ]
  },
  {
   "cell_type": "code",
   "execution_count": 1,
   "id": "12fc14e6-e40d-4e78-9875-e09e515245a6",
   "metadata": {
    "vscode": {
     "languageId": "r"
    }
   },
   "outputs": [
    {
     "name": "stderr",
     "output_type": "stream",
     "text": [
      "\n",
      "\n",
      "Loading required package: SeuratObject\n",
      "\n",
      "Loading required package: sp\n",
      "\n",
      "\n",
      "Attaching package: 'SeuratObject'\n",
      "\n",
      "\n",
      "The following objects are masked from 'package:base':\n",
      "\n",
      "    intersect, t\n",
      "\n",
      "\n"
     ]
    }
   ],
   "source": [
    "library(scSeqComm)\n",
    "library(Seurat)"
   ]
  },
  {
   "cell_type": "markdown",
   "id": "90871840-07e6-44e3-959d-2053501ef06c",
   "metadata": {},
   "source": [
    "## Data input \n",
    "scSeqComm requires five mandatory input files:\n",
    "- **counts file**: a normalized gene expression matrix.\n",
    "- **metadata file**: a table linking each cell barcode to its corresponding cell type or cluster label.\n",
    "- **ligand-receptor pairs**: a set of putative ligand–receptor pairs used for inference.\n",
    "- **transcriptional regulatory network**: set of  set of transcription factors (TFs) and their target genes (TGs), to be used in intracellular signaling computation.\n",
    "- **receptor-transcription factor a-priori association**: a set of receptor-transcription factor (R-TF) a-priori association to be used in intracellular signaling computation."
   ]
  },
  {
   "cell_type": "markdown",
   "id": "77a4225d",
   "metadata": {
    "vscode": {
     "languageId": "r"
    }
   },
   "source": [
    "### Gene expression data matrix\n",
    "The gene expression data used for cell–cell communication analysis must be provided as a matrix where genes are represented by rows and cells by columns. It is essential that the row names correspond to gene names and the column names correspond to unique cell identifiers. Before analysis, the data must be normalized (e.g., library-size normalization and then log-transformed with a pseudocount of 1) is required. \n",
    "The normalized gene expression matrix can be provided as matrix object (not recommended for large datasets), dgCMatrix (recommended), or big.matrix object.\n",
    "\n"
   ]
  },
  {
   "cell_type": "code",
   "execution_count": null,
   "id": "dce68a53-c646-4a20-8413-0799c2eb7033",
   "metadata": {
    "vscode": {
     "languageId": "r"
    }
   },
   "outputs": [],
   "source": [
    "seurat_object <- readRDS(\"/Tutorial_ISMBECCB2025/data_vt3/first/2306scRNAseq_HMI_Ischemic.rds\")\n",
    "\n",
    "gene_expr <- seurat_object[[\"RNA\"]]@data # normalized data matrix"
   ]
  },
  {
   "cell_type": "markdown",
   "id": "79ee87a6-24b0-4cc2-a995-142779a55843",
   "metadata": {},
   "source": [
    "### Cell metadata\n",
    "The cell group information must be provided as dataframe object. There must be at least 2 columns, namely “Cell_ID” and “Cluster_ID” with cell identifiers and clustering/cell type assignment respectively. "
   ]
  },
  {
   "cell_type": "code",
   "execution_count": null,
   "id": "07078c81-3afa-4b37-ac85-eadcc2cd807c",
   "metadata": {
    "vscode": {
     "languageId": "r"
    }
   },
   "outputs": [],
   "source": [
    "cell_metadata <- data.frame(Cell_ID = row.names(seurat_object@meta.data), \n",
    "                            Cluster_ID = seurat_object@meta.data$cell_type)"
   ]
  },
  {
   "cell_type": "markdown",
   "id": "cc10b496-bc80-4f44-84e1-71ad227ce819",
   "metadata": {
    "vscode": {
     "languageId": "r"
    }
   },
   "source": [
    "### Ligand-receptor pairs\n",
    "Users must provide as input a set of ligand–receptor pairs to be used in intercellular signaling computation. For user convenience, scSeqComm includes 27 ligand–receptor pair databases derived from literature data of human (16 databases) and mouse (11 databases) species. Users can also specify their own ligand–receptor pairs in the form of an R data.frame. The data frame must contain two columns named “ligand” and “receptor”, with one ligand–receptor pair per row."
   ]
  },
  {
   "cell_type": "code",
   "execution_count": null,
   "id": "a7e6183a-f3a5-4900-aa60-6442f645ffce",
   "metadata": {
    "vscode": {
     "languageId": "r"
    }
   },
   "outputs": [],
   "source": [
    "# print available resources for human\n",
    "available_LR_pairs(species = \"human\")\n",
    "\n",
    "# let's use ConnectomeDB 2020 database\n",
    "LRdb <- LR_pairs_ConnectomeDB_2020\n",
    "head(LRdb)"
   ]
  },
  {
   "cell_type": "markdown",
   "id": "3760af3b-6cf1-42e9-a204-08759c534952",
   "metadata": {
    "vscode": {
     "languageId": "r"
    }
   },
   "source": [
    "### Transcriptional regulatory network\n",
    "To enable downstream analysis of intracellular signaling responses, users must provide a transcriptional regulatory network as input. This network consists of transcription factors (TFs) and their corresponding target genes (TGs).\n",
    "For convenience, scSeqComm includes several curated TF–TG databases derived from literature sources. \n",
    "Alternatively, users can provide their own custom TF–TG network as an R named list, where each list element represents a transcription factor and contains a vector of its associated target genes."
   ]
  },
  {
   "cell_type": "code",
   "execution_count": null,
   "id": "2bc46ecb-70f0-40b8-a753-8123de655da7",
   "metadata": {
    "vscode": {
     "languageId": "r"
    }
   },
   "outputs": [],
   "source": [
    "# print available resources for human\n",
    "available_TF_TG(species = \"human\")\n",
    "\n",
    "# let's use Dorothea database\n",
    "TFTGdb <- TF_TG_Dorothea\n",
    "\n",
    "# and print the first few entries\n",
    "print(head(TFTGdb,2))"
   ]
  },
  {
   "cell_type": "markdown",
   "id": "a8c68af0-1489-4ab8-b9ac-c881b2b5b443",
   "metadata": {
    "vscode": {
     "languageId": "r"
    }
   },
   "source": [
    "### Receptor-Transcription factor a-priori association from gene signaling networks\n",
    "For intracellular signaling inference, users must provide a data frame describing receptor–transcription factor (R–TF) a priori associations.\n",
    "scSeqComm includes four precomputed R–TF association datasets for human and mouse, derived from KEGG and Reactome signaling pathways. These associations are computed using the Personalized PageRank (PPR) algorithm, where receptors serve as seed nodes to rank transcription factors based on pathway connectivity.\n",
    "\n",
    "Users can also supply a custom R–TF association as an R data.frame with four required columns:\n",
    "- receptor: receptor gene name\n",
    "- pathway: pathway name\n",
    "- tf: transcription factor name\n",
    "- tf_PPR: association score (e.g., PPR score)"
   ]
  },
  {
   "cell_type": "code",
   "execution_count": null,
   "id": "7a892329-bbda-475d-bcaf-23c3be6425fe",
   "metadata": {
    "vscode": {
     "languageId": "r"
    }
   },
   "outputs": [],
   "source": [
    "# print available resources for human\n",
    "available_TF_PPR(species = \"human\")\n",
    "\n",
    "#let's use the pre-computed R-TF association from KEGG database\n",
    "RTF_association <- TF_PPR_KEGG_human\n",
    "head(RTF_association)"
   ]
  },
  {
   "cell_type": "markdown",
   "id": "d3c1a814-24d7-46ec-b39d-a024a424a772",
   "metadata": {
    "vscode": {
     "languageId": "r"
    }
   },
   "source": [
    "# Inference of cell-cell communication\n",
    "scSeqComm infers and quantifies both intercellular and intracellular signaling using a combination of statistical methods and network science techniques. \n",
    "\n",
    "Intercellular Signaling key concepts\n",
    "- **Ligand score and receptor score**: measuring how much the observed ligand (receptor) average expression level is high compared to the average expression levels observable by chance for random genes in the same cluster\n",
    "- **Intercellular score**: defined as the minimum between ligand score in the source cluster and receptor score in receiver cluster.\n",
    "\n",
    "Intracellular analysis key concepts:\n",
    "- **Graph topology**: computing the personalized PageRank scores of each TF node using as seed nodes the receptor node. For each receptor and pathway, scSeqComm use it as a measure of how much the given receptor R is associated with the given TF in pathway p \n",
    "- **Transcriptomic evidence of intracellular signaling**: performance of statistical tests to score the activity of transcription factor based on its DEG target gene\n",
    "- **Intracellular score**: For each receptor-pathway combination within a receiving cell cluster, the final score is calculated as a weighted mean of the receptor–TF network score (PageRank) and the transcriptomic evidence score. \n",
    "\n",
    "\n",
    "It takes few minutes to run."
   ]
  },
  {
   "cell_type": "code",
   "execution_count": null,
   "id": "abd11238",
   "metadata": {
    "vscode": {
     "languageId": "r"
    }
   },
   "outputs": [],
   "source": [
    "scSeqComm_res <- scSeqComm_analyze(gene_expr = gene_expr,                   # normalized gene expression matrix\n",
    "                                  cell_metadata =  cell_metadata,           # A data.frame containing metadata information for each\n",
    "\n",
    "                                  inter_signaling = T,                      # wheter comppute intercellular signaling\n",
    "                                  LR_pairs_DB = LRdb,                       #A ligand-receptor pairs database in the form of a data.frame\n",
    "                                  inter_scores = \"scSeqComm\",               # Intercellular signaling scoring schemes to be computed (default \"scSeqComm\")\n",
    "                                  min_cells = 30,                           # Minimum number of cells that a cluster (i.e. cell type) should be composed of to compute scSeqComm score\n",
    "\n",
    "                                  intra_signaling = T,                      # wheter comppute intracellular signaling\n",
    "                                  TF_reg_DB = TFTGdb,                       # A transcriptional regulatory networks database in the form of a named list.\n",
    "                                  R_TF_association = RTF_association,       # Receptor-transcription factor a-priori association from gene signaling networks in the form of a data.frame\n",
    "                                  count_thr = 1,                            # A number representing the threshold to be used to limit DE testing genes. Genes which has an expression level > threshold in at least 25% of cells in one of the two group of cells are tested for DE. \n",
    "\n",
    "                                  N_cores = 2,                              # Number of core to be used during parallel computation.\n",
    "                                  backend = \"doParallel\")                   # A character string specifying the parallel backend package to be used during parallel computation,i.e. one between \"doParallel\" or \"doMC\" (Default: \"doParallel\")"
   ]
  },
  {
   "cell_type": "markdown",
   "id": "64968930",
   "metadata": {
    "vscode": {
     "languageId": "r"
    }
   },
   "source": [
    "## Description of the output\n",
    "The output of scSeqComm_analyze() is a list of three elements:\n",
    "- **comm_results**: a dataframe containing detailed information on both intercellular and intracellular signaling for each ligand–receptor pair across all pairs of cell clusters.\n",
    "- **LR_pairs_DB_scrnaseq**: a subset of input ligand-receptor pairs database LR_pairs_DB that includes only ligands and receptors that are present in the input scRNA-seq data\n",
    "- **TF_reg_DB_scrnaseq**: a subset of input transcriptional regulatory networks database TF_reg_DB that includes only target genes that are present in the input scRNA-seq data\n"
   ]
  },
  {
   "cell_type": "code",
   "execution_count": null,
   "id": "bb1e7199",
   "metadata": {
    "vscode": {
     "languageId": "r"
    }
   },
   "outputs": [],
   "source": [
    "names(scSeqComm_res)"
   ]
  },
  {
   "cell_type": "markdown",
   "id": "0ee10ddc",
   "metadata": {},
   "source": [
    "The main output is the dataframe (comm_results) quantifying the ongoing cellular communication in terms of \n",
    "- Evidence of intercellular signaling between source and target clusters.\n",
    "- Evidence of intracellular signaling within the receiving cell cluster.\n",
    "\n",
    "**Key columns related to intercellular communication**\n",
    "The comm_results dataframe includes several key columns that describe intercellular signaling between cell clusters. These include: \n",
    "- *ligand*: Name of the ligand gene.\n",
    "- *cluster_L*: Name of the source (ligand-expressing) cell cluster.\n",
    "- *receptor*: Name of the receptor gene.\n",
    "- *cluster_R*: Name of the receiver (receptor-expressing) cell cluster.\n",
    "- *L_score_S_lr*: Ligand score — measures the expression level of the ligand in the source cluster, relative to random gene expression.\n",
    "- *R_score_S_lr*: Receptor score — measures the expression level of the receptor in the receiver cluster, relative to random gene expression.\n",
    "- *S_inter*: Intercellular signaling score — a value between 0 and 1 representing the strength of inferred intercellular communication between the source and receiver cell clusters\n",
    "\n",
    "\n",
    "**Key columns related to intracellular communication**\n",
    "The comm_results dataframe also includes columns describing the downstream intracellular signaling events triggered in the receiver cell cluster. These columns include:\n",
    "- *receptor*: Name of the receptor gene involved in the signaling.\n",
    "- *cluster_R*: Name of the receiver (receptor-expressing) cell cluster.\n",
    "- *pathway*: Name of the signaling pathway (e.g., from KEGG or Reactome) linking the receptor to downstream transcriptional responses.\n",
    "- *S_intra*: Intracellular signaling score — a value between 0 and 1 indicating the strength of inferred intracellular signaling.\n",
    "- *genes*: DE target gene downstream of the receptor through the specified pathway.\n",
    "- *up_genes* / *down_genes*: Lists of up-regulated and down-regulated target genes (from differential expression analysis) connected to the receptor via the pathway.\n",
    "\n",
    "> A cellular communication can trigger different cellular responses in the receiving cell through different pathways: thus, to a ligand-receptor pair and cell cluster pair can be associated to multiple S_intra scores. Receptors with no known downstream signaling genes will have NA values in columns related to intracellular evidence."
   ]
  },
  {
   "cell_type": "code",
   "execution_count": null,
   "id": "75bf2945",
   "metadata": {
    "vscode": {
     "languageId": "r"
    }
   },
   "outputs": [],
   "source": [
    "head(scSeqComm_res$comm_results)"
   ]
  },
  {
   "cell_type": "markdown",
   "id": "cc683124",
   "metadata": {},
   "source": [
    "## Interpreting and visualizing the outputs\n",
    "The results of scSeqComm_analyze() are multidimensional, involving multiple ligand–receptor pairs, numerous cell clusters, several signaling pathways. Therefore, scSeqComm provides to users a set of functions to select and summarize results of interest.\n",
    "\n",
    "### Prioritizing Key Interactions\n",
    "Often users want to prioritize their analyses, focusing on the strongest signals and, eventually, on the cellular communications of interest. The function scSeqComm_select() selects a subset of the inferred intercellular and intracellular signaling, by providing as input the selection criteria to be used for filtering the corresponding columns of the input data.frame (e.g. comm_results).\n",
    "This function enables flexible subsetting of results based on custom selection criteria, such as: \n",
    "- Minimum S_inter or S_intra score thresholds\n",
    "- Specific ligand or receptor genes\n",
    "- Specific Ssender and receiver cell types\n",
    "- Specific pathway names"
   ]
  },
  {
   "cell_type": "code",
   "execution_count": null,
   "id": "a35f82bb",
   "metadata": {
    "vscode": {
     "languageId": "r"
    }
   },
   "outputs": [],
   "source": [
    "## select cellular communication \n",
    "head(scSeqComm_select(scSeqComm_res$comm_results,                   # Data.frame comm_results obtained as output of scSeqComm_analyze() function.\n",
    "                                  S_inter = 0.5,                    # A numeric value of S_inter score used as threshold\n",
    "                                  S_intra = 0.5,                    # A numeric value of S_intra score used as threshold\n",
    "                                  ligand = c('TGFB1'),              # A string or an array of strings representing ligand names to select.\n",
    "                                  receptor = c(\"TGFBR2\", \"TGFBR3\"), # A string or an array of strings representing receptor names to select.\n",
    "                                  cluster_L = \"CM\",                 # A string or an array of strings representing \"sender\" (i.e. ligand expressing) cell cluster names to select.\n",
    "                                  cluster_R = \"Fib\"))              # A string or an array of strings representing \"receiver\" (i.e. receptor expressing) cell cluster names to select.\n"
   ]
  },
  {
   "cell_type": "markdown",
   "id": "d56a1061",
   "metadata": {},
   "source": [
    "In addition to filtering cellular communication results, scSeqComm allows users to summarize intracellular signaling evidence to facilitate interpretation and visualization. A given ligand–receptor pair between two cell clusters may be associated with multiple instances of intracellular signaling, each corresponding to a different KEGG or Reactome pathway that includes the receptor. As a result, several S_intra scores can be linked to the same receptor within a specific receiving cluster.\n",
    "\n",
    "The function scSeqComm_summarize_S_intra() helps reduce this complexity by summarizing the intracellular signaling results. It does so by selecting the highest S_intra score among all the values associated with each receptor in a receiving cluster. This summarization provides a streamlined view of the results, where each ligand–receptor pair and cluster pair is represented by a single row corresponding to the strongest intracellular signaling evidence.\n",
    "\n",
    "This approach enables users to interpret results at the ligand–receptor level and simplifies downstream analysis and visualization."
   ]
  },
  {
   "cell_type": "code",
   "execution_count": null,
   "id": "c8d6e01b",
   "metadata": {
    "vscode": {
     "languageId": "r"
    }
   },
   "outputs": [],
   "source": [
    "#summarise S_intra score for each ligand-receptor pair and cell cluster couple as max S_intra values\n",
    "inter_max_intra_scores <- scSeqComm_summaryze_S_intra(scSeqComm_res$comm_results)\n"
   ]
  },
  {
   "cell_type": "markdown",
   "id": "4e9f6a34",
   "metadata": {},
   "source": [
    "### Heatmap and Chordiagram: Visualizing Ligand–Receptor Interaction Counts\n",
    "\n",
    "To help users explore the overall intensity of cell–cell communication, scSeqComm provides two visualization functions: scSeqComm_chordiag_cardinality() and scSeqComm_heatmap_cardinality(). Both functions display the cardinality (i.e., count) of ligand–receptor (LR) interactions between pairs of cell clusters.\n",
    "\n",
    "While they represent the same underlying data, each function uses a distinct visualization technique:\n",
    "- scSeqComm_chordiag_cardinality() generates a bipartite interactive chord diagram. This diagram illustrates signaling as arcs connecting sender and receiver clusters, where the arc width reflects the number of LR interactions. The outer arcs represent the total number of incoming and outgoing signals per cluster. This visualization is displayed in the RStudio Viewer panel.\n",
    "- scSeqComm_heatmap_cardinality() produces a heatmap, where each cell represents the number of LR interactions from a source cluster (row) to a target cluster (column), providing a compact and quantitative overview.\n",
    "\n",
    "These visualizations provide intuitive insights into the structure of intercellular communication networks, highlighting the most active sending and receiving cell types within the system.\n",
    "\n",
    "Since the visualization operates at the ligand–receptor (LR) pair level, it is recommended to use the summarized version of intracellular signaling. "
   ]
  },
  {
   "cell_type": "code",
   "execution_count": null,
   "id": "af3729a0",
   "metadata": {
    "vscode": {
     "languageId": "r"
    }
   },
   "outputs": [],
   "source": [
    "## select the strongest communicatiom\n",
    "selected_comm <- scSeqComm_select(inter_max_intra_scores,           # Data.frame comm_results obtained as output of scSeqComm_analyze() function.\n",
    "                                  S_inter = 0.8,                    # A numeric value of S_inter score used as threshold\n",
    "                                  S_intra = 0.8)                    # A numeric value of S_intra score used as threshold\n",
    "\n",
    "\n",
    "scSeqComm_heatmap_cardinality(data = selected_comm,                                                                 # A dataframe containing results of signaling analysis.\n",
    "                              title = \"Ongoing cellular communication (inter- and intra-cellular evidence)\")        # A character string to be used as title of plot"
   ]
  },
  {
   "cell_type": "code",
   "execution_count": null,
   "id": "3b001f97-6a63-433b-b5b2-abad0c0d7832",
   "metadata": {
    "vscode": {
     "languageId": "r"
    }
   },
   "outputs": [],
   "source": [
    "scSeqComm_chorddiag_cardinality(data = selected_comm)"
   ]
  },
  {
   "cell_type": "markdown",
   "id": "03a83cf5",
   "metadata": {
    "vscode": {
     "languageId": "r"
    }
   },
   "source": [
    "### Dot Plot: Visualizing Relevant Ligand–Receptor Pairs\n",
    "To support the interpretation of both intercellular and intracellular signaling, scSeqComm provides several plotting functions that combine two visualization techniques: proportional area charts (dot size) and heatmaps (dot color) into a single, intuitive dot plot.\n",
    "The functions scSeqComm_plot_scores(), scSeqComm_plot_LR_pair(), and scSeqComm_plot_cluster_pair() allow users to visualize the combined signaling evidence inferred by the analysis.\n",
    "\n",
    "- Intercellular signaling evidence (S_inter score) using dot size\n",
    "- Intracellular signaling evidence (S_intra score) using dot color\n",
    "\n",
    "A grey dot indicates active intercellular communication (S_inter > 0), but no available intracellular evidence (i.e., S_intra is NA), typically due to the absence of known downstream pathways for the receptor."
   ]
  },
  {
   "cell_type": "markdown",
   "id": "d6088601",
   "metadata": {
    "vscode": {
     "languageId": "r"
    }
   },
   "source": [
    "#### Multiple LR pairs across multiple cell-type pair\n",
    "scSeqComm_plot_scores() function provides a global view of inferred signaling between all cell clusters by showing the S_inter and (maximum) S_intra scores for each ligand–receptor pair. Users can customize the plot layout by grouping the axes:\n",
    "- Rows can represent receptors (default) or ligands\n",
    "- Columns can represent receiver clusters (default) or sender clusters\n",
    "\n",
    "These flexible options allow users to explore signaling patterns from different biological perspectives—focusing on signal origin, target response, or specific molecular components."
   ]
  },
  {
   "cell_type": "code",
   "execution_count": null,
   "id": "59ab216e",
   "metadata": {
    "vscode": {
     "languageId": "r"
    }
   },
   "outputs": [],
   "source": [
    "# subset communication\n",
    "selected_comm = scSeqComm_select(inter_max_intra_scores, \n",
    "                                ligand = c(\"TGFB1\", \"SPP1\", \"COL1A1\"),\n",
    "                                cluster_L = c(\"CM\", \"Fib\"))\n",
    "\n",
    "\n",
    "scSeqComm_plot_scores(data = selected_comm,                             # A data frame containing results of signaling analysis.\n",
    "                      title = \"Intercellular and intracellular\",        # A character string to be used as title of plot.\n",
    "                      facet_grid_x = \"cluster_L\",                       # A variable defining faceting group on columns dimension.\n",
    "                      facet_grid_y = \"ligand\")                          # A variable defining faceting group on row dimension."
   ]
  },
  {
   "cell_type": "markdown",
   "id": "346d5ae7",
   "metadata": {},
   "source": [
    "#### One Ligand-receptor pair or One cell-type pair\n",
    "Users can also visualize S_inter and (maximal) S_intra scores in more focused ways using the following functions:\n",
    "- scSeqComm_plot_LR_pair() allows the visualization of signaling activity for a specific ligand–receptor pair across all sender–receiver cell cluster combinations.\n",
    "- scSeqComm_plot_cluster_pair() focuses on a specific sender–receiver cell cluster pair, displaying the signaling activity across all ligand–receptor pairs involved in that interaction.\n",
    "\n",
    "These targeted visualizations are especially useful for investigating specific communication pathways or validating hypotheses about particular cell–cell interactions."
   ]
  },
  {
   "cell_type": "code",
   "execution_count": null,
   "id": "cae8cc24",
   "metadata": {
    "vscode": {
     "languageId": "r"
    }
   },
   "outputs": [],
   "source": [
    "scSeqComm_plot_LR_pair(data = inter_max_intra_scores,               # A data frame containing results of signaling analysis.\n",
    "                       title = \"COL1A1 - ITGA2\",                      # A character string to be used as title of plot.\n",
    "                       selected_LR_pair = \"COL1A1 - ITGA2\")           # String or array of strings containing ligand-receptor pairs to plot."
   ]
  },
  {
   "cell_type": "code",
   "execution_count": null,
   "id": "c21fd8fb",
   "metadata": {
    "vscode": {
     "languageId": "r"
    }
   },
   "outputs": [],
   "source": [
    "# plot scores contained in \"selected_comm\" for a selected cluster couple \n",
    "scSeqComm_plot_cluster_pair(data = selected_comm,                     # A data frame containing results of signaling analysis.\n",
    "                       title = \"Cardiomyocyte --> Fibroblast\",        # A character string to be used as title of plot.\n",
    "                       selected_cluster_pair = \"CM --> Fib\")          # String or array of strings containg cell clusters pairs to plot."
   ]
  },
  {
   "cell_type": "markdown",
   "id": "beff40ce",
   "metadata": {
    "vscode": {
     "languageId": "r"
    }
   },
   "source": [
    "### Dot Plot: Pathway-Level Analysis\n",
    "Similarly to scSeqComm_plot_scores() function, scSeqComm_plot_scores_pathway() function plots S_inter and S_intra scores for each ligand receptor pair and cell cluster couple, as well as information about pathways to which the intracellular evidence of the ongoing cellular communication is related.\n"
   ]
  },
  {
   "cell_type": "code",
   "execution_count": null,
   "id": "2f6d7daf",
   "metadata": {
    "vscode": {
     "languageId": "r"
    }
   },
   "outputs": [],
   "source": [
    "# set of ligand-receptor pairs of interest\n",
    "pairs <- c(\"TGFB1 - TGFBR1\",\"SPP1 - ITGA4\")\n",
    "\n",
    "# select communication involving above LR pairs\n",
    "selected_comm <- scSeqComm_select(scSeqComm_res$comm_results, \n",
    "                                  LR_pair = pairs,\n",
    "                                  cluster_L = \"CM\")\n",
    "\n",
    "# plots scores and pathway info\n",
    "options(repr.plot.width = 10, repr.plot.height = 6)\n",
    "scSeqComm_plot_scores_pathway(data = selected_comm,             # A data frame containing results of signaling analysis.\n",
    "                              title = \"Pathway analysis\")       # A character string to be used as title of plot."
   ]
  },
  {
   "cell_type": "markdown",
   "id": "d29553f0",
   "metadata": {
    "vscode": {
     "languageId": "r"
    }
   },
   "source": [
    "### Functionally characterize cellular response\n",
    "\n",
    "\n",
    "scSeqComm enables users to functionally characterize the cellular response in receiving cells using the function scSeqComm_GO_analysis().\n",
    "\n",
    "This function performs a Gene Ontology (GO) enrichment analysis on the set of differentially expressed genes downstream of receptors, as listed in the list_genes column of comm_results. The enrichment identifies biological processes potentially activated as a result of inferred cell–cell communication.\n",
    "\n",
    "To ensure statistical robustness, users must provide a background gene list through the geneUniverse parameter. We recommend using the complete set of target genes included in the transcriptional regulatory network derived from the input scRNA-seq dataset (i.e., all genes appearing as targets in TF_reg_DB_scrnaseq).\n",
    "\n",
    "Before running GO analysis, users may optionally apply scSeqComm_select() to focus on a subset of cellular communications of interest—for example, by filtering for interactions with high S_inter and S_intra scores or by selecting specific ligand–receptor pairs. This targeted selection allows a more focused functional interpretation of signaling events with strong transcriptomic support.\n",
    "\n",
    "Additionally, to investigate how a specific receiver cell type responds to incoming signals, you can filter the communication results accordingly using scSeqComm_select(). This enables GO analysis and other downstream interpretations to be tailored to the cellular context of interest."
   ]
  },
  {
   "cell_type": "code",
   "execution_count": null,
   "id": "f66dcf53",
   "metadata": {
    "vscode": {
     "languageId": "r"
    }
   },
   "outputs": [],
   "source": [
    "# gene universe is all the target genes in dataset\n",
    "geneUniverse <- unique(unlist(scSeqComm_res$TF_reg_DB_scrnaseq))\n",
    "\n",
    "# CAF communication with strong intercellular and intracellular evidence\n",
    "Fib_comm <- scSeqComm_select(data = scSeqComm_res$comm_results,\n",
    "                             cluster_R = \"Fib\",\n",
    "                             S_inter = 0.8, S_intra = 0.8,\n",
    "                             ligand = \"TGFB1\",\n",
    "                             NA_included = FALSE)\n",
    "\n",
    "# GO analysis of CAF communication\n",
    "Fib_cell_functional_response <- scSeqComm_GO_analysis(results_signaling = Fib_comm,            # Data.frame containing results of signaling analysis\n",
    "                                                     geneUniverse = geneUniverse,            # background genes used to compare genes of interest (DE genes)\n",
    "                                                     col = \"genes\",                          # Character string specifying the column name of results_signaling where the gene set to be used for GO enrichment analysis is located.\n",
    "                                                     method = \"general\",                     # A character string specifying if the analysis should be computed once considering all genes associated to a list of LRpairs (\"general\") or associated to each receptor in the LR pairs separately (\"specific\").\n",
    "                                                     package = \"clusterProfiler\",            # Character vector specifying the package to use for G0 analysis, one between \"topGO\" (default) and \"clusterProfiler\".\n",
    "                                                     OrgDb = \"org.Hs.eg.db\")                 # OrgDb object, i.e. Organism databases for mapping gene identifiers.\n",
    "\n",
    "head(Fib_cell_functional_response)"
   ]
  },
  {
   "cell_type": "markdown",
   "id": "8df7332c",
   "metadata": {
    "vscode": {
     "languageId": "r"
    }
   },
   "source": [
    "Similarly, GO enrichment analysis can be performed independently for each receptor by setting method = \"specific\" in the scSeqComm_GO_analysis() function. This approach provides a functional characterization of the cellular response in each receiver cluster triggered by individual receptors.\n",
    "\n",
    "The output is a list of data frames, each containing enrichment analysis results corresponding to a specific receptor. This allows users to explore receptor-specific biological processes activated downstream of cell–cell communication events."
   ]
  },
  {
   "cell_type": "code",
   "execution_count": null,
   "id": "0ed1ecbd",
   "metadata": {
    "vscode": {
     "languageId": "r"
    }
   },
   "outputs": [],
   "source": [
    "Fib_cell_functional_response_rec <- scSeqComm_GO_analysis(results_signaling = Fib_comm,         # Data.frame containing results of signaling analysis\n",
    "                                                        geneUniverse = geneUniverse,            # background genes used to compare genes of interest (DE genes)\n",
    "                                                        col = \"genes\",                          # Character string specifying the column name of results_signaling where the gene set to be used for GO enrichment analysis is located.\n",
    "                                                        method = \"specific\",                    # A character string specifying if the analysis should be computed once considering all genes associated to a list of LRpairs (\"general\") or associated to each receptor in the LR pairs separately (\"specific\").\n",
    "                                                        package = \"clusterProfiler\",            # Character vector specifying the package to use for G0 analysis, one between \"topGO\" (default) and \"clusterProfiler\".\n",
    "                                                        OrgDb = \"org.Hs.eg.db\")                 # OrgDb object, i.e. Organism databases for mapping gene identifiers.\n",
    "\n",
    "names(Fib_cell_functional_response_rec)                                            "
   ]
  },
  {
   "cell_type": "markdown",
   "id": "e55ee6de",
   "metadata": {},
   "source": [
    "Users can visualize the GO enrichment results in conjunction with the related ligand–receptor interactions by combining them with the corresponding dot plot. This integrated view helps contextualize the functional impact of specific signaling events, linking upstream ligand–receptor communication to downstream biological processes."
   ]
  },
  {
   "cell_type": "code",
   "execution_count": null,
   "id": "470f51dd",
   "metadata": {
    "vscode": {
     "languageId": "r"
    }
   },
   "outputs": [],
   "source": [
    "options(repr.plot.width = 12, repr.plot.height = 6)\n",
    "scSeqComm_plot_scores (data = Fib_comm,                                                              # A data frame containing results of signaling analysis.\n",
    "                       title = \"intercellular, intracellular and functional analysis\",              # A character string to be used as title of plot.\n",
    "                       annotation_GO = Fib_cell_functional_response,                                 # A data.frame or a list of data.frame with results of enrichment analysis.\n",
    "                       cutoff = 0.05,                                                               # A numeric value defining the significance value for GO terms.\n",
    "                       topGO = 5)                                                                   # A numeric value defining the maximum number of terms to be visualized."
   ]
  },
  {
   "cell_type": "markdown",
   "id": "1fe55dca",
   "metadata": {
    "vscode": {
     "languageId": "r"
    }
   },
   "source": [
    "# Unexplored feature\n",
    "- **CClens**:\n",
    "an R/shiny app that assists scientists in the interpretation and exploration of multi-dimensional cell-cell communication data from large-scale scRNA-seq dataset through an interactive and user-friendly interface, exploiting custom and flexible filtering options and multiple visualization tools. The platform accepts the results of scSeqCommDiff or other cell-cell communication inference methods, as well as custom analyses performed by the user.\n",
    "\n",
    "- **Comparative analysis with scSeqCommDiff**\n",
    "scSeqComm now enables the inferrence of differential cell-cell communication across two experimental conditions via scSeqComm_differential() function. Check the [tutorial](https://sysbiobig.gitlab.io/scSeqComm/articles/scseqcomm.html).\n"
   ]
  },
  {
   "cell_type": "markdown",
   "id": "a940b58a",
   "metadata": {},
   "source": [
    "# Citation\n",
    "\n",
    "- **scSeqComm**: *Identify, quantify and characterize cellular communication from single-cell RNA sequencing data with scSeqComm. Baruzzo G. et al., Bioinformatics. 2022*\n"
   ]
  }
 ],
 "metadata": {
  "kernelspec": {
   "display_name": "R",
   "language": "R",
   "name": "ir"
  },
  "language_info": {
   "codemirror_mode": "r",
   "file_extension": ".r",
   "mimetype": "text/x-r-source",
   "name": "R",
   "pygments_lexer": "r",
   "version": "4.3.3"
  }
 },
 "nbformat": 4,
 "nbformat_minor": 5
}
