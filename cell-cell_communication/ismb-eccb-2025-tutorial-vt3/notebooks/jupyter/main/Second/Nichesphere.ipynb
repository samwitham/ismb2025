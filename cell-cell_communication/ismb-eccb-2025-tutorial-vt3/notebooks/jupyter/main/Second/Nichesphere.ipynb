{
 "cells": [
  {
   "cell_type": "markdown",
   "id": "ecc6a985-29a7-44e4-8f27-c6a8883f3a41",
   "metadata": {},
   "source": [
    "# Nichesphere differential co-localization and spatially aware process based communication tutorial\n",
    "\n",
    "Nichesphere is an sc-verse compatible Python library which allows the user to find differentially co-localized cellular niches and biological processes involved in their interactions based on cell type pairs co-localization probabilities in different conditions. Cell type pair co-localization probabilities are obtained in different ways: from deconvoluted Visium 10x / PIC-seq data (probabilities of finding each cell type in each spot / multiplet), or counting cell boundaries overlaps for each cell type pair in single cell spatial data (MERFISH , CODEX ...). This tutorial focuses on defining groups of cells that converge or split in disease (Ischemia) based on differential co-localization. \n",
    "\n",
    "Nichesphere also offers the possibility to look at localized process based differential cell - cell communication based on Ligand-Receptor pairs expression data, such as results from LIANA and CrossTalkeR(Nagai et. al., 2021). This improves the interpretability of cell communication analysis as we will find changes in biological processes related to the changes in physical cell interactions. For this tutorial, we will use our self compiled database which classifies ligands according to extracellular matrix (ECM) or immune cell recruitment related processes: https://github.com/CostaLab/Nichesphere/tree/main/nichesphere/db\n"
   ]
  },
  {
   "cell_type": "markdown",
   "id": "099b15cb-54b9-45bf-a1ab-a0cd308d629d",
   "metadata": {},
   "source": [
    "## 1. Libraries and functions"
   ]
  },
  {
   "cell_type": "code",
   "execution_count": 1,
   "id": "994efbef-4ac0-4c33-9557-3d4fa434793e",
   "metadata": {},
   "outputs": [
    {
     "name": "stdout",
     "output_type": "stream",
     "text": [
      "COMMUNITY LAYOUT: Datashader not found, edge bundling not available\n"
     ]
    }
   ],
   "source": [
    "import pandas as pd\n",
    "import numpy as np\n",
    "import scipy\n",
    "import seaborn as sns\n",
    "import glob\n",
    "import matplotlib.pyplot as plt\n",
    "import matplotlib.colors as mcolors \n",
    "import networkx as nx\n",
    "import warnings\n",
    "import scanpy as sc\n",
    "import leidenalg\n",
    "import sklearn\n",
    "import igraph as ig\n",
    "import mudata as md\n",
    "from community_layout.layout_class import CommunityLayout\n",
    "warnings.filterwarnings(\"ignore\")\n",
    "\n",
    "import nichesphere"
   ]
  },
  {
   "cell_type": "markdown",
   "id": "35ad2170-35c7-439f-9ba1-5b8f909002ab",
   "metadata": {},
   "source": [
    "## 2. Data at first glance"
   ]
  },
  {
   "cell_type": "markdown",
   "id": "8bfdabd1-fec7-4f67-9b46-e77153a2692f",
   "metadata": {},
   "source": [
    "In this example we will use data from the Myocardial Infarction atlas from Kuppe, C. et. al., 2022 . This is a subset with **23 snRNA and Visium 10x paired samples** (samples with less than 1500 cells in the snRNA-seq data were filtered out), and **33 different cell subtypes**"
   ]
  },
  {
   "cell_type": "code",
   "execution_count": 3,
   "id": "56909253-2afc-4548-b15b-5b376518ef67",
   "metadata": {},
   "outputs": [
    {
     "data": {
      "text/html": [
       "<pre>MuData object with n_obs × n_vars = 76798 × 39120\n",
       "  2 modalities\n",
       "    sc:\t48547 x 27416\n",
       "      obs:\t&#x27;orig_ident&#x27;, &#x27;nCount_RNA&#x27;, &#x27;nFeature_RNA&#x27;, &#x27;percent_mt&#x27;, &#x27;doublet_score&#x27;, &#x27;doublet&#x27;, &#x27;dissociation_s1&#x27;, &#x27;opt_clust&#x27;, &#x27;patient&#x27;, &#x27;batch&#x27;, &#x27;opt_clust_integrated&#x27;, &#x27;cell_type&#x27;, &#x27;ident&#x27;, &#x27;nFeaturess_RNA&#x27;, &#x27;cell_subtype2&#x27;, &#x27;patient_region_id&#x27;, &#x27;sampleType&#x27;\n",
       "      var:\t&#x27;n_counts&#x27;\n",
       "      obsm:\t&#x27;X_harmony&#x27;, &#x27;X_pca&#x27;, &#x27;X_umap_harmony&#x27;\n",
       "    visium:\t28251 x 11704\n",
       "      obs:\t&#x27;n_counts&#x27;, &#x27;n_genes&#x27;, &#x27;percent.mt&#x27;, &#x27;Adipocyte&#x27;, &#x27;Cardiomyocyte&#x27;, &#x27;Endothelial&#x27;, &#x27;Fibroblast&#x27;, &#x27;Lymphoid&#x27;, &#x27;Mast&#x27;, &#x27;Myeloid&#x27;, &#x27;Neuronal&#x27;, &#x27;Pericyte&#x27;, &#x27;Cycling.cells&#x27;, &#x27;vSMCs&#x27;, &#x27;cell_type_original&#x27;, &#x27;assay_ontology_term_id&#x27;, &#x27;cell_type_ontology_term_id&#x27;, &#x27;development_stage_ontology_term_id&#x27;, &#x27;disease_ontology_term_id&#x27;, &#x27;ethnicity_ontology_term_id&#x27;, &#x27;is_primary_data&#x27;, &#x27;organism_ontology_term_id&#x27;, &#x27;sex_ontology_term_id&#x27;, &#x27;tissue_ontology_term_id&#x27;, &#x27;patient_region_id&#x27;, &#x27;orig_ident&#x27;, &#x27;batch&#x27;\n",
       "      var:\t&#x27;features&#x27;\n",
       "      obsm:\t&#x27;X_pca&#x27;, &#x27;X_spatial&#x27;, &#x27;X_umap&#x27;</pre>"
      ],
      "text/plain": [
       "MuData object with n_obs × n_vars = 76798 × 39120\n",
       "  2 modalities\n",
       "    sc:\t48547 x 27416\n",
       "      obs:\t'orig_ident', 'nCount_RNA', 'nFeature_RNA', 'percent_mt', 'doublet_score', 'doublet', 'dissociation_s1', 'opt_clust', 'patient', 'batch', 'opt_clust_integrated', 'cell_type', 'ident', 'nFeaturess_RNA', 'cell_subtype2', 'patient_region_id', 'sampleType'\n",
       "      var:\t'n_counts'\n",
       "      obsm:\t'X_harmony', 'X_pca', 'X_umap_harmony'\n",
       "    visium:\t28251 x 11704\n",
       "      obs:\t'n_counts', 'n_genes', 'percent.mt', 'Adipocyte', 'Cardiomyocyte', 'Endothelial', 'Fibroblast', 'Lymphoid', 'Mast', 'Myeloid', 'Neuronal', 'Pericyte', 'Cycling.cells', 'vSMCs', 'cell_type_original', 'assay_ontology_term_id', 'cell_type_ontology_term_id', 'development_stage_ontology_term_id', 'disease_ontology_term_id', 'ethnicity_ontology_term_id', 'is_primary_data', 'organism_ontology_term_id', 'sex_ontology_term_id', 'tissue_ontology_term_id', 'patient_region_id', 'orig_ident', 'batch'\n",
       "      var:\t'features'\n",
       "      obsm:\t'X_pca', 'X_spatial', 'X_umap'"
      ]
     },
     "execution_count": 3,
     "metadata": {},
     "output_type": "execute_result"
    }
   ],
   "source": [
    "mudata=md.read('../../../../data_vt3/second/nichesphere/2306_HMI_allmodalities.h5mu')\n",
    "mudata"
   ]
  },
  {
   "cell_type": "code",
   "execution_count": null,
   "id": "775de9f9-3939-45cf-aaaa-b1657ac9367d",
   "metadata": {},
   "outputs": [],
   "source": [
    "mudata['sc'].obsm['umap']=mudata['sc'].obsm['X_umap_harmony']"
   ]
  },
  {
   "cell_type": "code",
   "execution_count": null,
   "id": "c2cf4d5e-99dc-4085-8443-b3a545d34294",
   "metadata": {},
   "outputs": [],
   "source": [
    "sc.pl.umap(mudata['sc'], \n",
    "           color=['cell_type', 'cell_subtype2'], wspace=0.3)"
   ]
  },
  {
   "cell_type": "markdown",
   "id": "b744a399-b5aa-435e-9ebd-3a8389f8d9b8",
   "metadata": {},
   "source": [
    "In this case, we will get cell type co-localization probabilities from **deconvoluted Visium** data (Cell type probabilities per spot): \n",
    "\n",
    "In a previous step, we used MOSCOT(Klein et. al., 2025) to deconvolute cell subtypes in visium slices from the same 23 samples , getting matrices of probabilities of each cell being in each spot. Then we got cell type probabilities per spot summing the probabilities of cells of the same kind in each spot; thus getting cell type probability matrices for all samples."
   ]
  },
  {
   "cell_type": "code",
   "execution_count": null,
   "id": "ca576d97-59fa-4dc7-bc60-b5618d601717",
   "metadata": {},
   "outputs": [],
   "source": [
    "CTprops=pd.read_csv('/Tutorial_ISMBECCB2025/data_vt3/second/nichesphere/CTprops_myoIsc.csv', index_col=0)\n",
    "CTprops.head()"
   ]
  },
  {
   "cell_type": "markdown",
   "id": "8282279b-1cba-4d22-8f75-bd5cba505453",
   "metadata": {},
   "source": [
    "From these deconvolution results, we can look at **cell type proportions per sample**. For this we will need the spot ID and sample correspondence:"
   ]
  },
  {
   "cell_type": "code",
   "execution_count": null,
   "id": "2155c483-24a7-44f4-8757-e7cd4946e1c2",
   "metadata": {},
   "outputs": [],
   "source": [
    "spotSamples=mudata['visium'].obs.patient_region_id\n",
    "spotSamples.reset_index().head()"
   ]
  },
  {
   "cell_type": "markdown",
   "id": "62a42987-5ba7-4d2c-bfe5-72f17ce7b0a4",
   "metadata": {},
   "source": [
    "A way to check the deconvolution proportions is using a clustermap"
   ]
  },
  {
   "cell_type": "code",
   "execution_count": null,
   "id": "b114107a-0c05-4398-96cc-b31034a29dac",
   "metadata": {},
   "outputs": [],
   "source": [
    "CTprops_sample=CTprops.copy()\n",
    "CTprops_sample['sample']=mudata['visium'].obs.patient_region_id\n",
    "sns.clustermap(CTprops_sample.groupby('sample').sum().T/CTprops_sample.groupby('sample').sum().sum(axis=1) , \n",
    "               cmap='Blues', method='ward')"
   ]
  },
  {
   "cell_type": "markdown",
   "id": "7e82e29b-9bcf-4ac0-b1cb-5ca718bf977d",
   "metadata": {},
   "source": [
    "Alternativelly, we can check the deconvolution proportions using barplots"
   ]
  },
  {
   "cell_type": "code",
   "execution_count": null,
   "id": "e5f6bc44-4e5a-40b0-8914-f27c890cf826",
   "metadata": {},
   "outputs": [],
   "source": [
    "t1=pd.DataFrame(CTprops[spotSamples=='control_P7'].sum(), columns=['control_P7'])\n",
    "t2=pd.DataFrame(CTprops[spotSamples=='IZ_P15'].sum(), columns=['IZ_P15'])"
   ]
  },
  {
   "cell_type": "code",
   "execution_count": null,
   "id": "e03a8a74-4452-44cf-bc26-906f629109cb",
   "metadata": {},
   "outputs": [],
   "source": [
    "sns.set(font_scale=1)\n",
    "sns.set_style(rc = {'axes.facecolor': 'white'})\n",
    "\n",
    "fig, axes = plt.subplots(1, 2, figsize=(20, 7))\n",
    "\n",
    "sns.barplot(ax=axes[0], y=t1.sort_values('control_P7', ascending=False).index, x='control_P7', \n",
    "            data=t1.sort_values('control_P7', ascending=False), color='darkblue')\n",
    "axes[0].set_title('control_P7')\n",
    "\n",
    "sns.barplot(ax=axes[1], y=t2.sort_values('IZ_P15', ascending=False).index, x='IZ_P15',\n",
    "            data=t2.sort_values('IZ_P15', ascending=False), color='darkred')\n",
    "axes[1].set_title('IZ_P15')"
   ]
  },
  {
   "cell_type": "markdown",
   "id": "8ab94340-40eb-4d05-9f0f-4b5ba74a7c1f",
   "metadata": {},
   "source": [
    "We can visualize **cell type deconvolution results in slices** (spots are colored by the the cell type with highest proportion). For this we will need the spatial coordinates of the spots in the Visium slices need to be in the slot **uns['spatial']** of the Visium anndata object:"
   ]
  },
  {
   "cell_type": "code",
   "execution_count": null,
   "id": "ec0845f3-1dfc-40a9-a025-c255459ec08b",
   "metadata": {},
   "outputs": [],
   "source": [
    "mudata['visium'].uns['spatial']=mudata['visium'].obsm['X_spatial']"
   ]
  },
  {
   "cell_type": "code",
   "execution_count": null,
   "id": "a290fb1d-6405-4d6c-b96f-441ddf0bc590",
   "metadata": {},
   "outputs": [],
   "source": [
    "idPat = 'GT_IZ_P9'\n",
    "nichesphere.coloc.spatialCTPlot(adata=mudata['visium'][mudata['visium'].obs.patient_region_id==idPat].copy(), \n",
    "                                CTprobs=CTprops.loc[spotSamples.index[spotSamples==idPat]], \n",
    "                                cell_types=mudata['sc'].obs.cell_subtype2, spot_size=0.015, \n",
    "                                legend_fontsize=7)"
   ]
  },
  {
   "cell_type": "markdown",
   "id": "db12f15c-6888-4988-9abd-806d18f75b68",
   "metadata": {},
   "source": [
    "## 3. Co-localization\n",
    "\n",
    "We computed then co-localization probabilities from the cell type probability matrices,getting a matrix of cell type pairs x samples."
   ]
  },
  {
   "cell_type": "markdown",
   "id": "30b3f700-d12a-46c9-9de4-d6bc564420ba",
   "metadata": {},
   "source": [
    "(you can have a closer look at these steps in the preprocessing tutorial)"
   ]
  },
  {
   "cell_type": "code",
   "execution_count": null,
   "id": "e829b9d8-7abd-4bc0-b080-5d3aa3c424e4",
   "metadata": {},
   "outputs": [],
   "source": [
    "colocPerSample=pd.read_csv('/Tutorial_ISMBECCB2025/data_vt3/second/nichesphere/colocPerSample_myoIsc.csv', index_col=0)\n",
    "colocPerSample.head()"
   ]
  },
  {
   "cell_type": "markdown",
   "id": "e9b08e3a-a3b1-4417-a6ef-2897b21e73b1",
   "metadata": {},
   "source": [
    "The sum of the probabilities of every cell type pair in a sample must be = 1"
   ]
  },
  {
   "cell_type": "code",
   "execution_count": null,
   "id": "7e786214-cbd5-41ef-b23c-a14cac58a6c3",
   "metadata": {},
   "outputs": [],
   "source": [
    "colocPerSample.sum(axis=1)"
   ]
  },
  {
   "cell_type": "markdown",
   "id": "acd47545-5430-48e7-957c-c5169d4decc2",
   "metadata": {},
   "source": [
    "**Same cell type interactions** will be excluded later on, so we'll have a list of same cell type interaction pairs in order to subset the co-localization table we'll generate in the next step."
   ]
  },
  {
   "cell_type": "code",
   "execution_count": null,
   "id": "a8ecab64-cda9-4ca8-a159-df6e02f86b8a",
   "metadata": {},
   "outputs": [],
   "source": [
    "cell_types=CTprops.columns\n",
    "oneCTints=cell_types+'-'+cell_types"
   ]
  },
  {
   "cell_type": "markdown",
   "id": "64ea88ce-fbee-4c88-acda-b794331cf228",
   "metadata": {},
   "source": [
    "**Conditions**\n",
    "\n",
    "We will need the following metadata to subset the samples in **control (myogenic)** and **disease (ischemic)**:"
   ]
  },
  {
   "cell_type": "code",
   "execution_count": null,
   "id": "53e0f246-fe34-4eff-843a-5b9a200d19eb",
   "metadata": {},
   "outputs": [],
   "source": [
    "sampleTypesDF=pd.read_csv('/Tutorial_ISMBECCB2025/data_vt3/second/nichesphere/MI_sampleTypesDF_myoIsc.csv', index_col=0)\n",
    "sampleTypesDF.head()"
   ]
  },
  {
   "cell_type": "markdown",
   "id": "9c99de8b-5943-4707-bce2-748be20a4f39",
   "metadata": {},
   "source": [
    "## 4. Differential co-localization analysis\n",
    "\n",
    "We will test differential co-localization between **myogenic** and **ischemic** samples using Wilcoxon rank sums tests:\n",
    "\n",
    "**Null Hypothesis (H0):**\n",
    "The median of the population of differences between co-localization probabilities of cell types a and b in myogenic and ischemic samples is zero.\n",
    "\n",
    "**Alternative Hypothesis (H1):**\n",
    "The median of the population of differences between co-localization probabilities of cell types a and b in myogenic and ischemic samples is not equal to zero."
   ]
  },
  {
   "cell_type": "code",
   "execution_count": null,
   "id": "f98ac299-0768-47ff-a0af-72bc0b2b3fbf",
   "metadata": {},
   "outputs": [],
   "source": [
    "myo_iscDF=nichesphere.coloc.diffColoc_test(coloc_pair_sample=colocPerSample, \n",
    "                                           sampleTypes=sampleTypesDF, \n",
    "                                           exp_condition='ischemic', \n",
    "                                           ctrl_condition='myogenic')\n",
    "myo_iscDF.head()"
   ]
  },
  {
   "cell_type": "markdown",
   "id": "3242a5db-d7bb-4d0a-9bdb-3ae2d7ab2442",
   "metadata": {},
   "source": [
    "Then we will reshape the data to visualize the Wilcoxon test scores in a heatmap and filter non significant co-localization differences using the parameter **p** (in this case, scores with p-values > 0.1 are filtered out)"
   ]
  },
  {
   "cell_type": "code",
   "execution_count": null,
   "id": "e89b0878-8357-4322-b638-e4bad74643fd",
   "metadata": {},
   "outputs": [],
   "source": [
    "myo_isc_HM=nichesphere.tl.pval_filtered_HMdf(testDF=myo_iscDF, \n",
    "                                             oneCTinteractions=oneCTints, \n",
    "                                             p=0.1,                             #threshold p-value to filter\n",
    "                                             cell_types=cell_types)\n",
    "myo_isc_HM.head()"
   ]
  },
  {
   "cell_type": "markdown",
   "id": "b7a83f08-369d-4d36-9b45-507fc5974003",
   "metadata": {},
   "source": [
    "As the cells classified as proliferating cells (prolif) are many different cell types and thus hard to interpret, we'll remove them for further analysis."
   ]
  },
  {
   "cell_type": "code",
   "execution_count": null,
   "id": "ba61f439-6832-441d-8d20-c1678ce7ad79",
   "metadata": {},
   "outputs": [],
   "source": [
    "myo_isc_HM=myo_isc_HM.loc[myo_isc_HM.columns.str.contains('prolif')==False,myo_isc_HM.index.str.contains('prolif')==False]"
   ]
  },
  {
   "cell_type": "markdown",
   "id": "68d4ad81-34c9-4421-94c2-7da6c5038e24",
   "metadata": {},
   "source": [
    "We will also remove cells with no significant co-localization differences"
   ]
  },
  {
   "cell_type": "code",
   "execution_count": null,
   "id": "1ef42bff-fa3c-4944-8244-41e1480e7fb2",
   "metadata": {},
   "outputs": [],
   "source": [
    "myo_isc_HM=myo_isc_HM.loc[myo_isc_HM.sum()!=0,myo_isc_HM.sum()!=0]"
   ]
  },
  {
   "cell_type": "markdown",
   "id": "c36b62c4-2598-4a46-b646-878a0b22d1d4",
   "metadata": {},
   "source": [
    "Now we can plot the differential co-localization scores heatmap"
   ]
  },
  {
   "cell_type": "code",
   "execution_count": null,
   "id": "4f0bd516-f06c-488f-87f4-f16582d3f3de",
   "metadata": {},
   "outputs": [],
   "source": [
    "sns.set(font_scale=1)\n",
    "plot=sns.clustermap(myo_isc_HM, cmap='vlag', center=0, method='ward', cbar_kws={'label': 'diffColoc. Score'})"
   ]
  },
  {
   "cell_type": "markdown",
   "id": "e59b458a-8586-4fbb-893c-e8570fe7a817",
   "metadata": {},
   "source": [
    "**Differential co-localization network**\n",
    "\n",
    "To build the differential co-localization network, we will get an **adjacency matrix** (adj) based on the **euclidean distances** among the distributions of significant differential co-localization scores for the different cell types"
   ]
  },
  {
   "cell_type": "code",
   "execution_count": null,
   "id": "775ecbff-c2c8-452d-a0aa-e4f738f11c6b",
   "metadata": {},
   "outputs": [],
   "source": [
    "## Distance matrix\n",
    "HMdist=pd.DataFrame(scipy.spatial.distance.squareform(scipy.spatial.distance.pdist(myo_isc_HM)), \n",
    "                    columns=myo_isc_HM.columns, index=myo_isc_HM.index)\n",
    "## Adjacency matrix\n",
    "HMsimm=1-HMdist/HMdist.max().max()\n",
    "##Cell pairs with no significant differential co-localization get 0 adjacency\n",
    "HMsimm[myo_isc_HM==0]=0"
   ]
  },
  {
   "cell_type": "markdown",
   "id": "62f77aa3-894a-4cf9-a243-4b628e1e876b",
   "metadata": {},
   "source": [
    "A **cell group dictionary** should be used here to visualize different cell groups in different colors. As we don't have cell groups yet, we'll have a dictionary of all cells in one group and a list of one color"
   ]
  },
  {
   "cell_type": "code",
   "execution_count": null,
   "id": "10f611fb-2b51-4ac3-b09c-5fe444afafcd",
   "metadata": {},
   "outputs": [],
   "source": [
    "niches_dict={'1_': list(myo_isc_HM.index)}\n",
    "clist=['#4daf4a']"
   ]
  },
  {
   "cell_type": "markdown",
   "id": "fb3df776-8705-4541-87fe-2a918e24817a",
   "metadata": {},
   "source": [
    "Now we can plot the differential co-localization network using the **colocNW** function from Nichesphere. This function has many parameters that can be tuned: \n",
    "\n",
    "**nodeSize** for example, defines how the size of the nodes will be calculated. Options are 'betweeness', 'pagerank' (both network statistics) and None (all nodes have the same size).\n",
    "**alpha** indicates the transparency of the edges and in goes from 0 (completely transparent) to 1 (opaque)\n",
    "**fsize** is the size of the figure (x,y)\n",
    "\n",
    "This function returns the network with the edge weights corresponding to the diff. coloc. scores (positive and negative)"
   ]
  },
  {
   "cell_type": "code",
   "execution_count": null,
   "id": "eb2c090b-bc54-4dcf-8f71-5170468393ec",
   "metadata": {},
   "outputs": [],
   "source": [
    "plt.rcParams['axes.facecolor'] = \"None\"\n",
    "nichesphere.coloc.colocNW(x_diff=myo_isc_HM,            #differential co-localization matrix\n",
    "                          adj=HMsimm,                   #adjacency matrix\n",
    "                          cell_group=niches_dict, \n",
    "                          clist=clist, \n",
    "                          nodeSize='betweeness',        \n",
    "                          lab_spacing=9,                #space between node and label\n",
    "                          alpha=0.4,                    #edges transparency\n",
    "                          fsize=(12,12))                #figure size"
   ]
  },
  {
   "cell_type": "markdown",
   "id": "81870d7b-ae8a-42f9-afaa-b48d2d7d937a",
   "metadata": {},
   "source": [
    "Now we'll do community detection using Louvain. First we will get the network from the adjacency matrix as we won't use the signed weights for this"
   ]
  },
  {
   "cell_type": "code",
   "execution_count": null,
   "id": "658a9589-e78b-491b-916c-fb0f75faf1d3",
   "metadata": {},
   "outputs": [],
   "source": [
    "gCol_unsigned=nx.from_pandas_adjacency(HMsimm, create_using=nx.Graph)"
   ]
  },
  {
   "cell_type": "markdown",
   "id": "e6c2221c-2fe0-4dd5-b59f-f72767335b15",
   "metadata": {},
   "source": [
    "We will use the community-layout library function **CommunityLayout** to show the communities in a layout suited for this. This function is compatible with networkx (Hagberg et. al., 2008) community detection functions, which will be used internally as indicated by the parameters **community_algorithm** and **community_kwargs**"
   ]
  },
  {
   "cell_type": "code",
   "execution_count": null,
   "id": "f34ae5e6-7ede-4955-8e52-b905e94f2b02",
   "metadata": {},
   "outputs": [],
   "source": [
    "## Calculate community layout\n",
    "cl=CommunityLayout(gCol_unsigned,\n",
    "        community_compression = 0.4,\n",
    "        layout_algorithm = nx.spring_layout,\n",
    "        layout_kwargs = {\"k\":75, \"iterations\":1000},\n",
    "        community_algorithm = nx.algorithms.community.louvain_communities,\n",
    "        community_kwargs = {\"resolution\":1.1,  'seed':12, 'weight':'weight'})"
   ]
  },
  {
   "cell_type": "code",
   "execution_count": null,
   "id": "4ad0719e-b94e-4bd9-bdf0-bea15a4d71c6",
   "metadata": {},
   "outputs": [],
   "source": [
    "#cl.communities()"
   ]
  },
  {
   "cell_type": "markdown",
   "id": "0e68d2f7-d02a-4cd8-ba02-a3ac1fc43caa",
   "metadata": {},
   "source": [
    "We can extract the communities as follows"
   ]
  },
  {
   "cell_type": "code",
   "execution_count": null,
   "id": "50d3094b-30e9-42f4-b911-13c1deeff0a2",
   "metadata": {},
   "outputs": [],
   "source": [
    "d = {index: list(value) for index, value in enumerate(cl.communities())}\n",
    "print(pd.DataFrame.from_dict(d, orient='index').T.to_string(index=False))"
   ]
  },
  {
   "cell_type": "markdown",
   "id": "6a6da06b-6879-4004-a12b-c228483f5c89",
   "metadata": {},
   "source": [
    "And then name the niches"
   ]
  },
  {
   "cell_type": "code",
   "execution_count": null,
   "id": "f6d469bc-7db1-4bb4-bcdc-f743268a2897",
   "metadata": {},
   "outputs": [],
   "source": [
    "niche_names=['1_Stromal', '2_Stressed_CM', '3_Healthy_CM', '4_Fibrotic']\n",
    "niches_dict=dict(zip(niche_names,list(d.values()))) \n",
    "print(pd.DataFrame.from_dict(niches_dict, orient='index').T.to_string(index=False))"
   ]
  },
  {
   "cell_type": "markdown",
   "id": "c3d67ce3-56a5-44ef-9103-ef324942bf17",
   "metadata": {},
   "source": [
    "And assign them colors to color the network nodes according to their cluster"
   ]
  },
  {
   "cell_type": "code",
   "execution_count": null,
   "id": "c445a7ec-141c-451e-924c-0023989af8d0",
   "metadata": {},
   "outputs": [],
   "source": [
    "clist=['#4daf4a', '#0072B5', '#BC3C29', '#ffff33']\n",
    "niche_cols=pd.Series(clist, index=list(niches_dict.keys()))\n",
    "niches_df=nichesphere.tl.cells_niche_colors(CTs=CTprops.columns, \n",
    "                                            niche_colors=niche_cols, \n",
    "                                            niche_dict=niches_dict)\n",
    "niches_df.head()"
   ]
  },
  {
   "cell_type": "markdown",
   "id": "bffe9ead-15ee-4ada-abb2-ea2a4fc7b277",
   "metadata": {},
   "source": [
    "Then we can get the node positions to input them to the nichesphere **colocNW** function through the **pos** parameter"
   ]
  },
  {
   "cell_type": "code",
   "execution_count": null,
   "id": "673070a5-3a52-4bd2-b215-ff5f2b37eeb7",
   "metadata": {},
   "outputs": [],
   "source": [
    "pos=cl.full_positions"
   ]
  },
  {
   "cell_type": "markdown",
   "id": "7ae7b969-1d8b-453f-8f4e-95a4bec77586",
   "metadata": {},
   "source": [
    "And plot the niches on the community layout"
   ]
  },
  {
   "cell_type": "code",
   "execution_count": null,
   "id": "437f004e-9c53-4db5-bbb8-ac9fa3fd16cd",
   "metadata": {},
   "outputs": [],
   "source": [
    "plt.rcParams['axes.facecolor'] = \"None\"\n",
    "\n",
    "gCol=nichesphere.coloc.colocNW(x_diff=myo_isc_HM, \n",
    "                               adj=HMsimm,\n",
    "                               cell_group=niches_dict, \n",
    "                               clist=clist, \n",
    "                               nodeSize='betweeness', \n",
    "                               layout=None,                         #layout needs to be set to None if we provide node positions\n",
    "                               lab_spacing=0.05, \n",
    "                               thr=1, \n",
    "                               alpha=0.4, \n",
    "                               fsize=(10,10), \n",
    "                               pos=pos,                             #node positions (from the CommunityLayout function)\n",
    "                               edge_scale=1,                        #edge width\n",
    "                               legend_ax=[0.7, 0.05, 0.15, 0.2])    #legend position\n",
    "#Legend\n",
    "legend_elements1=[plt.Line2D([0], [0], marker=\"o\" ,color='w', markerfacecolor=clist[i], lw=4, \n",
    "                             label=list(niches_dict.keys())[i], ms=10) for i in range(len(list(niches_dict.keys())))]\n",
    "plt.gca().add_artist(plt.legend(handles=legend_elements1,loc='upper right', fontsize=13, title='Niches', \n",
    "                                alignment='left'))\n",
    "#plt.savefig('./diffColocNW_CD.pdf')"
   ]
  },
  {
   "cell_type": "markdown",
   "id": "cb76c83e-d7f4-457c-8c50-69935bf6fcdf",
   "metadata": {},
   "source": [
    "We can also calculate some network statistics with the networkx package functions (this will be done on the signed network):"
   ]
  },
  {
   "cell_type": "code",
   "execution_count": null,
   "id": "d71b4e44-b162-4a22-8702-72f3c5d91c65",
   "metadata": {},
   "outputs": [],
   "source": [
    "t1=pd.DataFrame({'betweenness':[nx.betweenness_centrality(gCol)[x] for x in list(gCol.nodes)], \n",
    "                 'degree':[nx.degree_centrality(gCol)[x] for x in list(gCol.nodes)], \n",
    "                 'pagerank':[nx.pagerank(gCol, weight=None)[x] for x in list(gCol.nodes)]})\n",
    "t1.index=list(gCol.nodes)"
   ]
  },
  {
   "cell_type": "code",
   "execution_count": null,
   "id": "86bccd25-c56d-4614-a7df-fdc26c9327a8",
   "metadata": {},
   "outputs": [],
   "source": [
    "fig, axes = plt.subplots(1, 3, figsize=(21, 7))\n",
    "for i in range(len(t1.columns)):\n",
    "    _ = sns.barplot(ax=axes[i], y=t1.sort_values(t1.columns[i], ascending=False).index[0:5], x=t1.columns[i], \n",
    "        data=t1.sort_values(t1.columns[i], ascending=False)[0:5], color='purple')\n",
    "    axes[i].set_title(t1.columns[i])\n",
    "fig.tight_layout()"
   ]
  },
  {
   "cell_type": "markdown",
   "id": "dc7fabb8-f8eb-4826-b33b-4e0dc6bb3606",
   "metadata": {},
   "source": [
    "So we can look separately at positive and negative degree:"
   ]
  },
  {
   "cell_type": "code",
   "execution_count": null,
   "id": "ea8f41a7-d224-4388-aa27-4900cd67b959",
   "metadata": {},
   "outputs": [],
   "source": [
    "## Positive edges degree\n",
    "G_pos=gCol.copy()\n",
    "to_remove=[(a,b) for a, b, attrs in G_pos.edges(data=True) if attrs[\"weight\"] <= 0]\n",
    "G_pos.remove_edges_from(to_remove)\n",
    "\n",
    "t1=pd.DataFrame({'degree':[nx.degree_centrality(G_pos)[x] for x in list(G_pos.nodes)]})\n",
    "t1.index=list(G_pos.nodes)"
   ]
  },
  {
   "cell_type": "code",
   "execution_count": null,
   "id": "af8f7781-3a97-48c3-a7b8-e276e0f042be",
   "metadata": {},
   "outputs": [],
   "source": [
    "## Negative edges degree\n",
    "G_neg=gCol.copy()\n",
    "to_remove=[(a,b) for a, b, attrs in G_neg.edges(data=True) if attrs[\"weight\"] >= 0]\n",
    "G_neg.remove_edges_from(to_remove)\n",
    "\n",
    "t2=pd.DataFrame({'degree':[nx.degree_centrality(G_neg)[x] for x in list(G_neg.nodes)]})\n",
    "t2.index=list(G_neg.nodes)"
   ]
  },
  {
   "cell_type": "code",
   "execution_count": null,
   "id": "f1c330af-46e6-41af-9a4b-388ebce113ce",
   "metadata": {},
   "outputs": [],
   "source": [
    "fig, axes = plt.subplots(1, 2, figsize=(14, 7))\n",
    "\n",
    "_=sns.barplot(ax=axes[0], y=t1.sort_values('degree', ascending=False).index[0:5], x='degree', \n",
    "              data=t1.sort_values('degree', ascending=False)[0:5], color='red')\n",
    "axes[0].set_title('degree_positive')\n",
    "\n",
    "_=sns.barplot(ax=axes[1], y=t2.sort_values('degree', ascending=False).index[0:5], x='degree', \n",
    "              data=t2.sort_values('degree', ascending=False)[0:5], color='blue')\n",
    "axes[1].set_title('degree_negative')\n",
    "\n",
    "fig.tight_layout()"
   ]
  },
  {
   "cell_type": "markdown",
   "id": "81b02025-8f13-47b7-9bad-0e23b045d00d",
   "metadata": {},
   "source": [
    "Now we will visualize the **niches** in the **slices** coloring the Visium spots according to the niche of the cell type with the highest proportion. "
   ]
  },
  {
   "cell_type": "markdown",
   "id": "99fd3a30-89e9-4141-96a4-d007125a236a",
   "metadata": {},
   "source": [
    "These are a couple **myogenic** slices, which will be at the **top** panels of the next figure:"
   ]
  },
  {
   "cell_type": "code",
   "execution_count": null,
   "id": "97e286e1-6c61-4f7e-8cf2-81d80ecf9869",
   "metadata": {},
   "outputs": [],
   "source": [
    "fig, axes = plt.subplots(2, 3, figsize=(21, 7))\n",
    "plt.close(fig)\n",
    "for idu,smpl in enumerate(list(sampleTypesDF['sample'][sampleTypesDF['sampleType']=='myogenic'][0:3])):  \n",
    "    _ = nichesphere.coloc.spatialNichePlot(adata=mudata['visium'][mudata['visium'].obs.patient_region_id==smpl].copy(), \n",
    "                                       CTprobs=CTprops.loc[spotSamples.index[spotSamples==smpl]],    #dataframe of cell type probabilities per spot\n",
    "                                       cell_types=mudata['sc'].obs.cell_subtype2,                    #categorical series of cell types\n",
    "                                       nicheDF=niches_df, \n",
    "                                       spot_size=0.015, \n",
    "                                       niche_colors=niche_cols,                                      #series of colors with niche names as indexes\n",
    "                                       legend_fontsize=7, save_name='_'+smpl+'.pdf',ax=axes[0][idu])"
   ]
  },
  {
   "cell_type": "markdown",
   "id": "1c34443b-74ea-48b8-9ea6-1bcd2189a324",
   "metadata": {},
   "source": [
    "And a couple **ischemic** slices, which will be at the **bottom** panels of the next figure:"
   ]
  },
  {
   "cell_type": "code",
   "execution_count": null,
   "id": "39d3747d-aaef-4c00-9659-66f01f1bf16f",
   "metadata": {},
   "outputs": [],
   "source": [
    "for idu,smpl in enumerate(list(sampleTypesDF['sample'][sampleTypesDF['sampleType']=='ischemic'][0:3])):  \n",
    "    _ = nichesphere.coloc.spatialNichePlot(adata=mudata['visium'][mudata['visium'].obs.patient_region_id==smpl].copy(), \n",
    "                                       CTprobs=CTprops.loc[spotSamples.index[spotSamples==smpl]], \n",
    "                                       cell_types=mudata['sc'].obs.cell_subtype2, \n",
    "                                       nicheDF=niches_df, \n",
    "                                       spot_size=0.015, \n",
    "                                       niche_colors=niche_cols, \n",
    "                                       legend_fontsize=7, \n",
    "                                       save_name='_'+smpl+'.pdf',ax=axes[1][idu])\n"
   ]
  },
  {
   "cell_type": "code",
   "execution_count": null,
   "id": "b10a83b5-6dda-49b4-ae0e-e59c89283c2c",
   "metadata": {},
   "outputs": [],
   "source": [
    "fig.tight_layout()\n",
    "fig"
   ]
  },
  {
   "cell_type": "markdown",
   "id": "a1ef977c-ac57-4131-8e2a-92a5e42bd69e",
   "metadata": {},
   "source": [
    "For further analysis, we will need the correspondence data between cell pairs and niche pairs"
   ]
  },
  {
   "cell_type": "code",
   "execution_count": null,
   "id": "e1a26959-2014-4349-bd92-ba0803ff43d7",
   "metadata": {},
   "outputs": [],
   "source": [
    "pairCatDFdir=nichesphere.tl.get_pairCatDFdir(niches_df)\n",
    "pairCatDFdir.head()"
   ]
  },
  {
   "cell_type": "markdown",
   "id": "8914d2fd-d638-4259-bba3-81e1bb7bc740",
   "metadata": {},
   "source": [
    "We will also need a filtering object **(colocFilt)** indicating which cell pairs are differentially co-localized to filter the communication data"
   ]
  },
  {
   "cell_type": "code",
   "execution_count": null,
   "id": "77a453e7-6ec9-4d88-a2d3-e618c98a25f1",
   "metadata": {},
   "outputs": [],
   "source": [
    "## Get data of cells present in the adjacency matrix\n",
    "pairCatDF_filter=[(pairCatDFdir.cell_pairs.str.split('->')[i][0] in HMsimm.index)&\n",
    "                  (pairCatDFdir.cell_pairs.str.split('->')[i][1] in HMsimm.index) for i in pairCatDFdir.index]\n",
    "pairCatDFdir_filt=pairCatDFdir[pairCatDF_filter]\n",
    "oneCTints_filt=oneCTints[[i.split('-')[0] in HMsimm.index for i in oneCTints]]"
   ]
  },
  {
   "cell_type": "code",
   "execution_count": null,
   "id": "535ecf21-84b7-4c0e-a81e-658bd279238f",
   "metadata": {},
   "outputs": [],
   "source": [
    "## Get data to flag differentially co-localized cell pairs in the adjacency matrix\n",
    "colocFilt=nichesphere.tl.getColocFilter(pairCatDF=pairCatDFdir_filt, \n",
    "                                        adj=HMsimm, \n",
    "                                        oneCTints=oneCTints_filt.str.replace('-', '->'))\n",
    "colocFilt.head()"
   ]
  },
  {
   "cell_type": "markdown",
   "id": "4d0ff973-4b08-4382-b318-16a5332bc0df",
   "metadata": {},
   "source": [
    "## 5. LR based cell communication"
   ]
  },
  {
   "cell_type": "markdown",
   "id": "ed163c8b-cc08-44d4-bde8-4495d81541f8",
   "metadata": {},
   "source": [
    "We are interested in cell communication related to fibrosis, so we will use a database which classifies ligands according to extracellular matrix (ECM) or immune cell recruitment related processes to look for disease related processes : "
   ]
  },
  {
   "cell_type": "code",
   "execution_count": null,
   "id": "07f7d3e7-ec0e-40e5-84da-462024e83a95",
   "metadata": {},
   "outputs": [],
   "source": [
    "allDBs=pd.read_csv('/Tutorial_ISMBECCB2025/data_vt3/second/nichesphere/nichesphereDB_pmid.csv', index_col=0)\n",
    "allDBs.head()"
   ]
  },
  {
   "cell_type": "code",
   "execution_count": null,
   "id": "f4e4154c-30cc-45de-a89e-081b4fb8d063",
   "metadata": {},
   "outputs": [],
   "source": [
    "sns.barplot(x=allDBs.category.value_counts(), y=allDBs.category.value_counts().index,\n",
    "            data=pd.DataFrame(allDBs.category.value_counts()))"
   ]
  },
  {
   "cell_type": "markdown",
   "id": "f75bc530-af14-4fd2-bef5-0c3a682d3c48",
   "metadata": {},
   "source": [
    "Nichesphere is suited to work with CrossTalkeR output tables which contain columns called **cellpair**, indicating the cell types involved in an interaction separated by '@'; and **allpair**, indicating cell types, ligand and receptor involved. Additionally, input tables for Nichesphere should contain columns indicating the **ligand** (gene_A), **receptor** (gene_B) and **communication score** (MeanLR). The names for these last 3 columns can be indicated in Nichesphere functions."
   ]
  },
  {
   "cell_type": "markdown",
   "id": "8295925a-8cc0-491f-9401-e5aaadce70c9",
   "metadata": {},
   "source": [
    "CrossTalkeR tables contain strings indicating wether a gene is a ligand (|L), receptor (|R) or transcription factor (|TF). These strings will be removed as they might cause conflicts with code. Then we'll separate communication scores by process to know which cell type pairs and niche pairs are interacting through which processes in each condition. \n",
    "\n",
    "Some interactions might be present only in one condition, so we will assign 0 values to the interactions that do not appear in one condition to be able to compare conditions. After this, we get the following tables"
   ]
  },
  {
   "cell_type": "code",
   "execution_count": null,
   "id": "390bb3d9-3591-4653-9be7-b60eee692375",
   "metadata": {},
   "outputs": [],
   "source": [
    "myoCTpairScores_byCat2_dir_colocClusts=pd.read_csv('/Tutorial_ISMBECCB2025/data_vt3/second/nichesphere/processed_myo_ctkr_louvainColoc.csv', index_col=0)\n",
    "iscCTpairScores_byCat2_dir_colocClusts=pd.read_csv('/Tutorial_ISMBECCB2025/data_vt3/second/nichesphere/processed_isc_ctkr_louvainColoc.csv', index_col=0)\n",
    "\n",
    "myoCTpairScores_byCat2_dir_colocClusts.head()"
   ]
  },
  {
   "cell_type": "markdown",
   "id": "c1a9130b-54b8-455d-b958-38c82342d0b6",
   "metadata": {},
   "source": [
    "Names of cell types need to match between communication and co-localization data"
   ]
  },
  {
   "cell_type": "markdown",
   "id": "39c761f8-fa3d-4ea3-8b6f-86c1696c6b27",
   "metadata": {},
   "source": [
    "Next, we will **filter by differential co-localization** using the **colocFilt** filtering object we created before: "
   ]
  },
  {
   "cell_type": "code",
   "execution_count": null,
   "id": "e59db495-45f0-4462-a426-672a28b78aab",
   "metadata": {},
   "outputs": [],
   "source": [
    "myoCTpairScores_byCat2_dir_colocClusts=myoCTpairScores_byCat2_dir_colocClusts[[i in colocFilt.index[colocFilt['filter']==1] for i in myoCTpairScores_byCat2_dir_colocClusts.cell_pairs]]\n",
    "iscCTpairScores_byCat2_dir_colocClusts=iscCTpairScores_byCat2_dir_colocClusts[[i in colocFilt.index[colocFilt['filter']==1] for i in iscCTpairScores_byCat2_dir_colocClusts.cell_pairs]]"
   ]
  },
  {
   "cell_type": "markdown",
   "id": "d3fdf857-788d-4af0-9efa-c876245f4e24",
   "metadata": {},
   "source": [
    "Then we can test for **differential cell communication** between niche pairs or cell pairs across processes with the function **diffCcommStats**. We will first test per niche pair setting the parameter **cellCatCol** to 'niche_pairs', which is the column in the tables of communication scores by process containing niche pairs:"
   ]
  },
  {
   "cell_type": "code",
   "execution_count": null,
   "id": "0bbb82ab-1c75-42d0-98d5-b09e4af31add",
   "metadata": {},
   "outputs": [],
   "source": [
    "myoIsc_diffCcommTable_colocGroups_dir=nichesphere.comm.diffCcommStats(c1CTpairScores_byCat=iscCTpairScores_byCat2_dir_colocClusts, \n",
    "                                                                      c2CTpairScores_byCat=myoCTpairScores_byCat2_dir_colocClusts, \n",
    "                                                                      cellCatCol='niche_pairs')\n",
    "myoIsc_diffCcommTable_colocGroups_dir.head()"
   ]
  },
  {
   "cell_type": "markdown",
   "id": "ac2017f5-b30c-4e63-9293-e98efa5ea901",
   "metadata": {},
   "source": [
    "And reshape the data to plot the differential communication scores in a heatmap. Just as for the co-localization analysis, **Wilcoxon rank sums tests** are employed here. The **diffCcommStats** function returns then the table of scores per niche pair per process and the plot itself."
   ]
  },
  {
   "cell_type": "code",
   "execution_count": null,
   "id": "ce0a7cd8-9e20-4990-a395-00a228d590d6",
   "metadata": {},
   "outputs": [],
   "source": [
    "hm_df, cm=nichesphere.comm.plotDiffCcommStatsHM(diffCommTable=myoIsc_diffCcommTable_colocGroups_dir, \n",
    "                                                min_pval=0.05, \n",
    "                                                vmin=-20, vmax=20)"
   ]
  },
  {
   "cell_type": "markdown",
   "id": "d194daee-5199-493c-897d-9fe4fa61c7bc",
   "metadata": {},
   "source": [
    "**Localized differential communication networks**\n",
    "\n",
    "To build process specific differential cell communication networks, we will look at differential cell communication per cell type pair per process, so we will do the differential communication test again with the **diffCcommStats** function, this time setting **cellCatCol** to 'cell_pairs', which is the column in the tables of communication scores by process containing cell pairs."
   ]
  },
  {
   "cell_type": "code",
   "execution_count": null,
   "id": "cabe5edd-33ae-4fb1-b03c-b86f3124d22f",
   "metadata": {},
   "outputs": [],
   "source": [
    "myoIsc_diffCcommTable2_CTpair_dir=nichesphere.comm.diffCcommStats(c1CTpairScores_byCat=iscCTpairScores_byCat2_dir_colocClusts, \n",
    "                                                                  c2CTpairScores_byCat=myoCTpairScores_byCat2_dir_colocClusts, \n",
    "                                                                  cellCatCol='cell_pairs')"
   ]
  },
  {
   "cell_type": "markdown",
   "id": "a5e9fa1d-7f97-4747-8059-3dab47b919a9",
   "metadata": {},
   "source": [
    "We must reshape the data as we will need this for the **communication networks**, and get the heatmap of differential communication scores per cell pair."
   ]
  },
  {
   "cell_type": "code",
   "execution_count": null,
   "id": "40daf332-e3b5-476c-8a0a-48b229b48f3a",
   "metadata": {},
   "outputs": [],
   "source": [
    "x_myoIsc_dir, plothm=nichesphere.comm.plotDiffCcommStatsHM(diffCommTable=myoIsc_diffCcommTable2_CTpair_dir, \n",
    "                                                           min_pval=0.05, \n",
    "                                                           vmin=-5.5, vmax=5.5)"
   ]
  },
  {
   "cell_type": "markdown",
   "id": "0c9df81c-4035-47c6-adba-9e19c27cac40",
   "metadata": {},
   "source": [
    "Then we will get the **differential communication scores** for a specific **process**"
   ]
  },
  {
   "cell_type": "code",
   "execution_count": null,
   "id": "050b95d4-d198-4ef5-9125-fb8494fdcfb1",
   "metadata": {},
   "outputs": [],
   "source": [
    "x_chem=nichesphere.comm.getDiffComm(diffCommTbl=x_myoIsc_dir, \n",
    "                                    pairCatDF=pairCatDFdir, \n",
    "                                    ncells=33, \n",
    "                                    cat='ECMglycoprots')\n",
    "x_chem.head()"
   ]
  },
  {
   "cell_type": "markdown",
   "id": "9c48b411-d5df-4df6-bac0-db176ccc6fca",
   "metadata": {},
   "source": [
    "And now we can **plot differential cell communication** scores per process on the edges of the co-localization network using the **catNW** function from Nichesphere, whose parameters are quite similar to the ones of the **colocMW** function"
   ]
  },
  {
   "cell_type": "code",
   "execution_count": null,
   "id": "1271bb41-990c-4827-ad00-923aceadc8a6",
   "metadata": {},
   "outputs": [],
   "source": [
    "plt.rcParams['axes.facecolor'] = \"None\"\n",
    "plt.figure(frameon=False)\n",
    "\n",
    "G=nichesphere.comm.catNW(x_chem=x_chem,\n",
    "                         colocNW=gCol, \n",
    "                         cell_group=niches_dict,  \n",
    "                         plot_title='ECMglycoprots', \n",
    "                         clist=clist, \n",
    "                         nodeSize='betweeness', \n",
    "                         layout=None, \n",
    "                         thr=5.5,                       #only edges with weights higher than this value are shown\n",
    "                         fsize=(10,10), \n",
    "                         alpha=0.4, \n",
    "                         edge_scale=0.5, \n",
    "                         pos=pos, \n",
    "                         lab_spacing=0.05)\n",
    "#Legend\n",
    "legend_elements1=[plt.Line2D([0], [0], marker=\"o\" ,color='w', markerfacecolor=clist[i], lw=4, \n",
    "                             label=list(niches_dict.keys())[i], ms=10) for i in range(len(list(niches_dict.keys())))]\n",
    "plt.gca().add_artist(plt.legend(handles=legend_elements1,loc='upper left', fontsize=13, title='Niches', \n",
    "                                alignment='left'))\n",
    "#plt.savefig('./ECMglycoprots_diffCommNW.pdf')"
   ]
  },
  {
   "cell_type": "markdown",
   "id": "b32ea439-2fc5-48a2-bb64-911f0be572d9",
   "metadata": {},
   "source": [
    "As we did before, we will calculate some network statistics with the networkx package functions on the signed, directed differential communication network"
   ]
  },
  {
   "cell_type": "code",
   "execution_count": null,
   "id": "4bc65c63-1499-4352-a364-e7c11f6543c6",
   "metadata": {},
   "outputs": [],
   "source": []
  },
  {
   "cell_type": "code",
   "execution_count": null,
   "id": "4ca83f6d-48a2-4e05-b6ab-0dcbb0004acc",
   "metadata": {},
   "outputs": [],
   "source": [
    "t1=pd.DataFrame({'betweenness':[nx.betweenness_centrality(G)[x] for x in list(G.nodes)], \n",
    "                 #'degree':[nx.degree_centrality(G)[x] for x in list(G.nodes)], \n",
    "                 'in_degree':[nx.in_degree_centrality(G)[x] for x in list(G.nodes)],\n",
    "                 'out_degree':[nx.out_degree_centrality(G)[x] for x in list(G.nodes)],\n",
    "                 'pagerank':[nx.pagerank(G, weight=None)[x] for x in list(G.nodes)]})\n",
    "t1.index=list(G.nodes)"
   ]
  },
  {
   "cell_type": "code",
   "execution_count": null,
   "id": "ad962c9a-c9b4-48c8-b99e-928c40e2aaff",
   "metadata": {},
   "outputs": [],
   "source": [
    "fig, axes = plt.subplots(1, 4, figsize=(28, 7))\n",
    "for i in range(len(t1.columns)):\n",
    "    _ = sns.barplot(ax=axes[i], y=t1.sort_values(t1.columns[i], ascending=False).index[0:5], x=t1.columns[i], \n",
    "        data=t1.sort_values(t1.columns[i], ascending=False)[0:5], color='purple')\n",
    "    axes[i].set_title(t1.columns[i])\n",
    "fig.tight_layout()"
   ]
  },
  {
   "cell_type": "markdown",
   "id": "dd4c4c63-466c-40fb-b3f6-ca35afbfe405",
   "metadata": {},
   "source": [
    "And look separately at positive and negative in and out - degree of the nodes:"
   ]
  },
  {
   "cell_type": "code",
   "execution_count": null,
   "id": "47f3f8c5-6cc4-43f7-a733-ae378b19eeca",
   "metadata": {},
   "outputs": [],
   "source": [
    "G_pos=G.copy()\n",
    "to_remove=[(a,b) for a, b, attrs in G_pos.edges(data=True) if attrs[\"weight\"] <= 0]\n",
    "G_pos.remove_edges_from(to_remove)\n",
    "t1=pd.DataFrame({'in_degree':[nx.in_degree_centrality(G_pos)[x] for x in list(G_pos.nodes)],\n",
    "                 'out_degree':[nx.out_degree_centrality(G_pos)[x] for x in list(G_pos.nodes)]})\n",
    "t1.index=list(G_pos.nodes)"
   ]
  },
  {
   "cell_type": "code",
   "execution_count": null,
   "id": "69ba8f6a-a659-4352-a963-d72cb32b94ce",
   "metadata": {},
   "outputs": [],
   "source": [
    "G_neg=G.copy()\n",
    "to_remove=[(a,b) for a, b, attrs in G_neg.edges(data=True) if attrs[\"weight\"] >= 0]\n",
    "G_neg.remove_edges_from(to_remove)\n",
    "t2=pd.DataFrame({'in_degree':[nx.in_degree_centrality(G_neg)[x] for x in list(G_neg.nodes)],\n",
    "                 'out_degree':[nx.out_degree_centrality(G_neg)[x] for x in list(G_neg.nodes)]})\n",
    "t2.index=list(G_neg.nodes)"
   ]
  },
  {
   "cell_type": "code",
   "execution_count": null,
   "id": "f322af87-7eec-425f-a6d0-cd323879d8b8",
   "metadata": {},
   "outputs": [],
   "source": [
    "fig, axes = plt.subplots(2, 2, figsize=(14, 7))\n",
    "sns.barplot(ax=axes[0][0], y=t1.sort_values('in_degree', ascending=False).index[0:5], x='in_degree', \n",
    "            data=t1.sort_values('in_degree', ascending=False)[0:5], color='red')\n",
    "axes[0][0].set_title('in_degree_positive')\n",
    "sns.barplot(ax=axes[0][1], y=t1.sort_values('out_degree', ascending=False).index[0:5], x='out_degree', \n",
    "            data=t1.sort_values('out_degree', ascending=False)[0:5], color='red')\n",
    "axes[0][1].set_title('out_degree_positive')\n",
    "sns.barplot(ax=axes[1][0], y=t2.sort_values('in_degree', ascending=False).index[0:5], x='in_degree', \n",
    "            data=t2.sort_values('in_degree', ascending=False)[0:5], color='blue')\n",
    "axes[1][0].set_title('in_degree_negative')\n",
    "sns.barplot(ax=axes[1][1], y=t2.sort_values('out_degree', ascending=False).index[0:5], x='out_degree', \n",
    "            data=t2.sort_values('out_degree', ascending=False)[0:5], color='blue')\n",
    "axes[1][1].set_title('out_degree_negative')\n",
    "fig.tight_layout()"
   ]
  }
 ],
 "metadata": {
  "kernelspec": {
   "display_name": "default",
   "language": "python",
   "name": "python3"
  },
  "language_info": {
   "codemirror_mode": {
    "name": "ipython",
    "version": 3
   },
   "file_extension": ".py",
   "mimetype": "text/x-python",
   "name": "python",
   "nbconvert_exporter": "python",
   "pygments_lexer": "ipython3",
   "version": "3.10.18"
  }
 },
 "nbformat": 4,
 "nbformat_minor": 5
}
