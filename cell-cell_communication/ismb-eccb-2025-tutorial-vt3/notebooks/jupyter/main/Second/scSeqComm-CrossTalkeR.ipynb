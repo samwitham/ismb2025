{
 "cells": [
  {
   "cell_type": "markdown",
   "id": "aa3158cc-cfeb-4670-bd08-ceb5e8569322",
   "metadata": {},
   "source": [
    "# Differential Cell-cell communication with scSeqComm-CrossTalkeR\n",
    "\n",
    "This notebook outlines the steps of inference, analysis and visualization of differential cell-cell communication for a single-cell RNA sequencing data using scSeqComm-CrossTalkeR.\n",
    "\n",
    "The source code for CrossTalkeR is available on GitHub: [CostaLab/CrossTalkeR](https://github.com/CostaLab/CrossTalkeR) \n",
    "\n",
    "The source code for scSeqComm is available on Gitlab: [sysbiobig/scseqcomm](https://gitlab.com/sysbiobig/scseqcomm)"
   ]
  },
  {
   "cell_type": "code",
   "execution_count": 1,
   "id": "1731c78a-8446-4d58-a103-ad6ba6458174",
   "metadata": {
    "vscode": {
     "languageId": "r"
    }
   },
   "outputs": [
    {
     "name": "stderr",
     "output_type": "stream",
     "text": [
      "Loading required package: SeuratObject\n",
      "\n",
      "Loading required package: sp\n",
      "\n",
      "Loading required package: sp\n",
      "\n",
      "\n",
      "Attaching package: 'SeuratObject'\n",
      "\n",
      "\n",
      "The following objects are masked from 'package:base':\n",
      "\n",
      "    intersect, t\n",
      "\n",
      "\n",
      "\n",
      "\n",
      "Warning message:\n",
      "\"replacing previous import 'dplyr::as_data_frame' by 'igraph::as_data_frame' when loading 'CrossTalkeR'\"\n",
      "Warning message:\n",
      "\"replacing previous import 'dplyr::groups' by 'igraph::groups' when loading 'CrossTalkeR'\"\n",
      "Warning message:\n",
      "\"replacing previous import 'clusterProfiler::simplify' by 'igraph::simplify' when loading 'CrossTalkeR'\"\n",
      "Warning message:\n",
      "\"replacing previous import 'dplyr::union' by 'igraph::union' when loading 'CrossTalkeR'\"\n",
      "\n",
      "\n",
      "\n",
      "\n",
      "Warning message:\n",
      "\"replacing previous import 'igraph::as_data_frame' by 'tibble::as_data_frame' when loading 'CrossTalkeR'\"\n",
      "Warning message:\n",
      "\"replacing previous import 'assertthat::has_name' by 'tibble::has_name' when loading 'CrossTalkeR'\"\n",
      "Warning message:\n",
      "\"replacing previous import 'igraph::crossing' by 'tidyr::crossing' when loading 'CrossTalkeR'\"\n",
      "-- \u001b[1mAttaching core tidyverse packages\u001b[22m ------------------------ tidyverse 2.0.0 --\n",
      "\u001b[32mv\u001b[39m \u001b[34mdplyr    \u001b[39m 1.1.4     \u001b[32mv\u001b[39m \u001b[34mreadr    \u001b[39m 2.1.5\n",
      "\u001b[32mv\u001b[39m \u001b[34mforcats  \u001b[39m 1.0.0     \u001b[32mv\u001b[39m \u001b[34mstringr  \u001b[39m 1.5.1\n",
      "\u001b[32mv\u001b[39m \u001b[34mggplot2  \u001b[39m 3.5.2     \u001b[32mv\u001b[39m \u001b[34mtibble   \u001b[39m 3.3.0\n",
      "\u001b[32mv\u001b[39m \u001b[34mlubridate\u001b[39m 1.9.4     \u001b[32mv\u001b[39m \u001b[34mtidyr    \u001b[39m 1.3.1\n",
      "\u001b[32mv\u001b[39m \u001b[34mpurrr    \u001b[39m 1.0.4     \n",
      "-- \u001b[1mConflicts\u001b[22m ------------------------------------------ tidyverse_conflicts() --\n",
      "\u001b[31mx\u001b[39m \u001b[34mdplyr\u001b[39m::\u001b[32mfilter()\u001b[39m masks \u001b[34mstats\u001b[39m::filter()\n",
      "\u001b[31mx\u001b[39m \u001b[34mdplyr\u001b[39m::\u001b[32mlag()\u001b[39m    masks \u001b[34mstats\u001b[39m::lag()\n",
      "\u001b[36mi\u001b[39m Use the conflicted package (\u001b[3m\u001b[34m<http://conflicted.r-lib.org/>\u001b[39m\u001b[23m) to force all conflicts to become errors\n",
      "\n",
      "Attaching package: 'data.table'\n",
      "\n",
      "\n",
      "The following objects are masked from 'package:lubridate':\n",
      "\n",
      "    hour, isoweek, mday, minute, month, quarter, second, wday, week,\n",
      "    yday, year\n",
      "\n",
      "\n",
      "The following objects are masked from 'package:dplyr':\n",
      "\n",
      "    between, first, last\n",
      "\n",
      "\n",
      "The following object is masked from 'package:purrr':\n",
      "\n",
      "    transpose\n",
      "\n",
      "\n",
      "Loading required package: ggrepel\n",
      "\n"
     ]
    }
   ],
   "source": [
    "library(Seurat)\n",
    "library(CrossTalkeR)\n",
    "library(scSeqComm)\n",
    "library(tidyverse)\n",
    "library(data.table)\n",
    "library(EnhancedVolcano)\n",
    "require(ggplot2)"
   ]
  },
  {
   "cell_type": "markdown",
   "id": "1e04a908-bfe9-4318-9e9b-d5879ebf1056",
   "metadata": {},
   "source": [
    "### Looking into the scRNAseq data\n",
    "\n",
    "In the current tutorial, we will utilize the Myocardial Infarction data from [Kuppe 2022](https://www.nature.com/articles/s41586-022-05060-x), which comprises heart samples from 23 patients. From each sample, scRNAseq and SRT were obtained. For the interest of time, we focus our tutorial in studying only the Ishemic and Myogenic phenotypes"
   ]
  },
  {
   "cell_type": "code",
   "execution_count": 2,
   "id": "46e8658b-1b1c-4b31-8445-bdaa652a53f5",
   "metadata": {
    "vscode": {
     "languageId": "r"
    }
   },
   "outputs": [
    {
     "name": "stderr",
     "output_type": "stream",
     "text": [
      "Warning message in gzfile(file, \"rb\"):\n",
      "\"cannot open compressed file '/Tutorial_ISMBECCB2025/data_vt3/second/crosstalker/2306_scRNAseq_MOIZ.rds', probable reason 'No such file or directory'\"\n"
     ]
    },
    {
     "ename": "ERROR",
     "evalue": "Error in gzfile(file, \"rb\"): cannot open the connection\n",
     "output_type": "error",
     "traceback": [
      "Error in gzfile(file, \"rb\"): cannot open the connection\nTraceback:\n",
      "1. gzfile(file, \"rb\")",
      "2. .handleSimpleError(function (cnd) \n . {\n .     watcher$capture_plot_and_output()\n .     cnd <- sanitize_call(cnd)\n .     watcher$push(cnd)\n .     switch(on_error, continue = invokeRestart(\"eval_continue\"), \n .         stop = invokeRestart(\"eval_stop\"), error = NULL)\n . }, \"cannot open the connection\", base::quote(gzfile(file, \"rb\")))"
     ]
    }
   ],
   "source": [
    "data <- readRDS(\"/Tutorial_ISMBECCB2025/data_vt3/second/crosstalker/2306_scRNAseq_MOIZ.rds\")"
   ]
  },
  {
   "cell_type": "code",
   "execution_count": null,
   "id": "3ca41843-65c3-49c0-ab97-8e77bcde01cf",
   "metadata": {
    "vscode": {
     "languageId": "r"
    }
   },
   "outputs": [],
   "source": [
    "table(data$patient_group)"
   ]
  },
  {
   "cell_type": "markdown",
   "id": "f9ac1216-f299-4a6d-8ad7-870bfe4d56cb",
   "metadata": {},
   "source": [
    "## scSeqComm for each phenotype - only intercellular communication"
   ]
  },
  {
   "cell_type": "code",
   "execution_count": null,
   "id": "4a93372f-68b6-499f-94f7-d1d9a9d36447",
   "metadata": {
    "vscode": {
     "languageId": "r"
    }
   },
   "outputs": [],
   "source": [
    "myogenicmtx <- subset(data, patient_group==\"myogenic\") ## Subsetting the data for only myogenic cells\n",
    "myogenicmeta <- data.frame(Cell_ID=colnames(myogenicmtx), Cluster_ID=myogenicmtx$cell_subtype2)"
   ]
  },
  {
   "cell_type": "markdown",
   "id": "451fbebc-6620-4b5e-b59d-6ccdcd6db79b",
   "metadata": {},
   "source": [
    "### Now we call scSeqComm function to perform the intercellular inference in the phenotypes we want to compare"
   ]
  },
  {
   "cell_type": "code",
   "execution_count": null,
   "id": "dfc4559a-ea69-4826-b4c0-9b34f2b12a48",
   "metadata": {
    "vscode": {
     "languageId": "r"
    }
   },
   "outputs": [],
   "source": [
    "data(LR_pairs_ConnectomeDB_2020) ## Selecting the LR resource\n",
    "LR_db <- LR_pairs_ConnectomeDB_2020"
   ]
  },
  {
   "cell_type": "code",
   "execution_count": null,
   "id": "aa10e729-bf60-4ac2-a111-d2d35c29a00c",
   "metadata": {
    "vscode": {
     "languageId": "r"
    }
   },
   "outputs": [],
   "source": [
    "num_core <- 8\n",
    "res_myo <- scSeqComm_analyze(gene_expr = GetAssayData(myogenicmtx,'RNA'),\n",
    "                                  cell_metadata = myogenicmeta,\n",
    "                                  LR_pairs_DB = LR_db,\n",
    "                                  inter_signaling = T,                      # wheter comppute intercellular signaling\n",
    "                                  inter_scores = \"scSeqComm\",               # Intercellular signaling scoring schemes to be computed (default \"scSeqComm\")\n",
    "                                  min_cells = 30,                           # Minimum number of cells that a cluster (i.e., cell type) should be composed of to compute scSeqComm score\n",
    "                                  intra_signaling = F                      # whether compute intracellular signaling\n",
    "\n",
    "                                  )"
   ]
  },
  {
   "cell_type": "code",
   "execution_count": null,
   "id": "64e1af13-a148-4697-8b21-759ce1074017",
   "metadata": {
    "vscode": {
     "languageId": "r"
    }
   },
   "outputs": [],
   "source": [
    "rm(myogenicmtx) \n",
    "gc()"
   ]
  },
  {
   "cell_type": "markdown",
   "id": "c7ddb71d-5721-4c51-adac-e2bef6dccb70",
   "metadata": {},
   "source": [
    "### In analogous manner, we will infer the cell cell communication using the Ischemic samples"
   ]
  },
  {
   "cell_type": "code",
   "execution_count": null,
   "id": "09356270-ca36-41b0-99d1-25ac8c52c4e8",
   "metadata": {
    "vscode": {
     "languageId": "r"
    }
   },
   "outputs": [],
   "source": [
    "ischemicmtx <- subset(data, patient_group==\"ischemic\") ## Subsetting the data for only ischemic cells\n",
    "ischemicmeta <- data.frame(Cell_ID=colnames(ischemicmtx), Cluster_ID=ischemicmtx$cell_subtype2)"
   ]
  },
  {
   "cell_type": "code",
   "execution_count": null,
   "id": "0db81766-5207-4a99-af91-86841e2da4bf",
   "metadata": {
    "vscode": {
     "languageId": "r"
    }
   },
   "outputs": [],
   "source": [
    "res_isch <- scSeqComm_analyze(gene_expr = GetAssayData(ischemicmtx,'RNA'),\n",
    "                                  cell_metadata = ischemicmeta,\n",
    "                                  LR_pairs_DB = LR_db,\n",
    "                                  inter_signaling = T,                      # wheter comppute intercellular signaling\n",
    "                                  inter_scores = \"scSeqComm\",               # Intercellular signaling scoring schemes to be computed (default \"scSeqComm\")\n",
    "                                  min_cells = 30,                           # Minimum number of cells that a cluster (i.e., cell type) should be composed of to compute scSeqComm score\n",
    "                                  intra_signaling = F                      # whether compute intracellular signaling\n",
    "\n",
    "                                  )"
   ]
  },
  {
   "cell_type": "code",
   "execution_count": null,
   "id": "3b145d36-5b20-4409-b2bb-8a9e6556deb6",
   "metadata": {
    "vscode": {
     "languageId": "r"
    }
   },
   "outputs": [],
   "source": [
    "rm(ischemicmtx) \n",
    "rm(data)\n",
    "gc()"
   ]
  },
  {
   "cell_type": "markdown",
   "id": "d4be5513-8c9a-4e45-b606-ce08741dbe1d",
   "metadata": {},
   "source": [
    "### Following, we use a threshold to filter the relevant interactions"
   ]
  },
  {
   "cell_type": "code",
   "execution_count": null,
   "id": "6e0fcf7c-0014-4cd9-bfb1-6ca07adb808b",
   "metadata": {
    "vscode": {
     "languageId": "r"
    }
   },
   "outputs": [],
   "source": [
    "selected_comm_myo <- scSeqComm_select(res_myo$comm_results, \n",
    "                                  S_inter = 0.5,\n",
    "                                  operator = \"OR\")\n",
    "selected_comm_isc <- scSeqComm_select(res_isch$comm_results, \n",
    "                                  S_inter = 0.5,\n",
    "                                  operator = \"OR\")"
   ]
  },
  {
   "cell_type": "markdown",
   "id": "b578eb31-2c28-4c5a-8391-bccb441f3f1e",
   "metadata": {},
   "source": [
    "### Preparing the data for CrossTalkeR"
   ]
  },
  {
   "cell_type": "code",
   "execution_count": null,
   "id": "3d1a389c-506b-402b-9e08-9f0d5bbfcdcc",
   "metadata": {
    "vscode": {
     "languageId": "r"
    }
   },
   "outputs": [],
   "source": [
    "selected_comm_myo<-selected_comm_myo %>%\n",
    "    mutate(source=cluster_L) %>%\n",
    "    mutate(target=cluster_R) %>%\n",
    "    mutate(gene_A=ligand) %>%\n",
    "    mutate(gene_B=receptor) %>%\n",
    "    mutate(type_gene_A=\"Ligand\") %>%\n",
    "    mutate(type_gene_B=\"Receptor\") %>%\n",
    "    mutate(LRScore=round(S_inter,4)) %>%\n",
    "    select(c(\"source\", \"target\", \"gene_A\", \"gene_B\", \"type_gene_A\", \"type_gene_B\",\"LRScore\"))%>%\n",
    "    filter(!is.na(.data$LRScore)) %>% filter(.data$LRScore > 0.2)\n",
    "selected_comm_isc<-selected_comm_isc %>%\n",
    "    mutate(source=cluster_L) %>%\n",
    "    mutate(target=cluster_R) %>%\n",
    "    mutate(gene_A=ligand) %>%\n",
    "    mutate(gene_B=receptor) %>%\n",
    "    mutate(type_gene_A=\"Ligand\") %>%\n",
    "    mutate(type_gene_B=\"Receptor\") %>%\n",
    "    mutate(LRScore=round(S_inter,4))%>%\n",
    "    select(c(\"source\", \"target\", \"gene_A\", \"gene_B\", \"type_gene_A\", \"type_gene_B\",\"LRScore\")) %>%\n",
    "    filter(!is.na(.data$LRScore)) %>%\n",
    "    filter(.data$LRScore > 0.2)"
   ]
  },
  {
   "cell_type": "markdown",
   "id": "fd44c244-5411-4f3c-a9b1-e041aeffd09b",
   "metadata": {},
   "source": [
    "## CrossTalkeR"
   ]
  },
  {
   "cell_type": "code",
   "execution_count": null,
   "id": "a2d7d0ef-6d98-4443-ba96-f2fa6d2405e8",
   "metadata": {
    "vscode": {
     "languageId": "r"
    }
   },
   "outputs": [],
   "source": [
    "paths <- list(\"myogenic\"=selected_comm_myo,\n",
    "             \"ischemic\"=selected_comm_isc)\n",
    "\n",
    "ctkerdata<-generate_report(lrpaths = paths,\n",
    "                threshold = 0,\n",
    "                out_path = \"/Tutorial_ISMBECCB2025/data_vt3/second/crosstalker/\",\n",
    "                out_file = \"out.html\",\n",
    "                sel_columns = c(\"source\", \"target\", \"gene_A\", \"gene_B\", \"type_gene_A\", \"type_gene_B\",\"LRScore\"),filtered=TRUE)"
   ]
  },
  {
   "cell_type": "code",
   "execution_count": null,
   "id": "adcc3a87-94c9-4367-8794-9aa637ac9e71",
   "metadata": {
    "vscode": {
     "languageId": "r"
    }
   },
   "outputs": [],
   "source": [
    "dir(\"/Tutorial_ISMBECCB2025/data_vt3/second/crosstalker/\")"
   ]
  },
  {
   "cell_type": "markdown",
   "id": "efe42ee6-ff24-4244-bb37-255ac4d41baf",
   "metadata": {},
   "source": [
    "### Looking into the differential abundant CCC pairs"
   ]
  },
  {
   "cell_type": "code",
   "execution_count": null,
   "id": "30e87b03-4014-4b1f-a2c0-7098b657cc39",
   "metadata": {
    "vscode": {
     "languageId": "r"
    }
   },
   "outputs": [],
   "source": [
    "options(repr.plot.width=15,repr.plot.height=10)\n",
    "EnhancedVolcano(ctkerdata@stats$ischemic_x_myogenic,\n",
    "                lab = ctkerdata@stats$ischemic_x_myogenic$columns_name,\n",
    "                x = \"lodds\",\n",
    "                y = \"p\",\n",
    "                pCutoff = 0.05,FCcutoff=0.5)"
   ]
  },
  {
   "cell_type": "markdown",
   "id": "6f8ca3c9-984e-430a-9a63-d19ac1e6fe00",
   "metadata": {},
   "source": [
    "### Now we can use the filtered version to check which cells are communicating more and better"
   ]
  },
  {
   "cell_type": "code",
   "execution_count": null,
   "id": "73fc9f43-b57e-4ccc-a804-c2d0a15f1389",
   "metadata": {
    "vscode": {
     "languageId": "r"
    }
   },
   "outputs": [],
   "source": [
    "options(repr.plot.width=21,repr.plot.height=7)\n",
    "p1<-ctkerdata@rankings$ischemic_x_myogenic_filtered |>\n",
    "    ggplot(aes(x=Influencer,y=reorder(nodes,Influencer),fill=Influencer))+ \n",
    "          geom_bar(stat = \"identity\")+\n",
    "          scale_fill_viridis_c()+\n",
    "          theme_minimal()+\n",
    "          theme(axis.text.y = element_text(color = \"grey20\", size = 18, angle = 0, hjust = 1, vjust = 0, face = \"plain\"))\n",
    "p2<-ctkerdata@rankings$ischemic_x_myogenic_filtered |>\n",
    "    ggplot(aes(x=Listener,y=reorder(nodes,Listener),fill=Listener))+ \n",
    "          geom_bar(stat = \"identity\")+\n",
    "          scale_fill_viridis_c()+\n",
    "          theme_minimal()+\n",
    "          theme(axis.text.y = element_text(color = \"grey20\", size = 18, angle = 0, hjust = 1, vjust = 0, face = \"plain\"))\n",
    "p3<-ctkerdata@rankings$ischemic_x_myogenic_filtered |>\n",
    "    ggplot(aes(x=Pagerank,y=reorder(nodes,Pagerank),fill=Pagerank))+ \n",
    "          geom_bar(stat = \"identity\")+\n",
    "          scale_fill_viridis_c()+\n",
    "          theme_minimal()+\n",
    "          theme(axis.text.y = element_text(color = \"grey20\", size = 18, angle = 0, hjust = 1, vjust = 0, face = \"plain\"))\n",
    "p1+p2+p3"
   ]
  },
  {
   "cell_type": "code",
   "execution_count": null,
   "id": "256a6f3d-5180-45d1-9664-d58d7fa31a1f",
   "metadata": {
    "vscode": {
     "languageId": "r"
    }
   },
   "outputs": [],
   "source": [
    "ctkerdata@tables$ischemic_x_myogenic %>%\n",
    "    slice_max(order_by = -abs(LRScore),with_ties = FALSE,n=10)"
   ]
  },
  {
   "cell_type": "code",
   "execution_count": null,
   "id": "7603ac60-60db-4b51-8d34-a8d70a6b300f",
   "metadata": {
    "vscode": {
     "languageId": "r"
    }
   },
   "outputs": [],
   "source": [
    "options(repr.plot.width=20,repr.plot.height=10)\n",
    "threshold = 25\n",
    "data <- ctkerdata@tables$ischemic_x_myogenic %>% \n",
    "        filter(source==\"damaged_CM\") %>%\n",
    "        filter(gene_A == \"TGFB1|L\")\n",
    "tmp_cols <- c(\"source\", \"Ligand\", \"Receptor\", \"target\")\n",
    "data$freq <-1\n",
    "upsel <- dplyr::slice_max(data, order_by = data$LRScore,\n",
    "                        n = ifelse(dim(data)[1] > threshold, threshold, dim(data)[1]), with_ties = FALSE)\n",
    "lowsel <- dplyr::slice_min(data, order_by = data$LRScore,\n",
    "                        n = ifelse(dim(data)[1] > threshold, threshold, dim(data)[1]), with_ties = FALSE)\n",
    "tmp = rbind(upsel,lowsel)\n",
    "ggplot2::ggplot(tmp, aes(y = .data$freq, axis1 = .data$source,\n",
    "                               axis2 = stats::reorder(.data$gene_A, -.data$LRScore),\n",
    "                               axis3 = stats::reorder(.data$gene_B, -.data$LRScore),\n",
    "                               axis4 = .data$target)) +\n",
    "        ggalluvial::geom_alluvium(aes(fill = .data$LRScore, color = 'b'),\n",
    "                                  width = 1 / 12,\n",
    "                                  discern = FALSE) +\n",
    "        ggalluvial::geom_stratum(width = 1 / 12) +\n",
    "        ggplot2::geom_label(stat = ggalluvial::StatStratum,\n",
    "                            ggplot2::aes(label = ggplot2::after_stat(.data$stratum)),\n",
    "                            size = 4) +\n",
    "        ggplot2::scale_x_discrete(limits = tmp_cols, expand = c(.05, .05)) +\n",
    "        ggplot2::scale_fill_gradient2(low = colorBlindness::Blue2DarkOrange18Steps[4],\n",
    "                                      mid = colorBlindness::Blue2DarkOrange18Steps[10],\n",
    "                                      high = colorBlindness::Blue2DarkOrange18Steps[14], midpoint = 0) +\n",
    "        ggplot2::scale_color_manual(values = c(\"black\")) +\n",
    "        ggplot2::theme(text = element_text(size = 8)) +\n",
    "        ggplot2::theme_minimal()\n",
    "#ggsave(\"dCM_sankey.pdf\",width=20,height=10)"
   ]
  },
  {
   "cell_type": "code",
   "execution_count": null,
   "id": "00de8d0b-70ed-496d-93ef-c612e0d1cb80",
   "metadata": {
    "vscode": {
     "languageId": "r"
    }
   },
   "outputs": [],
   "source": [
    "sessionInfo()"
   ]
  }
 ],
 "metadata": {
  "kernelspec": {
   "display_name": "R",
   "language": "R",
   "name": "ir"
  },
  "language_info": {
   "codemirror_mode": "r",
   "file_extension": ".r",
   "mimetype": "text/x-r-source",
   "name": "R",
   "pygments_lexer": "r",
   "version": "4.3.3"
  }
 },
 "nbformat": 4,
 "nbformat_minor": 5
}
