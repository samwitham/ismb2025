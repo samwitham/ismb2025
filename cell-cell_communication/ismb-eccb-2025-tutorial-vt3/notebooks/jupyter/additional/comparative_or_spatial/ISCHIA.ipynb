{
 "cells": [
  {
   "cell_type": "markdown",
   "id": "077a1984-54c5-4541-a97d-4e7dc9354583",
   "metadata": {},
   "source": [
    "# Introduction to comparative analysis of cell-cell communication and spatial analysis\n",
    "\n",
    "Ivan G. Costa$^1$, James Nagai$^1$, Mayra Ruiz$^1$, Giullia Cesaro$^2$ \n",
    "\n",
    "*Tool:* ISCHIA[1]\n",
    "\n",
    "Github: [ati-lz/ISCHIA](https://github.com/ati-lz/ISCHIA)\n",
    "\n",
    "$^1$ Institute for Computational Genomics, RWTH Aachen University, Pauwelstr 19, Aachen, 52074, NRW, Germany.\n",
    "\n",
    "$^2$ Department of Information Engineering, University of Padova, Street,City, 100190, State, Country.\n",
    "\n",
    "_References_\n",
    "\n",
    "[1]Lafzi, Atefeh, Costanza Borrelli, Simona Baghai Sain, Karsten Bach, Jonas A. Kretz, Kristina Handler, Daniel Regan-Komito, Xenia Ficht, Andreas Frei, and Andreas Moor. \"Identifying spatial co-occurrence in healthy and inflamed tissues (ISCHIA).\" Molecular Systems Biology 20, no. 2 (2024): 98-119."
   ]
  },
  {
   "cell_type": "markdown",
   "id": "74cfeec9-d5b6-4548-be7c-f3182ad118ea",
   "metadata": {},
   "source": [
    "### Step1: We will load all libraries used for the analysis"
   ]
  },
  {
   "cell_type": "code",
   "execution_count": null,
   "id": "c1c11f53-4810-4a20-9ba5-3b7541b3619f",
   "metadata": {},
   "outputs": [],
   "source": [
    "# Loading required packages\n",
    "library(ISCHIA)\n",
    "library(robustbase)\n",
    "library(data.table)\n",
    "library(ggplot2)\n",
    "library(Seurat)\n",
    "library(dplyr)\n",
    "library(MuDataSeurat)\n",
    "library(hdf5r)\n",
    "set.seed(42)\n",
    "library(tidyverse)"
   ]
  },
  {
   "cell_type": "markdown",
   "id": "d86f15e3-741f-4229-9d26-6b12069aabf7",
   "metadata": {},
   "source": [
    "### Step2: Reading and Visualizing the data"
   ]
  },
  {
   "cell_type": "code",
   "execution_count": null,
   "id": "bd63328d-938a-411e-9eca-178a29e1f1c6",
   "metadata": {},
   "outputs": [],
   "source": [
    "adata <- readRDS(\"/Tutorial_ISMBECCB2025/data_vt3/second/ischia/FZ_P14.rds\")\n",
    "adata@assays$Spatial<-adata@assays$RNA"
   ]
  },
  {
   "cell_type": "code",
   "execution_count": null,
   "id": "4677fe28-04ef-45da-bbf4-0c68dc1adad4",
   "metadata": {},
   "outputs": [],
   "source": [
    "options(repr.plot.width=16,repr.plot.height=7)\n",
    "p1<-DimPlot(adata,reduction = 'spatial',group.by = \"cell_type_original\",pt.size = 2)\n",
    "p2<-DimPlot(adata,reduction = 'spatial',pt.size = 2)\n",
    "p1+p2"
   ]
  },
  {
   "cell_type": "markdown",
   "id": "3b583837-bc20-4250-bcf4-6d8021f94969",
   "metadata": {},
   "source": [
    "### Step3: Reading the deconvolution results"
   ]
  },
  {
   "cell_type": "code",
   "execution_count": null,
   "id": "67b2aa2c-5088-4b55-9a9e-1d8ef6a3f16e",
   "metadata": {},
   "outputs": [],
   "source": [
    "deconv.mat <- as.matrix(adata@meta.data[,4:14])\n",
    "head(deconv.mat)"
   ]
  },
  {
   "cell_type": "markdown",
   "id": "84a8fd86-92b4-4565-af91-da23d9aa3a2c",
   "metadata": {},
   "source": [
    "### Step4: Selecting the ideal number of clusters"
   ]
  },
  {
   "cell_type": "code",
   "execution_count": null,
   "id": "f030ac9c-8cd2-43b0-a728-82e9c27e988e",
   "metadata": {},
   "outputs": [],
   "source": [
    "options(repr.plot.width=7,repr.plot.height=6)\n",
    "\n",
    "Composition.cluster.k(deconv.mat, 20)"
   ]
  },
  {
   "cell_type": "markdown",
   "id": "aa5de286-ae17-45da-8082-21ce1a213328",
   "metadata": {},
   "source": [
    "### Step5: Composition clustering of the deconvoluted spatial spots"
   ]
  },
  {
   "cell_type": "code",
   "execution_count": null,
   "id": "f6da259b-1530-4136-89ca-ce1f052f02f4",
   "metadata": {},
   "outputs": [],
   "source": [
    "options(repr.plot.width=7,repr.plot.height=6)\n",
    "adata <- Composition.cluster(adata, deconv.mat, 6)\n",
    "table(adata$CompositionCluster_CC)\n",
    "\n",
    "DimPlot(adata, group.by = c(\"CompositionCluster_CC\"),reduction = 'spatial',pt.size = 2) +\n",
    "    scale_fill_manual(values = c(\"cyan\", \"orange\", \"purple\",\"green\",\"yellow\",\"blue\", \"red\",\"black\"))"
   ]
  },
  {
   "cell_type": "markdown",
   "id": "891aac76-db1c-4eaf-9af8-54d8ca25ab40",
   "metadata": {},
   "source": [
    "### Step6: Contribuition of the cell types per cluster"
   ]
  },
  {
   "cell_type": "code",
   "execution_count": null,
   "id": "dcce8a0d-7e48-4bfa-aa34-7c7e97051d76",
   "metadata": {},
   "outputs": [],
   "source": [
    "deconv.mat |>\n",
    "    as_tibble () |>\n",
    "    mutate(cc = adata$CompositionCluster_CC) |>\n",
    "    filter(cc == \"CC3\") |>\n",
    "    reshape2::melt() |>\n",
    "    ggplot(aes(x=variable,y=value,fill=variable))+\n",
    "          geom_boxplot()+theme_minimal()"
   ]
  },
  {
   "cell_type": "code",
   "execution_count": null,
   "id": "d608c92d-ef9c-4d6c-8000-eea4781b7d6a",
   "metadata": {},
   "outputs": [],
   "source": [
    "deconv.mat |>\n",
    "    as_tibble () |>\n",
    "    mutate(cc = adata$CompositionCluster_CC) |>\n",
    "    filter(cc == \"CC2\") |>\n",
    "    reshape2::melt() |>\n",
    "    ggplot(aes(x=variable,y=value,fill=variable))+\n",
    "          geom_boxplot()+theme_minimal()"
   ]
  },
  {
   "cell_type": "code",
   "execution_count": null,
   "id": "0e8bf835-98fd-4a27-b907-d3e419de8973",
   "metadata": {},
   "outputs": [],
   "source": [
    "adata$orig.ident = adata$orig_ident"
   ]
  },
  {
   "cell_type": "markdown",
   "id": "9a524956-04c7-46cf-8bd4-cc75af0626a4",
   "metadata": {},
   "source": [
    "### Step7: Co-localization patterns per Compositional Cluster"
   ]
  },
  {
   "cell_type": "code",
   "execution_count": null,
   "id": "ca8e12e3-0113-4c63-9491-db4c683bb106",
   "metadata": {},
   "outputs": [],
   "source": [
    "options(repr.plot.width=15)\n",
    "CC3 <- spatial.celltype.cooccurence(spatial.object=adata,\n",
    "                                                     deconv.prob.mat=deconv.mat,\n",
    "                                                     COI=\"CC3\", prob.th= 0.05, \n",
    "                                                     Condition=unique(adata$orig_ident))\n",
    "\n",
    "p1<-plot.celltype.cooccurence(CC3)\n",
    "CC2 <- spatial.celltype.cooccurence(spatial.object=adata,\n",
    "                                                     deconv.prob.mat=deconv.mat,\n",
    "                                                     COI=\"CC2\", prob.th= 0.05, \n",
    "                                                     Condition=unique(adata$orig_ident))\n",
    "\n",
    "p2<-plot.celltype.cooccurence(CC2)\n",
    "p1+p2"
   ]
  },
  {
   "cell_type": "markdown",
   "id": "6877585b-0fea-46d1-af0e-37c848b6d96a",
   "metadata": {},
   "source": [
    "### Step7: Compositional Cluster related Cell Cell Communication Patterns"
   ]
  },
  {
   "cell_type": "code",
   "execution_count": null,
   "id": "374319ab-efec-4ee2-95c2-43f61fdcf9ee",
   "metadata": {},
   "outputs": [],
   "source": [
    "lr_network = readRDS(url(\"https://zenodo.org/record/3260758/files/lr_network.rds\"))\n",
    "all.LR.network <- cbind(lr_network[,c(\"from\",\"to\")], LR_Pairs=paste(lr_network$from, lr_network$to, sep = \"_\"))\n",
    "all.LR.network.exp <- all.LR.network[which(all.LR.network$from %in% rownames(adata) & all.LR.network$to %in% rownames(adata)),]\n",
    "\n",
    "# To reduce the computation time for this example, we randomly sample from the whole dataset of LR interactions\n",
    "all.LR.network.exp <- sample_n(all.LR.network.exp,200)\n",
    "all.LR.genes <- unique(c(all.LR.network.exp$from, all.LR.network.exp$to))\n",
    "all.LR.genes.comm <- intersect(all.LR.genes, rownames(adata))\n",
    "LR.pairs <- all.LR.network.exp$LR_Pairs\n",
    "LR.pairs.AllCombos <- combn(all.LR.genes.comm, 2, paste0, collapse = \"_\")"
   ]
  },
  {
   "cell_type": "markdown",
   "id": "547e966c-760c-49cc-8fbc-264e96fa509e",
   "metadata": {},
   "source": [
    "#### This step is time consuming, therefore, we will load the results from the functions below"
   ]
  },
  {
   "cell_type": "code",
   "execution_count": null,
   "id": "3f17525e-e263-426c-9aa5-4b6e3dea76dd",
   "metadata": {},
   "outputs": [],
   "source": [
    "# cc3LRs <- Enriched.LRs(adata, c(\"CC3\"), \n",
    "#                                  unique(adata$orig.ident), \n",
    "#                                  all.LR.genes.comm, LR.pairs, 1, 0.2)\n",
    "# cc2LRs <- Enriched.LRs(adata, c(\"CC2\"), \n",
    "#                                  unique(adata$orig.ident), \n",
    "#                                  all.LR.genes.comm, LR.pairs, 1, 0.2)\n",
    "# saveRDS(cc3LRs,\"cc3LRs.RDS\")\n",
    "# saveRDS(cc2LRs,\"cc2LRs.RDS\")"
   ]
  },
  {
   "cell_type": "code",
   "execution_count": null,
   "id": "c523fac2-b313-4b47-9ef6-b9a8c1293bc3",
   "metadata": {},
   "outputs": [],
   "source": [
    "cc3LRs <- readRDS(\"/Tutorial_ISMBECCB2025/data_vt3/second/ischia/cc3LRs.RDS\")\n",
    "cc2LRs <- readRDS(\"/Tutorial_ISMBECCB2025/data_vt3/second/ischia/cc2LRs.RDS\")"
   ]
  },
  {
   "cell_type": "code",
   "execution_count": null,
   "id": "4f956630-f3b5-4e12-9bc8-4636dc52f21a",
   "metadata": {},
   "outputs": [],
   "source": [
    "cc33vscc2 <- Diff.cooc.LRs(cc3LRs, cc2LRs, 0.05, 0.1)\n"
   ]
  },
  {
   "cell_type": "code",
   "execution_count": null,
   "id": "893b7274-7fe3-47c9-b1dd-7dff1d6b9c12",
   "metadata": {},
   "outputs": [],
   "source": [
    "ChordPlot.Enriched.LRs(cc2LRs$COI.enrcihed.LRs[1:20,])"
   ]
  },
  {
   "cell_type": "code",
   "execution_count": null,
   "id": "8e76ca04-bb74-4366-98a7-34ef98871adf",
   "metadata": {},
   "outputs": [],
   "source": [
    "SankeyPlot.Diff.LRs(cc2LRs$COI.enrcihed.LRs, cc3LRs$COI.enrcihed.LRs)"
   ]
  },
  {
   "cell_type": "code",
   "execution_count": null,
   "id": "706cedf2-3aa3-42d6-9883-ab2d4d40db39",
   "metadata": {},
   "outputs": [],
   "source": [
    "sessionInfo()"
   ]
  }
 ],
 "metadata": {
  "kernelspec": {
   "display_name": "R",
   "language": "R",
   "name": "ir"
  },
  "language_info": {
   "codemirror_mode": "r",
   "file_extension": ".r",
   "mimetype": "text/x-r-source",
   "name": "R",
   "pygments_lexer": "r",
   "version": "4.3.1"
  }
 },
 "nbformat": 4,
 "nbformat_minor": 5
}
