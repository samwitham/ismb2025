{
 "cells": [
  {
   "cell_type": "code",
   "execution_count": null,
   "id": "50751c44-4a03-4ef8-9bab-27b6bd8710ef",
   "metadata": {},
   "outputs": [],
   "source": [
    "import liana as li\n",
    "import matplotlib.pyplot as plt\n",
    "import pandas as pd\n",
    "import seaborn as sns\n",
    "import scanpy as sc\n",
    "import os\n",
    "from pycrosstalker import tools as cttl\n",
    "from pycrosstalker import plots as ctpl\n",
    "import mudata as mu"
   ]
  },
  {
   "cell_type": "code",
   "execution_count": null,
   "id": "31ade1bd-676b-4a75-a5ec-007af562f32c",
   "metadata": {},
   "outputs": [],
   "source": [
    "data = mu.read_h5mu(\"/Tutorial_ISMBECCB2025/data_vt3/second/nichesphere/2306_HMI_allmodalities.h5mu\")"
   ]
  },
  {
   "cell_type": "code",
   "execution_count": null,
   "id": "5256f4be-8dcd-4755-b09e-eb8e0dd95cd1",
   "metadata": {},
   "outputs": [],
   "source": [
    "data = data.mod['sc']"
   ]
  },
  {
   "cell_type": "code",
   "execution_count": null,
   "id": "eb4f6d8c-9ee1-4e6f-9c5d-98888d2f0c80",
   "metadata": {},
   "outputs": [],
   "source": [
    "data"
   ]
  },
  {
   "cell_type": "code",
   "execution_count": null,
   "id": "8be8f210-3aff-43c5-a68c-397f95a684d0",
   "metadata": {},
   "outputs": [],
   "source": [
    "sc.pl.embedding(data,basis='X_umap_harmony',color='cell_subtype2')"
   ]
  },
  {
   "cell_type": "code",
   "execution_count": null,
   "id": "c9dde4f6-581d-4987-abe7-1d54f126af1c",
   "metadata": {},
   "outputs": [],
   "source": [
    "for i in set(data.obs['sampleType']):\n",
    "    print(i)\n",
    "    lr=li.method.cellphonedb(data[data.obs['sampleType']==i],\n",
    "                        groupby='cell_subtype2',\n",
    "                        expr_prop=0.5,\n",
    "                        verbose=True,\n",
    "                        resource_name='consensus',inplace=False,use_raw=False)\n",
    "    lr.to_csv(f\"{i}_lr_liana_consensus.csv\")\n",
    "\n",
    "for i in os.listdir(\"./\"):\n",
    "    if i.endswith('lr_liana_consensus.csv'):\n",
    "        evfull = pd.read_csv(i)\n",
    "        evfull = evfull.loc[:,['ligand','receptor_complex','source','target','lr_means','cellphone_pvals']]\n",
    "        evfull['type_gene_A'] = 'Ligand'\n",
    "        evfull['type_gene_B'] = 'Receptor'\n",
    "        evfull['gene_A'] = evfull['ligand']\n",
    "        evfull['gene_B'] = evfull['receptor_complex']\n",
    "        evfull['MeanLR'] = evfull['lr_means']\n",
    "        k = i[0:i.find('_lr_')]\n",
    "        evfull = evfull.loc[list(evfull.cellphone_pvals.to_numpy()<=0.001),:]\n",
    "        evfull = evfull.loc[:, ['source', 'target', 'type_gene_A', 'type_gene_B', 'gene_A', 'gene_B', 'MeanLR']].to_csv(f'{k}_lr_ready.csv')"
   ]
  },
  {
   "cell_type": "code",
   "execution_count": null,
   "id": "93476e08-b1e2-43d9-9e7d-95aa7fd97865",
   "metadata": {},
   "outputs": [],
   "source": [
    "paths = {\n",
    "    'CTR': \"myogenic_lr_ready.csv\",\n",
    "    'EXP': \"ischemic_lr_ready.csv\"\n",
    "}\n",
    "output = \"output/\"\n",
    "if not os.path.isdir(output):\n",
    "    os.mkdir(output)\n",
    "data = cttl.analise_LR(paths, out_path=output, org=\"hsa\")"
   ]
  },
  {
   "cell_type": "code",
   "execution_count": null,
   "id": "8009da59-d31f-471e-be57-f2a382071a37",
   "metadata": {},
   "outputs": [],
   "source": [
    "paths.keys()"
   ]
  },
  {
   "cell_type": "code",
   "execution_count": null,
   "id": "765a8a05-59f8-486a-a42e-d32fac7950f8",
   "metadata": {},
   "outputs": [],
   "source": [
    "ctpl.plot_volcane(data['stats']['EXP_x_CTR'])"
   ]
  },
  {
   "cell_type": "code",
   "execution_count": null,
   "id": "047c402f-175c-4985-99ec-b826a6cd0d68",
   "metadata": {},
   "outputs": [],
   "source": [
    "ctpl.plot.plot_cci(graph=data[\"graphs\"][\"EXP_x_CTR\"],\n",
    "         colors=data[\"colors\"],\n",
    "         plt_name='Comparative (Disease vs Control)',\n",
    "         coords=data[\"coords\"],\n",
    "         emax= None,\n",
    "         leg= False,\n",
    "         low= 0,\n",
    "         high= 0,\n",
    "         ignore_alpha= False,\n",
    "         log= False,\n",
    "         efactor= 8,\n",
    "         vfactor= 12,\n",
    "         pg= data[\"rankings\"][\"EXP_x_CTR\"][\"Pagerank\"]\n",
    "         )"
   ]
  }
 ],
 "metadata": {
  "kernelspec": {
   "display_name": "Python 3 (ipykernel)",
   "language": "python",
   "name": "python3"
  },
  "language_info": {
   "codemirror_mode": {
    "name": "ipython",
    "version": 3
   },
   "file_extension": ".py",
   "mimetype": "text/x-python",
   "name": "python",
   "nbconvert_exporter": "python",
   "pygments_lexer": "ipython3",
   "version": "3.10.12"
  }
 },
 "nbformat": 4,
 "nbformat_minor": 5
}
