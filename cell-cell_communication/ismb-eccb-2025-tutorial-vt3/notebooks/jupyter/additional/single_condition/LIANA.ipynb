{
 "cells": [
  {
   "cell_type": "markdown",
   "id": "2fda278b",
   "metadata": {},
   "source": [
    "# Cell-cell communication with LIANA\n",
    "This notebook outlines the steps of inference, analysis and visualization of cell-cell communication for a single-cell RNA sequencing data using **LIANA**. \n",
    "\n",
    "For comprehensive instructions and detailed descriptions of the methods, please refer to the official [DOCUMENTATION](https://liana-py.readthedocs.io/en/latest/index.html).\n",
    "\n",
    "The source code is available on GitHub: [saezlab/liana-py](https://github.com/saezlab/liana-py)."
   ]
  },
  {
   "cell_type": "markdown",
   "id": "4b64c004",
   "metadata": {},
   "source": [
    "## About LIANA\n",
    "LIANA (LIgand-receptor ANalysis frAmework) is a flexible and extensible toolkit designed to infer ligand–receptor interactions from single-cell transcriptomics data using prior biological knowledge. It serves as a unified framework that harmonizes and integrates multiple existing methods and databases to study cell–cell communication in a robust and reproducible way.\n",
    "\n",
    "LIANA allows users to combine various inference methods and ligand–receptor resources, or to generate consensus results across them. It supports both Python and R, with the Python implementation offering faster performance, better memory efficiency, and active feature development. The R version remains available and is suitable for users working within R-based workflows.\n",
    "\n",
    "This notebook demonstrates how to apply LIANA to analyze cell–cell communication, highlighting its modularity, interpretability, and support for consensus-based analyses."
   ]
  },
  {
   "cell_type": "markdown",
   "id": "b58d47f6",
   "metadata": {},
   "source": [
    "## Load the required libraries"
   ]
  },
  {
   "cell_type": "code",
   "execution_count": null,
   "id": "30d6c73a",
   "metadata": {},
   "outputs": [],
   "source": [
    "import liana as li\n",
    "import scanpy as sc\n",
    "import anndata"
   ]
  },
  {
   "cell_type": "markdown",
   "id": "723a9a35",
   "metadata": {},
   "source": [
    "## Data input \n",
    "Liana requires\n",
    "- **gene expression data**:  processed single-cell transcriptomics data as anndata object with pre-defined cell labels (identities).\n",
    "- **ligand-receptor database**: a reference file containing all putative ligand–receptor pairs used for inference."
   ]
  },
  {
   "cell_type": "markdown",
   "id": "2f1d28be",
   "metadata": {},
   "source": [
    "### Gene expression data\n",
    "Liana use anndata objects with processed single-cell transcriptomics data, with pre-defined cell labels (identities)"
   ]
  },
  {
   "cell_type": "code",
   "execution_count": null,
   "id": "ba91d860",
   "metadata": {},
   "outputs": [],
   "source": [
    "# inspect data\n",
    "adata = anndata.read_h5ad(\"/Tutorial_ISMBECCB2025/data_vt3/first/2306scRNAseq_HMI_Ischemic.h5ad\")"
   ]
  },
  {
   "cell_type": "markdown",
   "id": "06d9db0c",
   "metadata": {},
   "source": [
    "### Ligand-Receptor Interactions\n",
    " LIANA+ provides a frozen set of interactions across resources. These are accessible through the select_resource function in the resource module. The resources that are currently supported are:"
   ]
  },
  {
   "cell_type": "code",
   "execution_count": null,
   "id": "3ee3b070",
   "metadata": {},
   "outputs": [],
   "source": [
    "li.resource.show_resources()"
   ]
  },
  {
   "cell_type": "markdown",
   "id": "5337f0b3",
   "metadata": {},
   "source": [
    "By default, liana uses the consensus resource, which is composed by multiple expert-curated ligand-receptor resources, including CellPhoneDB, CellChat, ICELLNET, connectomeDB2020, and CellTalkDB.\n",
    "All of the ligand-receptor resource in LIANA+ were pre-generated using the OmniPath meta-database. Though any custom resource can also be passed, including those provided by the user or generated using the omnipath client package."
   ]
  },
  {
   "cell_type": "code",
   "execution_count": null,
   "id": "700ae9c0",
   "metadata": {},
   "outputs": [],
   "source": [
    "resource = li.rs.select_resource('consensus')\n",
    "resource.head()"
   ]
  },
  {
   "cell_type": "markdown",
   "id": "ecc4ae06",
   "metadata": {},
   "source": [
    "## Inference of cell-cell communication\n",
    "LIANA re-implemetns multiple methods to infer cell-cell communication based on ligand-receptor interactions. Each tool relies on different biological assumptions and scoring strategies, typically providing two key scores per interaction:\n",
    "- Magnitude score: Captures the strength or intensity of the interaction (often based on gene expression).\n",
    "- Specificity score: Measures how uniquely the interaction occurs between specific cell type pairs, often derived from statistical significance or contrast with background.\n",
    "\n",
    "The tools implemented in this repository are:\n",
    "- CellPhoneDBv2: \n",
    "    - Magnitude: Mean expression of ligand and receptor in their respective sender and receiver cell types.\n",
    "    - Specificity: One-sided permutation test: cell type labels are shuffled to generate a null distribution, and an empirical p-value is computed by comparing the observed magnitude score to this null.\n",
    "- Connectome\n",
    "    - Magnitude: Product of the mean expression of ligand and receptor in their respective sender and receiver cell types.\n",
    "    - Specificity: Average of the z-scores for ligand and receptor expression, indicating how much each is upregulated in the respective cell type relative to others.\n",
    "-log2FC(iTALK-inspired):\n",
    "    - Magnitude: /\n",
    "    - Specificity: Average of one-vs-rest log2 fold-change (log2FC) values for ligand (in the sender cell type) and receptor (in the receiver cell type), highlighting interactions with cell-type-specific expression.\n",
    "- NATMI\n",
    "    - Magnitude: Product of the mean expression of ligand and receptor in their respective sender and receiver cell types.\n",
    "    - Specificity: Product of: (1) Ligand mean expression in the sender divided by its total expression across all cell types, and (2) Receptor mean expression in the receiver divided by its total expression across all cell types.\n",
    "- SingleCellSignalR: \n",
    "    - Magnitude: Geometric mean of the mean expression of ligand and receptor in sender and receiver cell types, regularized by the mean expression across the entire dataset.\n",
    "    - Specificity: /\n",
    "- Geometric mean: \n",
    "    - Magnitude: Geometric mean of the mean expression of ligand and receptor in sender and receiver cell types.\n",
    "    - Specificity: One-sided permutation test: cell type labels are shuffled to generate a null distribution, and an empirical p-value is computed by comparing the observed magnitude score to this null.\n",
    "- scSeqComm:\n",
    "    - Magnitude: Minimum of the cumulative distribution functions (CDFs) of ligand and receptor expression, where expression is modeled as a normal distribution with: Mean = gene's mean expression in the cell type\n",
    "    Std = gene's standard deviation divided by √(number of cells)\n",
    "    - Specificity: /\n",
    "- CellChat: \n",
    "    - Magnitude: Hill function applied to the product of Tukey’s trimean expression of ligand and receptor in sender and receiver cell types. The original CellChat implementation additionally uses information about mediator proteins, which is not implemented here.\n",
    "    - Specificity: One-sided permutation test: cell type labels are shuffled to generate a null distribution, and an empirical p-value is computed by comparing the observed magnitude score to this null.\n",
    "\n",
    "\n",
    " > All methods are implemented as instances of the Method class. To obtain further information for each method the user can refer to the methods documentation ?method_name\n",
    "\n",
    " > Some differences are expected with the original implementations largely due to different preprocessing steps which LIANA+ harmonised across the different methods. Specifically, \n",
    " - LIANA+ considers the minimum score (e.g. average expression) for complex subunits, while some methods consider the mean, geometric mean, or simply do not account for complexes at all.\n",
    " - LIANA considers interactions as occurring only if both the ligand and receptor, as well as all of their subunits, are expressed above a certain proportion of cells in both clusters involved in the interaction (0.1 by default).\n",
    " Please consider citing the original methods when using their LIANA+ adaptations in your work!"
   ]
  },
  {
   "cell_type": "code",
   "execution_count": null,
   "id": "8801030c",
   "metadata": {},
   "outputs": [],
   "source": [
    "li.mt.show_methods()"
   ]
  },
  {
   "cell_type": "markdown",
   "id": "e00fe0de",
   "metadata": {
    "vscode": {
     "languageId": "markdown"
    }
   },
   "source": [
    "### LIANA consensus score\n",
    "LIANA also provides a consensus score that integrates the predictions from multiple individual methods. To unify and compare these heterogeneous outputs, LIANA implements a robust consensus strategy using the RobustRankAggregate (RRA) algorithm:\n",
    "\n",
    "- Rank and Normalize Scores: For each interaction and each method, magnitude and specificity scores are ranked independently. These ranks are then normalized to a [0,1] scale by dividing each rank by the maximum possible rank for that method.\n",
    "- Compare Against Null Model: Each normalized rank is evaluated against a null model of random rankings using a beta distribution. This yields a p-value representing the likelihood of observing that rank by chance. The minimum p-value across all methods is retained for each interaction, capturing the strongest consensus signal.\n",
    "\n",
    "LIANA performs consensus scoring across the following tools: CellPhoneDB, Connectome, log2FC (iTALK-inspired), NATMI and SingleCellSignalR"
   ]
  },
  {
   "cell_type": "code",
   "execution_count": null,
   "id": "1173896f",
   "metadata": {},
   "outputs": [],
   "source": [
    "from liana.mt import rank_aggregate\n",
    "\n",
    "\n",
    "li.mt.rank_aggregate(adata,                                 # Annotated data object\n",
    "                    groupby='cell_type',                    # Column in `adata.obs` indicating cell type or identity.\n",
    "                    use_raw=False,                          # Use `adata.raw` for gene expression if available. Set to False to use `adata.X`.\n",
    "                    resource_name='consensus',              # Name of the resource to be used for ligand-receptor inference.\n",
    "                    \n",
    "                    # Method parameters\n",
    "                    expr_prop=0.1,                          # Minimum expression proportion for the ligands and receptors in the corresponding cell identities. \n",
    "                    min_cells = 5,                          # Minimum cells (per cell identity) to be considered for downstream analysis.\n",
    "                    n_perms=1000,                           # Number of permutations for the permutation test. Relevant only for permutation-based methods\n",
    "                    n_jobs=1,                               # Number of parallel processes. Increase to speed up computation.\n",
    "\n",
    "                    # Aggregation\n",
    "                    aggregate_method = 'rra',              # Aggregation strategy: \n",
    "                                                           # - 'mean': average rank across methods\n",
    "                                                           # - 'rra': Robust Rank Aggregation, provides p-values for consensus ranks\n",
    "                    consensus_opts= None,                  # Which scores to aggregate across methods. If None, uses both 'Magnitude' and 'Specificity'.\n",
    "\n",
    "                    verbose=True)                          # Print progress during execution."
   ]
  },
  {
   "cell_type": "markdown",
   "id": "8daaa8ba",
   "metadata": {},
   "source": [
    "LIANA allows you to compute custom consensus rankings by selecting a subset of methods."
   ]
  },
  {
   "cell_type": "code",
   "execution_count": null,
   "id": "b5a88e0a",
   "metadata": {},
   "outputs": [],
   "source": [
    "from liana.mt import logfc, geometric_mean, cellphonedb\n",
    "from liana.mt import AggregateClass, aggregate_meta\n",
    "\n",
    "# Select only a subset of methods\n",
    "methods = [logfc, geometric_mean, cellphonedb]\n",
    "\n",
    "# Instantiate a new AggregateClass with the chosen methods\n",
    "new_rank_aggregate = AggregateClass(aggregate_meta, methods=methods)\n",
    "\n",
    "# Run the aggregation (in-place on `adata`)\n",
    "new_rank_aggregate(adata,                                 # Annotated data object\n",
    "                   groupby='cell_type',                    # Column in `adata.obs` indicating cell type or identity.\n",
    "                   use_raw=False,                          # Use `adata.raw` for gene expression if available. Set to False to use `adata.X`.\n",
    "                   resource_name='consensus',              # Name of the resource to be used for ligand-receptor inference.\n",
    "    \n",
    "                   # Method parameters\n",
    "                   expr_prop=0.1,                          # Minimum expression proportion for the ligands and receptors in the corresponding cell identities. \n",
    "                   verbose=True)                          # Print progress during execution.\n",
    "\n"
   ]
  },
  {
   "cell_type": "markdown",
   "id": "8f46ae1c",
   "metadata": {
    "vscode": {
     "languageId": "markdown"
    }
   },
   "source": [
    "## Description of output files\n",
    "By default, LIANA modifies the AnnData object in place, and stores the results under: adata.uns['liana_res']. This DataFrame contains the consensus interaction scores across all selected methods.\n",
    "Specifically, it includes:\n",
    "- source: Sender cell type (the cell expressing the ligand).\n",
    "- target: Receiver cell type (the cell expressing the receptor).\n",
    "- ligand_complex: Ligand name (subunits separated by _ if it’s a complex).\n",
    "- receptor_complex: Receptor name (similarly structured).\n",
    "- Method-specific scores: Columns with scores returned by individual methods (e.g., CellPhoneDBv2, Connectome, NATMI).\n",
    "    → Use li.mt.show_methods() to see which columns correspond to which method.\n",
    "- magnitude_rank: Robust consensus ranking of interaction strength across methods. Lower values indicate stronger and more consistent interactions.\n",
    "- specificity_rank: Robust consensus ranking of interaction specificity across methods."
   ]
  },
  {
   "cell_type": "code",
   "execution_count": null,
   "id": "2c451232",
   "metadata": {
    "vscode": {
     "languageId": "markdown"
    }
   },
   "outputs": [],
   "source": [
    "adata.uns['liana_res'].head()"
   ]
  },
  {
   "cell_type": "markdown",
   "id": "136eee23",
   "metadata": {
    "vscode": {
     "languageId": "markdown"
    }
   },
   "source": [
    "## Basic analysis and plotting\n",
    "LIANA provides built-in visualization tools to help explore and present cell–cell communication results. The plots are built using plotnine (a Python implementation of ggplot2), so they are highly customizable. To customize further (e.g., change fonts, labels, themes), you can assign the plot to a variable and modify it using plotnine syntax.\n",
    "\n",
    "\n",
    "**Dotplot of relevant interactions**: The dotplot is one of the key visualizations. It displays ligand–receptor pairs as dots. \n",
    "We’ll now plot the top-ranked interactions based on magnitude_rank from the aggregated consensus."
   ]
  },
  {
   "cell_type": "code",
   "execution_count": null,
   "id": "9b55963e",
   "metadata": {},
   "outputs": [],
   "source": [
    "li.pl.dotplot(adata = adata,                                                    # Annotated data object with LIANA results.\n",
    "              uns_key='liana_res',                                              # Key where LIANA results are stored in `adata.uns`.\n",
    "              colour='magnitude_rank',                                          # Dot color reflects interaction strength (magnitude).\n",
    "              size='specificity_rank',                                          # Dot size reflects interaction specificity.\n",
    "\n",
    "\n",
    "              # Filter interactions\n",
    "              source_labels=['CM', 'Fib', 'Endo'],                              # List of labels to use as `source`, the rest are filtered out.\n",
    "              target_labels=['Myeloid', 'Adipo'],                               # List of labels to use as `target`, the rest are filtered out.\n",
    "              ligand_complex = None,                                            # List of ligand complexes to filter the interactions to be plotted. \n",
    "              #receptor_complex = ['CD44'],                                     # List of receptor complexes to filter the interactions to be plotted.\n",
    "              top_n=10,                                                         # Show top 10 interactions based on `orderby` column.\n",
    "              orderby='magnitude_rank',                                         # specify how to order the interactions\n",
    "              orderby_ascending=True,                                           # specify how to order the interactions\n",
    "\n",
    "              # Visualization parameters\n",
    "              inverse_size=True,                                                # Whether to -log10 transform the size column for plotting. \n",
    "              inverse_colour=True,                                              # Whether to -log10 transform the colour column for plotting. \n",
    "              figure_size=(8, 7)                                                # Figure size\n",
    "             )"
   ]
  },
  {
   "cell_type": "markdown",
   "id": "6928e412",
   "metadata": {},
   "source": [
    "# Unexplored feature\n",
    "- **Cross-condition analysis**:\n",
    "LIANA+ supports comparative analysis of cell–cell communication across experimental conditions or sample groups through:\n",
    "    - Differential CCC analysis (hypothesis-driven): Leverages statistical frameworks like PyDESeq2 to identify significantly deregulated ligand–receptor interactions between conditions.\n",
    "    - Unsupervised discovery (hypothesis-free): Uses non-negative matrix factorization (NMF) or higher-order tensor factorizations (via Tensor-cell2cell) to uncover shared and condition-specific communication patterns across multiple samples.\n",
    "\n",
    "- **Intracellular signaling**\n",
    "LLIANA+ connects intercellular interactions to intracellular signalling pathways using sign-coherent network optimization. In particular, LIANA+ select the potentially deregulated ligand-receptor interactions (input nodes) and deregulated TFs (output nodes). Use CORNETO to identify a solution in the form of a causal (smallest sign-consistent signaling) network that explains the measured inputs and outputs\n",
    "\n",
    "- **Spatially-resolved data**\n",
    "LIANA+ incorporates spatial context in CCC analysis using:\n",
    "    - Multi-view learning frameworks to capture global (long-range tissue-level) communication patterns \n",
    "    - Local spatial metrics to capture local (neighboring cells) communication patterns \n",
    "\n",
    "- **Multi-modal single-cell ans spatially-resolved technlogies**\n",
    "LIANA+ is applicable to both dissociated single-cell and spatially resolved multi-omics data.\n"
   ]
  },
  {
   "cell_type": "markdown",
   "id": "7bd31714",
   "metadata": {},
   "source": [
    "# Citation\n",
    "\n",
    "\n",
    "- **LIANA**: *Comparison of methods and resources for cell-cell communication inference from single-cell RNA-Seq data. Dimitrov D, et al., Nat Commun. 2022*\n",
    "- **LIANA+**: *LIANA+ provides an all-in-one framework for cell–cell communication inference. Dimitrov D., et al. Nat Cell Biol. 2024*"
   ]
  }
 ],
 "metadata": {
  "kernelspec": {
   "display_name": "Python 3 (ipykernel)",
   "language": "python",
   "name": "python3"
  },
  "language_info": {
   "codemirror_mode": {
    "name": "ipython",
    "version": 3
   },
   "file_extension": ".py",
   "mimetype": "text/x-python",
   "name": "python",
   "nbconvert_exporter": "python",
   "pygments_lexer": "ipython3",
   "version": "3.10.12"
  }
 },
 "nbformat": 4,
 "nbformat_minor": 5
}
