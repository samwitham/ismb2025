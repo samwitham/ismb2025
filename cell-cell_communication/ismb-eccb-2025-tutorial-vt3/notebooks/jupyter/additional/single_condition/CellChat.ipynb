{
 "cells": [
  {
   "cell_type": "markdown",
   "id": "a9592a02",
   "metadata": {},
   "source": [
    "# Cell-cell communication with CellChat\n",
    "This notebook outlines the steps of inference, analysis and visualization of cell-cell communication for a single-cell RNA sequencing data using **CellChat**. \n",
    "\n",
    "For comprehensive instructions and detailed descriptions of the methods, please refer to the official [vignette](https://htmlpreview.github.io/?https://github.com/jinworks/CellChat/blob/master/tutorial/CellChat-vignette.html). A step-by-step protocol for cell-cell communication analysis using CellChat is now available at [Jin et al., Nature Protocols 2024](https://www.nature.com/articles/s41596-024-01045-4). \n",
    "\n",
    "The source code is available on GitHub: [jinworks/CellChat](https://github.com/jinworks/CellChat)."
   ]
  },
  {
   "cell_type": "markdown",
   "id": "4a6495a8",
   "metadata": {
    "vscode": {
     "languageId": "r"
    }
   },
   "source": [
    "## About CellChat and CellChatDB\n",
    "CellChat is an R package designed for inference, analysis, and visualization of cell-cell communication from single-cell data. CellChat aims to enable users to identify and interpret cell-cell communication within an easily interpretable framework, with the emphasis of clear, attractive, and interpretable visualizations.\n",
    "\n",
    "CellChatDB is a manually curated database of literature-supported ligand-receptor interactions in mutiple species, leading to a comprehensive recapitulation of known molecular interaction mechanisms including multi-subunit structure of ligand-receptor complexes and co-factors."
   ]
  },
  {
   "cell_type": "markdown",
   "id": "5ce15c3b-0419-4fb7-817f-ad1b674b0727",
   "metadata": {},
   "source": [
    "# Load the required libraries"
   ]
  },
  {
   "cell_type": "code",
   "execution_count": 1,
   "id": "faaf4a0d-ef62-4a5f-8a87-089f23306f12",
   "metadata": {
    "vscode": {
     "languageId": "r"
    }
   },
   "outputs": [
    {
     "name": "stderr",
     "output_type": "stream",
     "text": [
      "Loading required package: dplyr\n",
      "\n",
      "\n",
      "Attaching package: ‘dplyr’\n",
      "\n",
      "\n",
      "The following objects are masked from ‘package:stats’:\n",
      "\n",
      "    filter, lag\n",
      "\n",
      "\n",
      "The following objects are masked from ‘package:base’:\n",
      "\n",
      "    intersect, setdiff, setequal, union\n",
      "\n",
      "\n",
      "Loading required package: igraph\n",
      "\n",
      "\n",
      "Attaching package: ‘igraph’\n",
      "\n",
      "\n",
      "The following objects are masked from ‘package:dplyr’:\n",
      "\n",
      "    as_data_frame, groups, union\n",
      "\n",
      "\n",
      "The following objects are masked from ‘package:stats’:\n",
      "\n",
      "    decompose, spectrum\n",
      "\n",
      "\n",
      "The following object is masked from ‘package:base’:\n",
      "\n",
      "    union\n",
      "\n",
      "\n",
      "Loading required package: ggplot2\n",
      "\n",
      "Attaching SeuratObject\n",
      "\n",
      "‘SeuratObject’ was built under R 4.3.0 but the current version is\n",
      "4.3.1; it is recomended that you reinstall ‘SeuratObject’ as the ABI\n",
      "for R may have changed\n",
      "\n",
      "Seurat v4 was just loaded with SeuratObject v5; disabling v5 assays and\n",
      "validation routines, and ensuring assays work in strict v3/v4\n",
      "compatibility mode\n",
      "\n"
     ]
    }
   ],
   "source": [
    "library(CellChat)\n",
    "library(patchwork)\n",
    "library(Seurat)\n",
    "options(stringsAsFactors = FALSE)"
   ]
  },
  {
   "cell_type": "markdown",
   "id": "59c8f7a2-0297-4a23-9838-627c92804652",
   "metadata": {},
   "source": [
    "## Data input \n",
    "To initialize a CellChat object, it requires three mandatory inputs:\n",
    "- **counts matrix**: a normalized gene expression data.\n",
    "- **metadata**: a table linking each cell to its assigned cell labels\n",
    "- **ligand-receptor database**: containing all putative ligand–receptor pairs used for inference."
   ]
  },
  {
   "cell_type": "markdown",
   "id": "62371de9-9061-46c4-82bd-a4434db653f8",
   "metadata": {},
   "source": [
    "### Gene expression data matrix\n",
    "The gene expression data must be provided as matrix with genes in rows with rownames and cells in columns with colnames. Normalized data (e.g., library-size normalization and then log-transformed with a pseudocount of 1) is required as input for CellChat analysis. If user provides count data, they provide a normalizeData function to account for library size and then do log-transformed.\n"
   ]
  },
  {
   "cell_type": "code",
   "execution_count": 6,
   "id": "00eafa2e-3dd1-4c72-88a8-04ec1a413e4a",
   "metadata": {
    "vscode": {
     "languageId": "r"
    }
   },
   "outputs": [],
   "source": [
    "seurat_object <- readRDS(\"../../../../data_vt3/first/2306scRNAseq_HMI_Ischemic.rds\")\n",
    "\n",
    "gene_expr <- seurat_object[[\"RNA\"]]@data # normalized data matrix"
   ]
  },
  {
   "cell_type": "markdown",
   "id": "9063b681",
   "metadata": {},
   "source": [
    "### Metadata\n",
    "The cell group information must be provided as dataframe with one column with the cell labels and rownames identifing the cell."
   ]
  },
  {
   "cell_type": "code",
   "execution_count": 7,
   "id": "f3fda291",
   "metadata": {
    "vscode": {
     "languageId": "r"
    }
   },
   "outputs": [
    {
     "data": {
      "text/html": [
       "<table class=\"dataframe\">\n",
       "<caption>A data.frame: 6 × 1</caption>\n",
       "<thead>\n",
       "\t<tr><th></th><th scope=col>labels</th></tr>\n",
       "\t<tr><th></th><th scope=col>&lt;chr&gt;</th></tr>\n",
       "</thead>\n",
       "<tbody>\n",
       "\t<tr><th scope=row>AAACCCAAGTATGCAA-1_2_1_1_1_1_1_1_1</th><td>Fib</td></tr>\n",
       "\t<tr><th scope=row>AAACCCACAGAGAAAG-1_2_1_1_1_1_1_1_1</th><td>Fib</td></tr>\n",
       "\t<tr><th scope=row>AAACCCAGTCTTCCGT-1_2_1_1_1_1_1_1_1</th><td>Fib</td></tr>\n",
       "\t<tr><th scope=row>AAACCCATCAAGGCTT-1_2_1_1_1_1_1_1_1</th><td>Fib</td></tr>\n",
       "\t<tr><th scope=row>AAACGAAAGCTGTGCC-1_2_1_1_1_1_1_1_1</th><td>PC </td></tr>\n",
       "\t<tr><th scope=row>AAACGAACAGGTCCCA-1_2_1_1_1_1_1_1_1</th><td>Fib</td></tr>\n",
       "</tbody>\n",
       "</table>\n"
      ],
      "text/latex": [
       "A data.frame: 6 × 1\n",
       "\\begin{tabular}{r|l}\n",
       "  & labels\\\\\n",
       "  & <chr>\\\\\n",
       "\\hline\n",
       "\tAAACCCAAGTATGCAA-1\\_2\\_1\\_1\\_1\\_1\\_1\\_1\\_1 & Fib\\\\\n",
       "\tAAACCCACAGAGAAAG-1\\_2\\_1\\_1\\_1\\_1\\_1\\_1\\_1 & Fib\\\\\n",
       "\tAAACCCAGTCTTCCGT-1\\_2\\_1\\_1\\_1\\_1\\_1\\_1\\_1 & Fib\\\\\n",
       "\tAAACCCATCAAGGCTT-1\\_2\\_1\\_1\\_1\\_1\\_1\\_1\\_1 & Fib\\\\\n",
       "\tAAACGAAAGCTGTGCC-1\\_2\\_1\\_1\\_1\\_1\\_1\\_1\\_1 & PC \\\\\n",
       "\tAAACGAACAGGTCCCA-1\\_2\\_1\\_1\\_1\\_1\\_1\\_1\\_1 & Fib\\\\\n",
       "\\end{tabular}\n"
      ],
      "text/markdown": [
       "\n",
       "A data.frame: 6 × 1\n",
       "\n",
       "| <!--/--> | labels &lt;chr&gt; |\n",
       "|---|---|\n",
       "| AAACCCAAGTATGCAA-1_2_1_1_1_1_1_1_1 | Fib |\n",
       "| AAACCCACAGAGAAAG-1_2_1_1_1_1_1_1_1 | Fib |\n",
       "| AAACCCAGTCTTCCGT-1_2_1_1_1_1_1_1_1 | Fib |\n",
       "| AAACCCATCAAGGCTT-1_2_1_1_1_1_1_1_1 | Fib |\n",
       "| AAACGAAAGCTGTGCC-1_2_1_1_1_1_1_1_1 | PC  |\n",
       "| AAACGAACAGGTCCCA-1_2_1_1_1_1_1_1_1 | Fib |\n",
       "\n"
      ],
      "text/plain": [
       "                                   labels\n",
       "AAACCCAAGTATGCAA-1_2_1_1_1_1_1_1_1 Fib   \n",
       "AAACCCACAGAGAAAG-1_2_1_1_1_1_1_1_1 Fib   \n",
       "AAACCCAGTCTTCCGT-1_2_1_1_1_1_1_1_1 Fib   \n",
       "AAACCCATCAAGGCTT-1_2_1_1_1_1_1_1_1 Fib   \n",
       "AAACGAAAGCTGTGCC-1_2_1_1_1_1_1_1_1 PC    \n",
       "AAACGAACAGGTCCCA-1_2_1_1_1_1_1_1_1 Fib   "
      ]
     },
     "metadata": {},
     "output_type": "display_data"
    }
   ],
   "source": [
    "cell_metadata <- data.frame(labels = seurat_object@meta.data$cell_type, row.names = row.names(seurat_object@meta.data)) # cell metadata\n",
    "head(cell_metadata)"
   ]
  },
  {
   "cell_type": "code",
   "execution_count": 8,
   "id": "d9f7b417-11ff-4e3f-b5be-3d4cb8c85eab",
   "metadata": {
    "vscode": {
     "languageId": "r"
    }
   },
   "outputs": [
    {
     "data": {
      "text/html": [
       "<table class=\"dataframe\">\n",
       "<caption>A matrix: 2 × 6 of type dbl</caption>\n",
       "<thead>\n",
       "\t<tr><th></th><th scope=col>used</th><th scope=col>(Mb)</th><th scope=col>gc trigger</th><th scope=col>(Mb)</th><th scope=col>max used</th><th scope=col>(Mb)</th></tr>\n",
       "</thead>\n",
       "<tbody>\n",
       "\t<tr><th scope=row>Ncells</th><td> 5668991</td><td>302.8</td><td>  8833537</td><td>471.8</td><td> 8450899</td><td>451.4</td></tr>\n",
       "\t<tr><th scope=row>Vcells</th><td>38713435</td><td>295.4</td><td>118328399</td><td>902.8</td><td>98491020</td><td>751.5</td></tr>\n",
       "</tbody>\n",
       "</table>\n"
      ],
      "text/latex": [
       "A matrix: 2 × 6 of type dbl\n",
       "\\begin{tabular}{r|llllll}\n",
       "  & used & (Mb) & gc trigger & (Mb) & max used & (Mb)\\\\\n",
       "\\hline\n",
       "\tNcells &  5668991 & 302.8 &   8833537 & 471.8 &  8450899 & 451.4\\\\\n",
       "\tVcells & 38713435 & 295.4 & 118328399 & 902.8 & 98491020 & 751.5\\\\\n",
       "\\end{tabular}\n"
      ],
      "text/markdown": [
       "\n",
       "A matrix: 2 × 6 of type dbl\n",
       "\n",
       "| <!--/--> | used | (Mb) | gc trigger | (Mb) | max used | (Mb) |\n",
       "|---|---|---|---|---|---|---|\n",
       "| Ncells |  5668991 | 302.8 |   8833537 | 471.8 |  8450899 | 451.4 |\n",
       "| Vcells | 38713435 | 295.4 | 118328399 | 902.8 | 98491020 | 751.5 |\n",
       "\n"
      ],
      "text/plain": [
       "       used     (Mb)  gc trigger (Mb)  max used (Mb) \n",
       "Ncells  5668991 302.8   8833537  471.8  8450899 451.4\n",
       "Vcells 38713435 295.4 118328399  902.8 98491020 751.5"
      ]
     },
     "metadata": {},
     "output_type": "display_data"
    }
   ],
   "source": [
    "# save space\n",
    "rm(seurat_object)\n",
    "gc()"
   ]
  },
  {
   "cell_type": "markdown",
   "id": "f40c1845-9359-4cb8-8fa5-2516d7ef1b16",
   "metadata": {},
   "source": [
    "### Create a CellChat object\n",
    "To begin the analysis, we need to create a CellChat object, which serves as the central structure to store input data and hold the results of the cell–cell communication inference."
   ]
  },
  {
   "cell_type": "code",
   "execution_count": 9,
   "id": "65030376-0aeb-4e24-acfa-a78e1426e06d",
   "metadata": {
    "vscode": {
     "languageId": "r"
    }
   },
   "outputs": [
    {
     "name": "stdout",
     "output_type": "stream",
     "text": [
      "[1] \"Create a CellChat object from a data matrix\"\n"
     ]
    },
    {
     "name": "stderr",
     "output_type": "stream",
     "text": [
      "Warning message in createCellChat(object = gene_expr, meta = cell_metadata, group.by = \"labels\"):\n",
      "“The 'meta' data does not have a column named `samples`. We now add this column and all cells are assumed to belong to `sample1`! \n",
      "”\n"
     ]
    },
    {
     "name": "stdout",
     "output_type": "stream",
     "text": [
      "Set cell identities for the new CellChat object \n",
      "The cell groups used for CellChat analysis are  Adipo, CM, Endo, Fib, Lymphoid, Mast, Myeloid, PC, vSMCs \n"
     ]
    },
    {
     "data": {
      "text/plain": [
       "An object of class CellChat created from a single dataset \n",
       " 27416 genes.\n",
       " 14961 cells. \n",
       "CellChat analysis of single cell RNA-seq data! "
      ]
     },
     "metadata": {},
     "output_type": "display_data"
    }
   ],
   "source": [
    "cellchat <- createCellChat(object = gene_expr,            # a normalized data matrix\n",
    "                           meta = cell_metadata,          # a data frame (rows are cells with rownames) consisting of cell information,\n",
    "                           group.by = \"labels\")           # a char name of the variable in meta data, defining cell groups\n",
    "cellchat"
   ]
  },
  {
   "cell_type": "markdown",
   "id": "a42503cd-cb1d-4d2e-8d4f-b3e2f8e80b47",
   "metadata": {},
   "source": [
    "### Ligand-receptor interaction database: CellChatDB\n",
    "CellChatDB is a manually curated database of literature-supported ligand-receptor interactions in both human and mouse. CellChatDB v2 contains ~3,300 validated molecular interactions, including ~40% of secrete autocrine/paracrine signaling interactions, ~17% of extracellular matrix (ECM)-receptor interactions, ~13% of cell-cell contact interactions and ~30% non-protein signaling.\n",
    "Key features of CellChatDB include:\n",
    "- **Multimeric ligand-receptor complexes**: accurately represents the multisubunit structure of ligand–receptor complexes.\n",
    "- **Co-Factors**: includes both soluble and membrane-bound stimulatory or inhibitory co-factors, such as agonists, antagonists, and co-receptors.\n",
    "- **Metabolic and synaptic signaling**:  incorporates over 1,000 protein and non-protein interactions. For molecules not directly related to genes, CellChat v2 use those molecules’ key mediators or enzymes for potential communication mediated by non-proteins.\n",
    "\n",
    "\n",
    "Users can extend CellChatDB by adding their own curated ligand–receptor pairs. For detailed instructions, refer to the official [tutorial](https://htmlpreview.github.io/?https://github.com/jinworks/CellChat/blob/master/tutorial/Update-CellChatDB.html) on updating the CellChatDB ligand–receptor interaction database."
   ]
  },
  {
   "cell_type": "code",
   "execution_count": 10,
   "id": "cbb167ca-77be-44f8-9277-0276a2437d71",
   "metadata": {
    "vscode": {
     "languageId": "r"
    }
   },
   "outputs": [
    {
     "name": "stdout",
     "output_type": "stream",
     "text": [
      "Rows: 3,233\n",
      "Columns: 28\n",
      "$ interaction_name         \u001b[3m\u001b[90m<chr>\u001b[39m\u001b[23m \"TGFB1_TGFBR1_TGFBR2\", \"TGFB2_TGFBR1_TGFBR2\",…\n",
      "$ pathway_name             \u001b[3m\u001b[90m<chr>\u001b[39m\u001b[23m \"TGFb\", \"TGFb\", \"TGFb\", \"TGFb\", \"TGFb\", \"TGFb…\n",
      "$ ligand                   \u001b[3m\u001b[90m<chr>\u001b[39m\u001b[23m \"TGFB1\", \"TGFB2\", \"TGFB3\", \"TGFB1\", \"TGFB1\", …\n",
      "$ receptor                 \u001b[3m\u001b[90m<chr>\u001b[39m\u001b[23m \"TGFbR1_R2\", \"TGFbR1_R2\", \"TGFbR1_R2\", \"ACVR1…\n",
      "$ agonist                  \u001b[3m\u001b[90m<chr>\u001b[39m\u001b[23m \"TGFb agonist\", \"TGFb agonist\", \"TGFb agonist…\n",
      "$ antagonist               \u001b[3m\u001b[90m<chr>\u001b[39m\u001b[23m \"TGFb antagonist\", \"TGFb antagonist\", \"TGFb a…\n",
      "$ co_A_receptor            \u001b[3m\u001b[90m<chr>\u001b[39m\u001b[23m \"\", \"\", \"\", \"\", \"\", \"\", \"\", \"\", \"\", \"\", \"\", \"…\n",
      "$ co_I_receptor            \u001b[3m\u001b[90m<chr>\u001b[39m\u001b[23m \"TGFb inhibition receptor\", \"TGFb inhibition …\n",
      "$ annotation               \u001b[3m\u001b[90m<chr>\u001b[39m\u001b[23m \"Secreted Signaling\", \"Secreted Signaling\", \"…\n",
      "$ interaction_name_2       \u001b[3m\u001b[90m<chr>\u001b[39m\u001b[23m \"TGFB1 - (TGFBR1+TGFBR2)\", \"TGFB2 - (TGFBR1+T…\n",
      "$ evidence                 \u001b[3m\u001b[90m<chr>\u001b[39m\u001b[23m \"KEGG: hsa04350\", \"KEGG: hsa04350\", \"KEGG: hs…\n",
      "$ is_neurotransmitter      \u001b[3m\u001b[90m<chr>\u001b[39m\u001b[23m \"FALSE\", \"FALSE\", \"FALSE\", \"FALSE\", \"FALSE\", …\n",
      "$ ligand.symbol            \u001b[3m\u001b[90m<chr>\u001b[39m\u001b[23m \"TGFB1\", \"TGFB2\", \"TGFB3\", \"TGFB1\", \"TGFB1\", …\n",
      "$ ligand.family            \u001b[3m\u001b[90m<chr>\u001b[39m\u001b[23m \"TGF-beta\", \"TGF-beta\", \"TGF-beta\", \"TGF-beta…\n",
      "$ ligand.location          \u001b[3m\u001b[90m<chr>\u001b[39m\u001b[23m \"Extracellular matrix, Secreted, Extracellula…\n",
      "$ ligand.keyword           \u001b[3m\u001b[90m<chr>\u001b[39m\u001b[23m \"Disease variant, Signal, Reference proteome,…\n",
      "$ ligand.secreted_type     \u001b[3m\u001b[90m<chr>\u001b[39m\u001b[23m \"growth factor\", \"growth factor\", \"cytokine;g…\n",
      "$ ligand.transmembrane     \u001b[3m\u001b[90m<chr>\u001b[39m\u001b[23m \"FALSE\", \"FALSE\", \"TRUE\", \"FALSE\", \"FALSE\", \"…\n",
      "$ receptor.symbol          \u001b[3m\u001b[90m<chr>\u001b[39m\u001b[23m \"TGFBR2, TGFBR1\", \"TGFBR2, TGFBR1\", \"TGFBR2, …\n",
      "$ receptor.family          \u001b[3m\u001b[90m<chr>\u001b[39m\u001b[23m \"Protein kinase superfamily, TKL Ser/Thr prot…\n",
      "$ receptor.location        \u001b[3m\u001b[90m<chr>\u001b[39m\u001b[23m \"Cell membrane, Secreted, Membrane raft, Cell…\n",
      "$ receptor.keyword         \u001b[3m\u001b[90m<chr>\u001b[39m\u001b[23m \"Membrane, Secreted, Disulfide bond, Kinase, …\n",
      "$ receptor.surfaceome_main \u001b[3m\u001b[90m<chr>\u001b[39m\u001b[23m \"Receptors\", \"Receptors\", \"Receptors\", \"Recep…\n",
      "$ receptor.surfaceome_sub  \u001b[3m\u001b[90m<chr>\u001b[39m\u001b[23m \"Act.TGFB;Kinase\", \"Act.TGFB;Kinase\", \"Act.TG…\n",
      "$ receptor.adhesome        \u001b[3m\u001b[90m<chr>\u001b[39m\u001b[23m \"\", \"\", \"\", \"\", \"\", \"\", \"\", \"\", \"\", \"\", \"\", \"…\n",
      "$ receptor.secreted_type   \u001b[3m\u001b[90m<chr>\u001b[39m\u001b[23m \"\", \"\", \"\", \"\", \"\", \"\", \"\", \"\", \"\", \"\", \"\", \"…\n",
      "$ receptor.transmembrane   \u001b[3m\u001b[90m<chr>\u001b[39m\u001b[23m \"TRUE\", \"TRUE\", \"TRUE\", \"TRUE\", \"TRUE\", \"TRUE…\n",
      "$ version                  \u001b[3m\u001b[90m<chr>\u001b[39m\u001b[23m \"CellChatDB v1\", \"CellChatDB v1\", \"CellChatDB…\n"
     ]
    }
   ],
   "source": [
    "CellChatDB <- CellChatDB.human\n",
    "\n",
    "# Show the structure of the database\n",
    "dplyr::glimpse(CellChatDB$interaction)"
   ]
  },
  {
   "cell_type": "code",
   "execution_count": 11,
   "id": "fbdc0aab-610b-493e-89c9-55783df62fa3",
   "metadata": {
    "vscode": {
     "languageId": "r"
    }
   },
   "outputs": [],
   "source": [
    "# use all CellChatDB except for \"Non-protein Signaling\" for cell-cell communication analysis\n",
    "CellChatDB.use <- subsetDB(CellChatDB,              # database\n",
    "                           key = \"annotation\",      # A character vector indicating columns names of database\n",
    "                           non_protein = FALSE)     # whether to use the non-protein signaling for CellChat analysis (e.g. synaptic signaling interactions)\n",
    "\n",
    "# set the used database in the object\n",
    "cellchat@DB <- CellChatDB.use"
   ]
  },
  {
   "cell_type": "markdown",
   "id": "b01c21be-fabc-4c7c-8695-841b6fbdf983",
   "metadata": {},
   "source": [
    "# Inference of cell-cell communication"
   ]
  },
  {
   "cell_type": "markdown",
   "id": "7258448d-7011-4d49-883c-967aadf495ba",
   "metadata": {},
   "source": [
    "CellChat infers biologically significant cell–cell communication events by assigning a probability value to each interaction and performing permutation testing to identify cell-type pair–specific signaling interactions. It models the probability of communication by integrating gene expression data with prior knowledge of interactions between signaling ligands, receptors, and their cofactors, based on the law of mass action.\n",
    "\n",
    "To infer cell state–specific communications, CellChat follows a multi-step procedure:\n",
    "\n",
    "- **Identification of Overexpressed Ligands and Receptors**:\n",
    "To detect cell group–specific signaling, CellChat first identifies differentially expressed signaling genes across all cell groups. Only ligand–receptor pairs for which either the ligand or the receptor is overexpressed are considered for downstream analysis.\n",
    "\n",
    "- **Average Gene Expression Estimation**: By default, CellChat uses a robust mean method called the trimean, which incorporates the first, second (median), and third quartiles of expression levels. Alternatively, users can choose a truncated mean approach for computing average expression.\n",
    "\n",
    "- **Intercellular Communication Probability**:\n",
    "Signaling probability is modeled using the law of mass action, based on the average expression of ligands and receptors in the respective cell groups. This model also incorporates the effects of:         \n",
    "    - Co-stimulatory and co-inhibitory receptors that modulate receptor activation\n",
    "    - Extracellular agonists and antagonists that influence ligand–receptor binding\n",
    "    - Cell group proportions, which are taken into account for cell abundance\n",
    "\n",
    "- **Multi-Subunit Complexes**:\n",
    "    For ligand or receptor complexes composed of multiple subunits, CellChat calculates the geometric mean of subunit expression to estimate complex-level activity.\n",
    "\n",
    "- **Statistical Testing**:\n",
    "Cell group labels are randomly permuted (default: 100 permutations), and communication probabilities are recomputed to generate a null distribution. A p-value is then calculated as the proportion of null values equal to or exceeding the observed communication probability. This p-value reflects the specificity of a given interaction for a particular cell-type pair.\n",
    "\n",
    "This takes quite some time to run (**around 2 hours**)."
   ]
  },
  {
   "cell_type": "code",
   "execution_count": null,
   "id": "1ef1cfef-f6a6-4d98-a513-738524f2db15",
   "metadata": {
    "vscode": {
     "languageId": "r"
    }
   },
   "outputs": [
    {
     "name": "stdout",
     "output_type": "stream",
     "text": [
      "The number of highly variable ligand-receptor pairs used for signaling inference is 1326 \n",
      "triMean is used for calculating the average gene expression per cell group. \n",
      "[1] \">>> Run CellChat on sc/snRNA-seq data <<< [2025-07-15 10:04:00.465005]\"\n"
     ]
    }
   ],
   "source": [
    "# subset the expression data of signaling genes for saving computation cost\n",
    "cellchat <- subsetData(cellchat) \n",
    "\n",
    "# set parallelism\n",
    "future::plan(\"multisession\", workers = 10)\n",
    "options(future.globals.maxSize= 800*1024^2)\n",
    "\n",
    "# identify overexpressed genes and ligand-receptor pairs\n",
    "cellchat <- identifyOverExpressedGenes(cellchat)\n",
    "cellchat <- identifyOverExpressedInteractions(cellchat)\n",
    "\n",
    "# infer cellular communication network\n",
    "cellchat <- computeCommunProb(\n",
    "    object = cellchat,                  # CellChat object\n",
    "    type = \"triMean\",                   # Methods for computing the average gene expression per cell group.\n",
    "    population.size = TRUE,             # Whether consider the proportion of cells in each group across all sequenced cells,\n",
    "    nboot = 100)"
   ]
  },
  {
   "cell_type": "markdown",
   "id": "527b8467-de0c-4828-8750-a0fe31802a07",
   "metadata": {},
   "source": [
    "Users can filter out the cell-cell communication if there are only few cells in certain cell groups. By default, the minimum number of cells required in each cell group for cell-cell communication is 10."
   ]
  },
  {
   "cell_type": "code",
   "execution_count": null,
   "id": "c3c91749-ee2b-45f8-8eb2-faed47a0bcfc",
   "metadata": {
    "vscode": {
     "languageId": "r"
    }
   },
   "outputs": [],
   "source": [
    "cellchat <- filterCommunication(cellchat, min.cells = 10)"
   ]
  },
  {
   "cell_type": "markdown",
   "id": "75870080-028d-42cd-98d4-1350156cd48c",
   "metadata": {},
   "source": [
    "# Description of output"
   ]
  },
  {
   "cell_type": "markdown",
   "id": "9d805edb-596a-413c-88b6-bf5366578454",
   "metadata": {},
   "source": [
    "The inference results are stored in the net slot of the CellChat object. This slot contains a list of two three-dimensional arrays, structured as follows:\n",
    "- Dimensions: Source cell group (sender) x Target cell group (receiver) x Ligand–receptor interaction pair\n",
    "- Contents:\n",
    "    - 'prob': Contains interaction probabilities, representing the strength of communication between cell type pairs.\n",
    "    - 'pval': Contains p-values indicating the statistical significance of each predicted interaction.\n",
    "\n",
    "These arrays allow users to extract and explore both the magnitude and confidence of inferred cell–cell communication for any specific source–target–interaction combination."
   ]
  },
  {
   "cell_type": "code",
   "execution_count": null,
   "id": "b58a4ca7-242e-4270-ba2e-63128b1dc4f3",
   "metadata": {
    "vscode": {
     "languageId": "r"
    }
   },
   "outputs": [],
   "source": [
    "# View the structure of net\n",
    "head(cellchat@net)\n",
    "\n",
    "# Extract the communication probability matrix for the first ligand–receptor (LR) pair\n",
    "head(cellchat@net$prob[,,856])"
   ]
  },
  {
   "cell_type": "markdown",
   "id": "8a4afdef-f208-4fd7-8c91-dd2bce61a5d0",
   "metadata": {
    "vscode": {
     "languageId": "r"
    }
   },
   "source": [
    "## Interpreting and visualizing the outputs\n",
    "\n",
    "### Extract the inferred cellular communication network\n",
    "CellChat’s subsetCommunication() function allows you to extract and filter the inferred ligand–receptor interactions between cell groups. The output is a data.frame containing details such as source, target, ligand, receptor, interaction probability, p-value, and pathway.\n",
    "\n",
    "You can filter interactions based on sender/receiver cell groups, signaling pathways, or statistical thresholds like p-values or differential expression metrics for ligand and receptors.\n",
    "\n"
   ]
  },
  {
   "cell_type": "code",
   "execution_count": null,
   "id": "3ef8bd4b",
   "metadata": {
    "vscode": {
     "languageId": "r"
    }
   },
   "outputs": [],
   "source": [
    "# all inferred cell-cell communications at level of ligands/receptors\n",
    "head(subsetCommunication(cellchat))\n",
    "\n",
    "# subset the cell-cell communication\n",
    "head(subsetCommunication(cellchat,\n",
    "                        sources.use = c(\"CM\", \"Fib\"),               # a vector giving the index or the name of source cell groups\n",
    "                        targets.use = c(\"Adipo\", \"Endo\"),           # a vector giving the index or the name of target cell groups\n",
    "                        signaling = c(\"EGF\")))                      # a character vector giving the name of signaling pathways of interest\n"
   ]
  },
  {
   "cell_type": "markdown",
   "id": "1cfa5e2d",
   "metadata": {},
   "source": [
    "### Basic analysis and plotting\n",
    "CellChat computes the overall cell–cell communication network by either: i) Counting the number of interactions, or ii) Summarizing the communication probabilities across ligand–receptor pairs.\n",
    "\n",
    "Return an updated CellChat object with net\n",
    "- obj@net\\$count is a matrix: rows and columns are sources and targets respectively, and elements are the number of interactions between any two cell groups. \n",
    "- obj@net$weight is also a matrix containing the interaction weights between any two cell groups\n",
    "\n",
    "> To evaluate communication at the signaling pathway level, CellChat provides the computeCommunProbPathway() function. This function summarizes the communication probabilities of all ligand–receptor interactions associated with a given signaling pathway, based on annotations in the ligand–receptor database. The output is stored in the netP slot of the CellChat object. **It is important to note that this analysis only captures intercellular communication and does not model intracellular signaling pathways.**\n",
    "\n"
   ]
  },
  {
   "cell_type": "code",
   "execution_count": null,
   "id": "fd84a9ac",
   "metadata": {
    "vscode": {
     "languageId": "r"
    }
   },
   "outputs": [],
   "source": [
    "cellchat <- aggregateNet(cellchat)\n",
    "cellchat@net$count"
   ]
  },
  {
   "cell_type": "markdown",
   "id": "db90a9b5",
   "metadata": {
    "vscode": {
     "languageId": "r"
    }
   },
   "source": [
    "### Circle plot: Visualizing Interaction Counts or Strength\n",
    "These aggregated interactions can be visualized using a circle plot, where each node represents a cell group and the edges indicate communication between them. The width of the edges reflects the strength of the interaction (\"counts\" or \"weight\"), while the size of each node can be scaled according to the number of cells in the corresponding group."
   ]
  },
  {
   "cell_type": "code",
   "execution_count": null,
   "id": "0e28a7bb",
   "metadata": {
    "vscode": {
     "languageId": "r"
    }
   },
   "outputs": [],
   "source": [
    "# Calculate the size (number of cells) of each cell group\n",
    "groupSize <- as.numeric(table(cellchat@idents))\n",
    "\n",
    "# Generate a circle plot to visualize the number of interactions between cell groups\n",
    "netVisual_circle(cellchat@net$count,                # A weighted matrix representing the connections\n",
    "                vertex.weight = groupSize,          # Set node sizes\n",
    "                weight.scale = T,                   # Scale edge weights for visualization clarity\n",
    "                label.edge = T,                     # Whether or not shows the label of edges\n",
    "                title.name = \"Number of interactions\")          # Title of the plot\n",
    "\n",
    "# Generate a circle plot to visualize the weights between cell groups\n",
    "netVisual_circle(cellchat@net$weight,                # A weighted matrix representing the connections\n",
    "                vertex.weight = groupSize,          # Set node sizes\n",
    "                weight.scale = T,                   # Scale edge weights for visualization clarity\n",
    "                label.edge = T,                     # Whether or not shows the label of edges\n",
    "                title.name = \"Interaction weights/strength\")        # Title of the plot\n"
   ]
  },
  {
   "cell_type": "markdown",
   "id": "eb90de78",
   "metadata": {
    "vscode": {
     "languageId": "r"
    }
   },
   "source": [
    "### Heatmap: Visualizing Interaction Counts or Strength\n",
    "The heatmap provides a detailed view of cell–cell communication by displaying either the number of interactions or the interaction strength (communication probability) between each pair of cell groups. \n",
    "To aid interpretation, two summary bar plots are included:\n",
    "- The top bar plot shows the total incoming interactions for each target group by summing the values in each column.\n",
    "- The right-side bar plot displays the total outgoing interactions from each source group by summing the values in each row.\n",
    "\n",
    "The heatmap can be particularly useful for identifying dominant communication hubs and asymmetric interactions.\n",
    "Depending on the analysis focus, users can choose to display: 'counts' or 'weights'"
   ]
  },
  {
   "cell_type": "code",
   "execution_count": null,
   "id": "6f638352",
   "metadata": {
    "vscode": {
     "languageId": "r"
    }
   },
   "outputs": [],
   "source": [
    "netVisual_heatmap(\n",
    "  object = cellchat,                          # CellChat object\n",
    "  measure = c(\"count\"),                       # \"count\" (number of interactions) or \"weight\" (total interaction stregth)\n",
    "  signaling = NULL,                           # a character vector giving the name of signaling networks\n",
    "  slot.name = c( \"net\"),                      # the slot name of object: \n",
    "                                                 # slot.name = \"net\" when visualizing links at the level of ligands/receptors; \n",
    "                                                 # slot.name = \"netP\" when visualizing links at the level of signaling pathways\n",
    "  title.name = \"Number of interactions\",      # the name of the title\n",
    "  cluster.rows = TRUE,                       # whether cluster rows\n",
    "  cluster.cols = TRUE,                       # whether cluster columns\n",
    ")"
   ]
  },
  {
   "cell_type": "markdown",
   "id": "e39ab492",
   "metadata": {
    "vscode": {
     "languageId": "r"
    }
   },
   "source": [
    "### Bubble plot: Significant Ligand-Receptor interactions\n",
    "To visualize significant ligand–receptor (L–R) interactions between cell groups, CellChat provides the netVisual_bubble function. This plot effectively summarizes how different cell types communicate through specific signaling molecules.\n",
    "Each bubble in the plot represents a ligand–receptor pair involved in communication from a source (sending) group to a target (receiving) group.\n",
    "- The x-axis denotes the interacting cell group pair\n",
    "- The y-axis lists the L–R pairs.\n",
    "- Bubble color indicates the interaction strength (i.e., the communication probability).\n",
    "- Bubble size reflects the statistical significance\n",
    "You can customize the plot to filter for specific signaling pathways, senders, or receivers."
   ]
  },
  {
   "cell_type": "code",
   "execution_count": null,
   "id": "1d0c809f",
   "metadata": {
    "vscode": {
     "languageId": "r"
    }
   },
   "outputs": [],
   "source": [
    "netVisual_bubble(cellchat,                                  # CellChat object\n",
    "                sources.use = \"Fib\",                        # a vector giving the index or the name of source cell groups\n",
    "                targets.use = c(\"CM\", \"Endo\", \"Myeloid\"),   # a vector giving the index or the name of target cell groups.\n",
    "                thresh = 0.05,                              # threshold of the p-value for determining significant interaction\n",
    "                signaling = \"COLLAGEN\",                     # a character vector giving the name of signaling pathways of interest\n",
    "                title.name = \"\"\t                            # title name of the plot\n",
    "                ) "
   ]
  },
  {
   "cell_type": "markdown",
   "id": "d8ccc51a",
   "metadata": {
    "vscode": {
     "languageId": "r"
    }
   },
   "source": [
    "### Chord diagram\n",
    "Similar to Bubble plot, CellChat provides a function netVisual_chord_gene for drawing Chord diagram to show all the interactions (L-R pairs or signaling pathways) from some cell groups to other cell groups.\n",
    "- each sector on the outer ring represents either a ligand, receptor, or signaling pathway, depending on the chosen level of analysis.\n",
    "- the color of each edge is based on the source (sender) group\n",
    "- the thickness of the edge reflects the interaction strength (i.e. thicker edge line indicates a stronger signal)\n",
    "- each inner bar is colored according to the target group that receives the signal."
   ]
  },
  {
   "cell_type": "code",
   "execution_count": null,
   "id": "82d831ca",
   "metadata": {
    "vscode": {
     "languageId": "r"
    }
   },
   "outputs": [],
   "source": [
    "netVisual_chord_gene(cellchat,                                  # CellChat object\n",
    "                    signaling = NULL,                           # a character vector giving the name of signaling networks\n",
    "                    slot.name = \"net\",                          # the slot name of object: \n",
    "                                                                # slot.name = \"net\" when visualizing links at the level of ligands/receptors; \n",
    "                                                                # slot.name = \"netP\" when visualizing links at the level of signaling pathways\n",
    "                    sources.use = \"Fib\",                        # a vector giving the index or the name of source cell groups\n",
    "                    targets.use = c(\"CM\", \"Endo\"),              # a vector giving the index or the name of target cell groups.\n",
    "                    thresh = 0.05,                              # threshold of the p-value for determining significant interaction\n",
    "                    title.name = \"\"\t                            # title name of the plot\n",
    "                    )                      "
   ]
  },
  {
   "cell_type": "markdown",
   "id": "6ba6d47e",
   "metadata": {},
   "source": [
    "# Unexplored feature\n",
    "- **Multiple visualization and Network Interpretation**\n",
    "Beyond basic interaction plots, CellChat offers advanced tools for exploring high-order features of inferred communication networks. It integrates methods from social network analysis, pattern recognition, and manifold learning to provide a deeper understanding of the structure and organization of cell–cell communication.\n",
    "\n",
    "- **Comparative analysis**\n",
    "CellChat supports comparative analysis to assess how cell–cell communication networks change across different biological conditions (e.g., disease vs. healthy, treated vs. untreated). Using quantitative contrasts and joint manifold learning, it can identify significant differences in signaling activity, communication strength, and network topology.\n",
    "\n",
    "- **Spatially resolved omics data**:\n",
    "CellChat allow the inference of spatially proximal cell-cell communication between interacting cell groups from spatially resolved transcriptomics"
   ]
  },
  {
   "cell_type": "markdown",
   "id": "e1aee263",
   "metadata": {
    "vscode": {
     "languageId": "r"
    }
   },
   "source": [
    "# Citation\n",
    "\n",
    "- **CellChat v1**: *Inference and analysis of cell-cell communication using CellChat. Suoqin Jin et al., Nat. Comm. 2021* li\n",
    "- **CellChat v2**: *CellChat for systematic analysis of cell–cell communication from single-cell transcriptomics. Suoqin Jin et al. Nat Protoc. 2024*\n"
   ]
  }
 ],
 "metadata": {
  "kernelspec": {
   "display_name": "R",
   "language": "R",
   "name": "ir"
  },
  "language_info": {
   "codemirror_mode": "r",
   "file_extension": ".r",
   "mimetype": "text/x-r-source",
   "name": "R",
   "pygments_lexer": "r",
   "version": "4.3.1"
  }
 },
 "nbformat": 4,
 "nbformat_minor": 5
}
