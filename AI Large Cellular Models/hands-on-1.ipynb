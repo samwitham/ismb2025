{
 "cells": [
  {
   "cell_type": "markdown",
   "metadata": {},
   "source": [
    "Install dependencies"
   ]
  },
  {
   "cell_type": "code",
   "execution_count": null,
   "metadata": {
    "trusted": true
   },
   "outputs": [],
   "source": [
    "%pip install torchkeras\n",
    "%pip install accelerate\n",
    "%pip install captum\n",
    "%pip install scanpy\n",
    "%pip install loguru\n",
    "%pip install transformers==4.30.2"
   ]
  },
  {
   "cell_type": "markdown",
   "metadata": {},
   "source": [
    "## Part 1 Build a basic neural network model"
   ]
  },
  {
   "cell_type": "markdown",
   "metadata": {},
   "source": [
    "Here we use simple MLP model as an example. "
   ]
  },
  {
   "cell_type": "code",
   "execution_count": 1,
   "metadata": {
    "execution": {
     "iopub.execute_input": "2025-06-23T12:03:29.738881Z",
     "iopub.status.busy": "2025-06-23T12:03:29.738673Z",
     "iopub.status.idle": "2025-06-23T12:03:34.081227Z",
     "shell.execute_reply": "2025-06-23T12:03:34.080370Z",
     "shell.execute_reply.started": "2025-06-23T12:03:29.738863Z"
    },
    "trusted": true
   },
   "outputs": [],
   "source": [
    "import os\n",
    "import sys\n",
    "import math\n",
    "import torch\n",
    "import random\n",
    "import warnings\n",
    "import numpy as np\n",
    "import torch.nn as nn\n",
    "import torch.nn.functional as F\n",
    "# sys.path.append('/kaggle/input/utils-file')\n",
    "# from utils import *\n",
    "\n",
    "\n",
    "warnings.filterwarnings(\"ignore\")"
   ]
  },
  {
   "cell_type": "code",
   "execution_count": 2,
   "metadata": {
    "execution": {
     "iopub.execute_input": "2025-06-23T12:03:38.234080Z",
     "iopub.status.busy": "2025-06-23T12:03:38.233618Z",
     "iopub.status.idle": "2025-06-23T12:03:38.238494Z",
     "shell.execute_reply": "2025-06-23T12:03:38.237803Z",
     "shell.execute_reply.started": "2025-06-23T12:03:38.234055Z"
    },
    "trusted": true
   },
   "outputs": [],
   "source": [
    "class MLP(nn.Module):\n",
    "    # A simple MLP example\n",
    "    def __init__(self, d_input, d_hidden, d_output):\n",
    "        super(MLP, self).__init__()\n",
    "        self.linear1 = nn.Linear(d_input, d_hidden)\n",
    "        self.activation = nn.ReLU()\n",
    "        self.linear2 = nn.Linear(d_hidden, d_output)\n",
    "\n",
    "    def forward(self, x):\n",
    "        x = self.linear1(x)\n",
    "        x = self.activation(x)\n",
    "        x = self.linear2(x)\n",
    "        return x"
   ]
  },
  {
   "cell_type": "code",
   "execution_count": 3,
   "metadata": {
    "execution": {
     "iopub.execute_input": "2025-06-23T12:03:41.221347Z",
     "iopub.status.busy": "2025-06-23T12:03:41.220830Z",
     "iopub.status.idle": "2025-06-23T12:03:41.248813Z",
     "shell.execute_reply": "2025-06-23T12:03:41.248272Z",
     "shell.execute_reply.started": "2025-06-23T12:03:41.221322Z"
    },
    "trusted": true
   },
   "outputs": [
    {
     "name": "stdout",
     "output_type": "stream",
     "text": [
      "MLP(\n",
      "  (linear1): Linear(in_features=128, out_features=64, bias=True)\n",
      "  (activation): ReLU()\n",
      "  (linear2): Linear(in_features=64, out_features=2, bias=True)\n",
      ")\n"
     ]
    }
   ],
   "source": [
    "mlp = MLP(d_input=128, d_hidden=64, d_output=2)\n",
    "print(mlp)"
   ]
  },
  {
   "cell_type": "code",
   "execution_count": 4,
   "metadata": {
    "execution": {
     "iopub.execute_input": "2025-06-18T08:58:33.173222Z",
     "iopub.status.busy": "2025-06-18T08:58:33.172701Z",
     "iopub.status.idle": "2025-06-18T08:58:33.178287Z",
     "shell.execute_reply": "2025-06-18T08:58:33.177554Z",
     "shell.execute_reply.started": "2025-06-18T08:58:33.173193Z"
    },
    "trusted": true
   },
   "outputs": [],
   "source": [
    "class TransformerEncoderLayer(nn.Module):\n",
    "    # TransformerEncoderLayer is made up of self-attn and feed forward (defined below)\n",
    "    def __init__(self, size, self_attn, feed_forward, dropout):\n",
    "        super(TransformerEncoderLayer, self).__init__()\n",
    "        self.self_attn = self_attn\n",
    "        self.feed_forward = feed_forward  # Here is an instance of the FFN\n",
    "        self.res_layers = clones(ResConnection(size, dropout), 2)\n",
    "        self.size = size\n",
    "\n",
    "    def forward(self, x, mask):\n",
    "        x = self.res_layers[0](x, lambda x: self.self_attn(x, x, x, mask))\n",
    "        return self.res_layers[1](x, self.feed_forward)"
   ]
  },
  {
   "cell_type": "markdown",
   "metadata": {},
   "source": [
    "## Part 2 Train a toy Transformer model for string summation"
   ]
  },
  {
   "cell_type": "markdown",
   "metadata": {},
   "source": [
    "Here we will use Transformer to do a simple task: computing numerical summation from strings of numbers."
   ]
  },
  {
   "cell_type": "code",
   "execution_count": 5,
   "metadata": {
    "execution": {
     "iopub.execute_input": "2025-06-18T08:58:37.145792Z",
     "iopub.status.busy": "2025-06-18T08:58:37.145122Z",
     "iopub.status.idle": "2025-06-18T08:58:58.172121Z",
     "shell.execute_reply": "2025-06-18T08:58:58.171558Z",
     "shell.execute_reply.started": "2025-06-18T08:58:37.145770Z"
    },
    "trusted": true
   },
   "outputs": [
    {
     "name": "stderr",
     "output_type": "stream",
     "text": [
      "2025-06-18 08:58:45.964083: E external/local_xla/xla/stream_executor/cuda/cuda_fft.cc:477] Unable to register cuFFT factory: Attempting to register factory for plugin cuFFT when one has already been registered\n",
      "WARNING: All log messages before absl::InitializeLog() is called are written to STDERR\n",
      "E0000 00:00:1750237126.166954      35 cuda_dnn.cc:8310] Unable to register cuDNN factory: Attempting to register factory for plugin cuDNN when one has already been registered\n",
      "E0000 00:00:1750237126.227929      35 cuda_blas.cc:1418] Unable to register cuBLAS factory: Attempting to register factory for plugin cuBLAS when one has already been registered\n"
     ]
    }
   ],
   "source": [
    "import torch\n",
    "from utils import *\n",
    "from torch.optim import Adam\n",
    "from torchmetrics import Accuracy \n",
    "from torchkeras import KerasModel\n",
    "from torch.utils.data import Dataset, DataLoader"
   ]
  },
  {
   "cell_type": "markdown",
   "metadata": {},
   "source": [
    "### 3.1 Define vocabulary and dataset"
   ]
  },
  {
   "cell_type": "code",
   "execution_count": 6,
   "metadata": {
    "execution": {
     "iopub.execute_input": "2025-06-18T08:59:01.953872Z",
     "iopub.status.busy": "2025-06-18T08:59:01.952778Z",
     "iopub.status.idle": "2025-06-18T08:59:01.964086Z",
     "shell.execute_reply": "2025-06-18T08:59:01.963382Z",
     "shell.execute_reply.started": "2025-06-18T08:59:01.953844Z"
    },
    "trusted": true
   },
   "outputs": [],
   "source": [
    "# vocabulary for input sequence\n",
    "words_x = '<PAD>,1,2,3,4,5,6,7,8,9,0,<SOS>,<EOS>,+'\n",
    "vocab_x = {word: i for i, word in enumerate(words_x.split(','))}\n",
    "vocab_xr = [k for k, v in vocab_x.items()]  # dictionary for reverse lookup\n",
    "\n",
    "# vocabulary for output sequence\n",
    "words_y = '<PAD>,1,2,3,4,5,6,7,8,9,0,<SOS>,<EOS>'\n",
    "vocab_y = {word: i for i, word in enumerate(words_y.split(','))}\n",
    "vocab_yr = [k for k, v in vocab_y.items()]  # dictionary for reverse lookup\n",
    "\n",
    "\n",
    "def get_data():\n",
    "    words = ['0', '1', '2', '3', '4', '5', '6', '7', '8', '9']\n",
    "    p = np.array([7, 5, 5, 7, 6, 5, 7, 6, 5, 7])\n",
    "    p = p / p.sum()\n",
    "\n",
    "    # randomly sample n1 words as the first addition number\n",
    "    n1 = random.randint(10, 20)\n",
    "    s1 = np.random.choice(words, size=n1, replace=True, p=p)\n",
    "    s1 = s1.tolist()\n",
    "\n",
    "    # randomly sample n2 words as the second addition number\n",
    "    n2 = random.randint(10, 20)\n",
    "    s2 = np.random.choice(words, size=n2, replace=True, p=p)\n",
    "    s2 = s2.tolist()\n",
    "\n",
    "    # the input sequence\n",
    "    x = s1 + ['+'] + s2\n",
    "    \n",
    "    # the ground truth output sequence\n",
    "    y = int(''.join(s1)) + int(''.join(s2))\n",
    "    y = list(str(y))\n",
    "    \n",
    "    # add start of sentence (SOS) and end of sentence (EOS)\n",
    "    x = ['<SOS>'] + x + ['<EOS>']\n",
    "    y = ['<SOS>'] + y + ['<EOS>']\n",
    "\n",
    "    # use <PAD> to ensure fixed sequence length\n",
    "    x = x + ['<PAD>'] * 50\n",
    "    y = y + ['<PAD>'] * 51\n",
    "    x = x[:50]\n",
    "    y = y[:51]\n",
    "\n",
    "    # tokenization: transform words into id\n",
    "    token_x = [vocab_x[i] for i in x]\n",
    "    token_y = [vocab_y[i] for i in y]\n",
    "\n",
    "    # convert to tensor\n",
    "    tensor_x = torch.LongTensor(token_x)\n",
    "    tensor_y = torch.LongTensor(token_y)\n",
    "    return tensor_x, tensor_y\n",
    "\n",
    "\n",
    "class TwoSumDataset(Dataset):\n",
    "    def __init__(self, size=100000):\n",
    "        super(Dataset, self).__init__()\n",
    "        self.size = size\n",
    "\n",
    "    def __len__(self):\n",
    "        return self.size\n",
    "\n",
    "    def __getitem__(self, i):\n",
    "        return get_data()\n",
    "\n",
    "\n",
    "ds_train = TwoSumDataset(size=100000)\n",
    "ds_val = TwoSumDataset(size=10000)\n",
    "dl_train = DataLoader(dataset=ds_train, batch_size=200, drop_last=True, shuffle=True)\n",
    "dl_val = DataLoader(dataset=ds_val, batch_size=200, drop_last=True, shuffle=False)"
   ]
  },
  {
   "cell_type": "markdown",
   "metadata": {},
   "source": [
    "### 3.2 Initialize a Transformer model"
   ]
  },
  {
   "cell_type": "code",
   "execution_count": 7,
   "metadata": {
    "execution": {
     "iopub.execute_input": "2025-06-18T08:59:05.235334Z",
     "iopub.status.busy": "2025-06-18T08:59:05.235026Z",
     "iopub.status.idle": "2025-06-18T08:59:05.295276Z",
     "shell.execute_reply": "2025-06-18T08:59:05.294700Z",
     "shell.execute_reply.started": "2025-06-18T08:59:05.235312Z"
    },
    "trusted": true
   },
   "outputs": [],
   "source": [
    "KerasModel.StepRunner = StepRunner\n",
    "net = Transformer.from_config(src_vocab=len(vocab_x), tgt_vocab=len(vocab_y), N=5, d_model=64, d_ff=128, h=8, dropout=0.1)\n",
    "loss_fn = LabelSmoothingLoss(size=len(vocab_y), padding_idx=0, smoothing=0.1)\n",
    "metrics_dict = {'acc': Accuracy(task='multiclass', num_classes=len(vocab_y))} \n",
    "optimizer = NoamOpt(net.parameters(), model_size=64)"
   ]
  },
  {
   "cell_type": "markdown",
   "metadata": {},
   "source": [
    "### 3.3 Train and test the Transformer model"
   ]
  },
  {
   "cell_type": "markdown",
   "metadata": {},
   "source": [
    "Typically train such a model takes about 0.5-1 hour on an Nvidia A100 80G GPU. Due to limitation of computational resources, we set training epochs as 1 as a demonstration, and use pretrained model weights for model testing."
   ]
  },
  {
   "cell_type": "code",
   "execution_count": 8,
   "metadata": {
    "execution": {
     "iopub.execute_input": "2025-06-18T08:59:10.201118Z",
     "iopub.status.busy": "2025-06-18T08:59:10.200835Z",
     "iopub.status.idle": "2025-06-18T08:59:59.485953Z",
     "shell.execute_reply": "2025-06-18T08:59:59.485144Z",
     "shell.execute_reply.started": "2025-06-18T08:59:10.201097Z"
    },
    "trusted": true
   },
   "outputs": [
    {
     "name": "stdout",
     "output_type": "stream",
     "text": [
      "\u001b[0;31m<<<<<< ⚡️ cuda is used >>>>>>\u001b[0m\n"
     ]
    },
    {
     "data": {
      "image/png": "[encoded data removed]",
      "text/plain": [
       "<Figure size 600x400 with 1 Axes>"
      ]
     },
     "metadata": {},
     "output_type": "display_data"
    },
    {
     "data": {
      "text/html": [
       "\n",
       "<style>\n",
       "    /* background: */\n",
       "    progress::-webkit-progress-bar {background-color: #CDCDCD; width: 100%;}\n",
       "    progress {background-color: #CDCDCD;}\n",
       "\n",
       "    /* value: */\n",
       "    progress::-webkit-progress-value {background-color: #00BFFF  !important;}\n",
       "    progress::-moz-progress-bar {background-color: #00BFFF  !important;}\n",
       "    progress {color: #00BFFF ;}\n",
       "\n",
       "    /* optional */\n",
       "    .progress-bar-interrupted, .progress-bar-interrupted::-webkit-progress-bar {\n",
       "        background: #000000;\n",
       "    }\n",
       "</style>\n"
      ],
      "text/plain": [
       "<IPython.core.display.HTML object>"
      ]
     },
     "metadata": {},
     "output_type": "display_data"
    },
    {
     "data": {
      "text/html": [
       "\n",
       "    <div>\n",
       "      <progress value='1' class='' max='1' style='width:300px; height:20px; vertical-align: middle;'></progress>\n",
       "      100% [1/1] [00:48]\n",
       "      <br>\n",
       "      ████████████████████100.00% [50/50] [val_loss=1.7575, val_acc=0.1570]\n",
       "    </div>\n",
       "    "
      ],
      "text/plain": [
       "<IPython.core.display.HTML object>"
      ]
     },
     "metadata": {},
     "output_type": "display_data"
    },
    {
     "data": {
      "text/html": [
       "<div>\n",
       "<style scoped>\n",
       "    .dataframe tbody tr th:only-of-type {\n",
       "        vertical-align: middle;\n",
       "    }\n",
       "\n",
       "    .dataframe tbody tr th {\n",
       "        vertical-align: top;\n",
       "    }\n",
       "\n",
       "    .dataframe thead th {\n",
       "        text-align: right;\n",
       "    }\n",
       "</style>\n",
       "<table border=\"1\" class=\"dataframe\">\n",
       "  <thead>\n",
       "    <tr style=\"text-align: right;\">\n",
       "      <th></th>\n",
       "      <th>epoch</th>\n",
       "      <th>train_loss</th>\n",
       "      <th>train_acc</th>\n",
       "      <th>lr</th>\n",
       "      <th>val_loss</th>\n",
       "      <th>val_acc</th>\n",
       "    </tr>\n",
       "  </thead>\n",
       "  <tbody>\n",
       "    <tr>\n",
       "      <th>0</th>\n",
       "      <td>1</td>\n",
       "      <td>1.936962</td>\n",
       "      <td>0.115523</td>\n",
       "      <td>0.000247</td>\n",
       "      <td>1.757492</td>\n",
       "      <td>0.157036</td>\n",
       "    </tr>\n",
       "  </tbody>\n",
       "</table>\n",
       "</div>"
      ],
      "text/plain": [
       "   epoch  train_loss  train_acc        lr  val_loss   val_acc\n",
       "0      1    1.936962   0.115523  0.000247  1.757492  0.157036"
      ]
     },
     "execution_count": 8,
     "metadata": {},
     "output_type": "execute_result"
    }
   ],
   "source": [
    "model = KerasModel(net, loss_fn=loss_fn, metrics_dict=metrics_dict, optimizer=optimizer)\n",
    "model.fit(\n",
    "    train_data=dl_train, val_data=dl_val,\n",
    "    epochs=1, ckpt_path='checkpoint', patience=10,  # if you wish to train from scratch, change epochs to 100 and try it later\n",
    "    monitor='val_acc', mode='max',\n",
    "    callbacks=None, plot=True\n",
    ")"
   ]
  },
  {
   "cell_type": "markdown",
   "metadata": {},
   "source": [
    "Here we provided the pretrained weights of the Transformer model, which is trained under 100 epochs."
   ]
  },
  {
   "cell_type": "code",
   "execution_count": 9,
   "metadata": {
    "execution": {
     "iopub.execute_input": "2025-06-18T09:00:09.401985Z",
     "iopub.status.busy": "2025-06-18T09:00:09.401698Z",
     "iopub.status.idle": "2025-06-18T09:00:09.965128Z",
     "shell.execute_reply": "2025-06-18T09:00:09.964371Z",
     "shell.execute_reply.started": "2025-06-18T09:00:09.401964Z"
    },
    "trusted": true
   },
   "outputs": [
    {
     "name": "stdout",
     "output_type": "stream",
     "text": [
      "input:\n",
      "2379867372359540300+880945029912 \n",
      "\n",
      "ground truth:\n",
      "2379868253304570212 \n",
      "\n",
      "prediction:\n",
      "2379868253304570212\n"
     ]
    }
   ],
   "source": [
    "model.load_ckpt(\"/kaggle/input/sum-ckpt/pytorch/default/1/sum-ckpt.pth\")\n",
    "net = model.net\n",
    "net.eval()\n",
    "\n",
    "def prepare(x, accelerator=model.accelerator):\n",
    "    return x.to(accelerator.device)\n",
    "\n",
    "net = prepare(net)\n",
    "src, tgt = get_data()\n",
    "src, tgt = prepare(src), prepare(tgt)\n",
    "mbatch = MaskedBatch(src=src.unsqueeze(dim=0), tgt=tgt.unsqueeze(dim=0))\n",
    "\n",
    "y_pred = greedy_decode(net, mbatch.src, mbatch.src_mask, 50, vocab_y[\"<SOS>\"])\n",
    "print(\"input:\")\n",
    "print(get_words(mbatch.src[0], vocab_xr),'\\n')\n",
    "print(\"ground truth:\")\n",
    "print(get_words(mbatch.tgt[0], vocab_yr),'\\n')\n",
    "print(\"prediction:\")\n",
    "print(get_words(y_pred[0], vocab_yr))"
   ]
  },
  {
   "cell_type": "markdown",
   "metadata": {},
   "source": [
    "## Part 3 Install and use pretrained LCM for cell type annotation"
   ]
  },
  {
   "cell_type": "markdown",
   "metadata": {},
   "source": [
    "Here, we use scMulan to annotate cell types in Heart, Lung, Liver, Bone marrow, Blood, Brain, and Thymus. \n",
    "\n",
    "We provide a liver dataset sampled (percentage of 20%) from Suo C, 2022 (doi/10.1126/science.abo0510), which can be downloaded from https://cloud.tsinghua.edu.cn/f/45a7fd2a27e543539f59/?dl=1.\n",
    "\n",
    "Pretrained model weights of scMulan can be downloaded from https://cloud.tsinghua.edu.cn/f/2250c5df51034b2e9a85/?dl=1."
   ]
  },
  {
   "cell_type": "code",
   "execution_count": null,
   "metadata": {
    "execution": {
     "execution_failed": "2025-06-18T09:16:45.475Z",
     "iopub.execute_input": "2025-06-18T09:00:17.708853Z",
     "iopub.status.busy": "2025-06-18T09:00:17.708578Z"
    },
    "trusted": true
   },
   "outputs": [],
   "source": [
    "sys.path.append(\"/kaggle/input/scmulan\")\n",
    "import scMulan\n",
    "import scanpy as sc\n",
    "from scMulan import GeneSymbolUniform"
   ]
  },
  {
   "cell_type": "markdown",
   "metadata": {},
   "source": [
    "### 3.1 Load the .h5ad file of the liver dataset\n",
    "It's recommended that you use h5ad here with raw count (and after your QC). Here we directly load adata with processed gene symbols. Due to limitation of computational resources, we use a 5% subsampled dataset as a demonstration."
   ]
  },
  {
   "cell_type": "code",
   "execution_count": null,
   "metadata": {
    "execution": {
     "execution_failed": "2025-06-18T09:16:45.475Z"
    },
    "trusted": true
   },
   "outputs": [],
   "source": [
    "adata_GS_uniformed = sc.read_h5ad('/kaggle/input/liver-uniformed-subsampled/liver_uniformed_subsampled.h5ad')"
   ]
  },
  {
   "cell_type": "code",
   "execution_count": null,
   "metadata": {
    "execution": {
     "execution_failed": "2025-06-18T09:16:45.475Z"
    },
    "trusted": true
   },
   "outputs": [],
   "source": [
    "adata_GS_uniformed"
   ]
  },
  {
   "cell_type": "code",
   "execution_count": null,
   "metadata": {
    "execution": {
     "iopub.execute_input": "2025-06-18T06:44:49.983507Z",
     "iopub.status.busy": "2025-06-18T06:44:49.983229Z",
     "iopub.status.idle": "2025-06-18T06:44:49.994356Z",
     "shell.execute_reply": "2025-06-18T06:44:49.993573Z",
     "shell.execute_reply.started": "2025-06-18T06:44:49.983488Z"
    },
    "trusted": true
   },
   "outputs": [],
   "source": [
    "# norm and log1p count matrix\n",
    "if adata_GS_uniformed.X.max() > 10:\n",
    "    sc.pp.normalize_total(adata_GS_uniformed, target_sum=1e4) \n",
    "    sc.pp.log1p(adata_GS_uniformed)"
   ]
  },
  {
   "cell_type": "markdown",
   "metadata": {},
   "source": [
    "### 3.2 Launch the pretrained scMulan model"
   ]
  },
  {
   "cell_type": "code",
   "execution_count": null,
   "metadata": {
    "execution": {
     "iopub.execute_input": "2025-06-18T06:44:54.318133Z",
     "iopub.status.busy": "2025-06-18T06:44:54.317441Z",
     "iopub.status.idle": "2025-06-18T06:44:54.321397Z",
     "shell.execute_reply": "2025-06-18T06:44:54.320691Z",
     "shell.execute_reply.started": "2025-06-18T06:44:54.318109Z"
    },
    "trusted": true
   },
   "outputs": [],
   "source": [
    "# you should first download ckpt from https://cloud.tsinghua.edu.cn/f/2250c5df51034b2e9a85/?dl=1\n",
    "# put it under .ckpt/ckpt_scMulan.pt\n",
    "# by: wget https://cloud.tsinghua.edu.cn/f/2250c5df51034b2e9a85/?dl=1  -O ckpt/ckpt_scMulan.pt\n",
    "\n",
    "ckp_path = '/kaggle/input/scmulan-ckpt/pytorch/default/1/ckpt_scMulan.pth'\n",
    "meta_info_path = '/kaggle/input/scmulan/scMulan/utils/meta_info.pt'"
   ]
  },
  {
   "cell_type": "code",
   "execution_count": null,
   "metadata": {
    "execution": {
     "iopub.execute_input": "2025-06-18T06:44:56.086195Z",
     "iopub.status.busy": "2025-06-18T06:44:56.085512Z",
     "iopub.status.idle": "2025-06-18T06:45:01.247823Z",
     "shell.execute_reply": "2025-06-18T06:45:01.247166Z",
     "shell.execute_reply.started": "2025-06-18T06:44:56.086168Z"
    },
    "scrolled": true,
    "trusted": true
   },
   "outputs": [],
   "source": [
    "scml = scMulan.model_inference(ckp_path, adata_GS_uniformed, meta_info_path=meta_info_path)\n",
    "base_process = scml.cuda_count()"
   ]
  },
  {
   "cell_type": "code",
   "execution_count": null,
   "metadata": {
    "execution": {
     "iopub.execute_input": "2025-06-18T06:45:04.218872Z",
     "iopub.status.busy": "2025-06-18T06:45:04.218596Z",
     "iopub.status.idle": "2025-06-18T06:47:52.582300Z",
     "shell.execute_reply": "2025-06-18T06:47:52.581589Z",
     "shell.execute_reply.started": "2025-06-18T06:45:04.218852Z"
    },
    "trusted": true
   },
   "outputs": [],
   "source": [
    "scml.get_cell_types_and_embds_for_adata(parallel=True, n_process = base_process)"
   ]
  },
  {
   "cell_type": "markdown",
   "metadata": {},
   "source": [
    "The predicted cell types are stored in scml.adata.obs['cell_type_from_scMulan'], besides the cell embeddings (for multibatch integration) in scml.adata.obsm['X_scMulan'] (not used in this tutorial)."
   ]
  },
  {
   "cell_type": "markdown",
   "metadata": {},
   "source": [
    "### 3.3 Visualize the cell type annotation results of scMulan"
   ]
  },
  {
   "cell_type": "code",
   "execution_count": null,
   "metadata": {
    "execution": {
     "iopub.execute_input": "2025-06-18T06:48:12.957695Z",
     "iopub.status.busy": "2025-06-18T06:48:12.957021Z",
     "iopub.status.idle": "2025-06-18T06:48:12.965551Z",
     "shell.execute_reply": "2025-06-18T06:48:12.964848Z",
     "shell.execute_reply.started": "2025-06-18T06:48:12.957676Z"
    },
    "trusted": true
   },
   "outputs": [],
   "source": [
    "adata_mulan = scml.adata.copy()"
   ]
  },
  {
   "cell_type": "code",
   "execution_count": null,
   "metadata": {
    "execution": {
     "iopub.execute_input": "2025-06-18T06:48:15.554016Z",
     "iopub.status.busy": "2025-06-18T06:48:15.553459Z",
     "iopub.status.idle": "2025-06-18T06:48:50.826471Z",
     "shell.execute_reply": "2025-06-18T06:48:50.825714Z",
     "shell.execute_reply.started": "2025-06-18T06:48:15.553992Z"
    },
    "scrolled": true,
    "trusted": true
   },
   "outputs": [],
   "source": [
    "sc.pp.pca(adata_mulan)\n",
    "sc.pp.neighbors(adata_mulan, n_pcs=10)\n",
    "sc.tl.umap(adata_mulan)"
   ]
  },
  {
   "cell_type": "code",
   "execution_count": null,
   "metadata": {
    "execution": {
     "iopub.execute_input": "2025-06-18T06:49:00.600508Z",
     "iopub.status.busy": "2025-06-18T06:49:00.599374Z",
     "iopub.status.idle": "2025-06-18T06:49:01.510702Z",
     "shell.execute_reply": "2025-06-18T06:49:01.510133Z",
     "shell.execute_reply.started": "2025-06-18T06:49:00.600479Z"
    },
    "trusted": true
   },
   "outputs": [],
   "source": [
    "# you can run smoothing function to filter the false positives\n",
    "scMulan.cell_type_smoothing(adata_mulan, threshold=0.1)"
   ]
  },
  {
   "cell_type": "code",
   "execution_count": null,
   "metadata": {
    "execution": {
     "iopub.execute_input": "2025-06-18T06:49:21.791919Z",
     "iopub.status.busy": "2025-06-18T06:49:21.791220Z",
     "iopub.status.idle": "2025-06-18T06:49:24.237536Z",
     "shell.execute_reply": "2025-06-18T06:49:24.236778Z",
     "shell.execute_reply.started": "2025-06-18T06:49:21.791882Z"
    },
    "scrolled": true,
    "trusted": true
   },
   "outputs": [],
   "source": [
    "# cell_type_from_scMulan: pred\n",
    "# cell_type_from_mulan_smoothing: pred+smoothing\n",
    "# original_name: original annotations by the authors\n",
    "# cell_type: cell types in hECA-10M that maps original_name to uHAF\n",
    "\n",
    "sc.pl.umap(adata_mulan,color=[\"cell_type_from_scMulan\",\"cell_type_from_mulan_smoothing\",\n",
    "                              'cell_type','original_name'],ncols=1)"
   ]
  }
 ],
 "metadata": {
  "kaggle": {
   "accelerator": "gpu",
   "dataSources": [
    {
     "datasetId": 7685891,
     "sourceId": 12201592,
     "sourceType": "datasetVersion"
    },
    {
     "datasetId": 7686555,
     "sourceId": 12202548,
     "sourceType": "datasetVersion"
    },
    {
     "datasetId": 7686656,
     "sourceId": 12202695,
     "sourceType": "datasetVersion"
    },
    {
     "datasetId": 7686893,
     "sourceId": 12203009,
     "sourceType": "datasetVersion"
    },
    {
     "isSourceIdPinned": false,
     "modelId": 379254,
     "modelInstanceId": 357914,
     "sourceId": 438695,
     "sourceType": "modelInstanceVersion"
    },
    {
     "isSourceIdPinned": true,
     "modelId": 379290,
     "modelInstanceId": 357953,
     "sourceId": 438743,
     "sourceType": "modelInstanceVersion"
    }
   ],
   "dockerImageVersionId": 31040,
   "isGpuEnabled": true,
   "isInternetEnabled": true,
   "language": "python",
   "sourceType": "notebook"
  },
  "kernelspec": {
   "display_name": "scpram",
   "language": "python",
   "name": "python3"
  },
  "language_info": {
   "codemirror_mode": {
    "name": "ipython",
    "version": 3
   },
   "file_extension": ".py",
   "mimetype": "text/x-python",
   "name": "python",
   "nbconvert_exporter": "python",
   "pygments_lexer": "ipython3",
   "version": "3.8.0"
  }
 },
 "nbformat": 4,
 "nbformat_minor": 4
}
